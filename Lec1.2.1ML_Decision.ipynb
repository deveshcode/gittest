{
 "cells": [
  {
   "cell_type": "markdown",
   "metadata": {},
   "source": [
    "<div style=\"text-align: right\">INFO 6106 Neural Modeling, Lecture 1</div>\n",
    "<div style=\"text-align: right\">Dino Konstantopoulos, 12 January 2023, with material by Andy Giese</div>"
   ]
  },
  {
   "cell_type": "code",
   "execution_count": 3,
   "metadata": {},
   "outputs": [],
   "source": [
    "# !pip install --upgrade nbformat"
   ]
  },
  {
   "cell_type": "code",
   "execution_count": 9,
   "metadata": {},
   "outputs": [
    {
     "name": "stdout",
     "output_type": "stream",
     "text": [
      "Notebook is valid!\n"
     ]
    },
    {
     "ename": "ValidationError",
     "evalue": "No schema for validating v1 notebooks",
     "output_type": "error",
     "traceback": [
      "\u001b[0;31m---------------------------------------------------------------------------\u001b[0m",
      "\u001b[0;31mValidationError\u001b[0m                           Traceback (most recent call last)",
      "Input \u001b[0;32mIn [9]\u001b[0m, in \u001b[0;36m<cell line: 27>\u001b[0;34m()\u001b[0m\n\u001b[1;32m     27\u001b[0m \u001b[38;5;28;01mfor\u001b[39;00m cell \u001b[38;5;129;01min\u001b[39;00m nb\u001b[38;5;241m.\u001b[39mcells:\n\u001b[1;32m     28\u001b[0m     \u001b[38;5;28;01mif\u001b[39;00m cell\u001b[38;5;241m.\u001b[39mcell_type \u001b[38;5;241m==\u001b[39m \u001b[38;5;124m'\u001b[39m\u001b[38;5;124mmarkdown\u001b[39m\u001b[38;5;124m'\u001b[39m:\n\u001b[0;32m---> 29\u001b[0m         markdown \u001b[38;5;241m+\u001b[39m\u001b[38;5;241m=\u001b[39m \u001b[43mmarkdown_exporter\u001b[49m\u001b[38;5;241;43m.\u001b[39;49m\u001b[43mfrom_notebook_node\u001b[49m\u001b[43m(\u001b[49m\u001b[43mcell\u001b[49m\u001b[43m)\u001b[49m[\u001b[38;5;241m0\u001b[39m]\n\u001b[1;32m     30\u001b[0m markdown \u001b[38;5;241m=\u001b[39m markdown\u001b[38;5;241m.\u001b[39mreplace(\u001b[38;5;124m'\u001b[39m\u001b[38;5;124m<p>\u001b[39m\u001b[38;5;124m'\u001b[39m, \u001b[38;5;124m'\u001b[39m\u001b[38;5;124m<p style=\u001b[39m\u001b[38;5;124m\"\u001b[39m\u001b[38;5;124mfont-size:80\u001b[39m\u001b[38;5;124m%\u001b[39m\u001b[38;5;124m\"\u001b[39m\u001b[38;5;124m>\u001b[39m\u001b[38;5;124m'\u001b[39m)\n\u001b[1;32m     32\u001b[0m \u001b[38;5;66;03m# Save markdown cells to file\u001b[39;00m\n",
      "File \u001b[0;32m~/opt/anaconda3/lib/python3.9/site-packages/nbconvert/exporters/templateexporter.py:376\u001b[0m, in \u001b[0;36mTemplateExporter.from_notebook_node\u001b[0;34m(self, nb, resources, **kw)\u001b[0m\n\u001b[1;32m    364\u001b[0m \u001b[38;5;28;01mdef\u001b[39;00m \u001b[38;5;21mfrom_notebook_node\u001b[39m(\u001b[38;5;28mself\u001b[39m, nb, resources\u001b[38;5;241m=\u001b[39m\u001b[38;5;28;01mNone\u001b[39;00m, \u001b[38;5;241m*\u001b[39m\u001b[38;5;241m*\u001b[39mkw):\n\u001b[1;32m    365\u001b[0m     \u001b[38;5;124;03m\"\"\"\u001b[39;00m\n\u001b[1;32m    366\u001b[0m \u001b[38;5;124;03m    Convert a notebook from a notebook node instance.\u001b[39;00m\n\u001b[1;32m    367\u001b[0m \n\u001b[0;32m   (...)\u001b[0m\n\u001b[1;32m    374\u001b[0m \u001b[38;5;124;03m        preprocessors and filters.\u001b[39;00m\n\u001b[1;32m    375\u001b[0m \u001b[38;5;124;03m    \"\"\"\u001b[39;00m\n\u001b[0;32m--> 376\u001b[0m     nb_copy, resources \u001b[38;5;241m=\u001b[39m \u001b[38;5;28;43msuper\u001b[39;49m\u001b[43m(\u001b[49m\u001b[43m)\u001b[49m\u001b[38;5;241;43m.\u001b[39;49m\u001b[43mfrom_notebook_node\u001b[49m\u001b[43m(\u001b[49m\u001b[43mnb\u001b[49m\u001b[43m,\u001b[49m\u001b[43m \u001b[49m\u001b[43mresources\u001b[49m\u001b[43m,\u001b[49m\u001b[43m \u001b[49m\u001b[38;5;241;43m*\u001b[39;49m\u001b[38;5;241;43m*\u001b[39;49m\u001b[43mkw\u001b[49m\u001b[43m)\u001b[49m\n\u001b[1;32m    377\u001b[0m     resources\u001b[38;5;241m.\u001b[39msetdefault(\u001b[38;5;124m'\u001b[39m\u001b[38;5;124mraw_mimetypes\u001b[39m\u001b[38;5;124m'\u001b[39m, \u001b[38;5;28mself\u001b[39m\u001b[38;5;241m.\u001b[39mraw_mimetypes)\n\u001b[1;32m    378\u001b[0m     resources[\u001b[38;5;124m'\u001b[39m\u001b[38;5;124mglobal_content_filter\u001b[39m\u001b[38;5;124m'\u001b[39m] \u001b[38;5;241m=\u001b[39m {\n\u001b[1;32m    379\u001b[0m             \u001b[38;5;124m'\u001b[39m\u001b[38;5;124minclude_code\u001b[39m\u001b[38;5;124m'\u001b[39m: \u001b[38;5;129;01mnot\u001b[39;00m \u001b[38;5;28mself\u001b[39m\u001b[38;5;241m.\u001b[39mexclude_code_cell,\n\u001b[1;32m    380\u001b[0m             \u001b[38;5;124m'\u001b[39m\u001b[38;5;124minclude_markdown\u001b[39m\u001b[38;5;124m'\u001b[39m: \u001b[38;5;129;01mnot\u001b[39;00m \u001b[38;5;28mself\u001b[39m\u001b[38;5;241m.\u001b[39mexclude_markdown,\n\u001b[0;32m   (...)\u001b[0m\n\u001b[1;32m    388\u001b[0m             \u001b[38;5;124m'\u001b[39m\u001b[38;5;124mno_prompt\u001b[39m\u001b[38;5;124m'\u001b[39m: \u001b[38;5;28mself\u001b[39m\u001b[38;5;241m.\u001b[39mexclude_input_prompt \u001b[38;5;129;01mand\u001b[39;00m \u001b[38;5;28mself\u001b[39m\u001b[38;5;241m.\u001b[39mexclude_output_prompt,\n\u001b[1;32m    389\u001b[0m             }\n",
      "File \u001b[0;32m~/opt/anaconda3/lib/python3.9/site-packages/nbconvert/exporters/exporter.py:147\u001b[0m, in \u001b[0;36mExporter.from_notebook_node\u001b[0;34m(self, nb, resources, **kw)\u001b[0m\n\u001b[1;32m    144\u001b[0m     resources[\u001b[38;5;124m'\u001b[39m\u001b[38;5;124mlanguage\u001b[39m\u001b[38;5;124m'\u001b[39m] \u001b[38;5;241m=\u001b[39m nb[\u001b[38;5;124m'\u001b[39m\u001b[38;5;124mmetadata\u001b[39m\u001b[38;5;124m'\u001b[39m][\u001b[38;5;124m'\u001b[39m\u001b[38;5;124mlanguage\u001b[39m\u001b[38;5;124m'\u001b[39m]\u001b[38;5;241m.\u001b[39mlower()\n\u001b[1;32m    146\u001b[0m \u001b[38;5;66;03m# Preprocess\u001b[39;00m\n\u001b[0;32m--> 147\u001b[0m nb_copy, resources \u001b[38;5;241m=\u001b[39m \u001b[38;5;28;43mself\u001b[39;49m\u001b[38;5;241;43m.\u001b[39;49m\u001b[43m_preprocess\u001b[49m\u001b[43m(\u001b[49m\u001b[43mnb_copy\u001b[49m\u001b[43m,\u001b[49m\u001b[43m \u001b[49m\u001b[43mresources\u001b[49m\u001b[43m)\u001b[49m\n\u001b[1;32m    148\u001b[0m notebook_name \u001b[38;5;241m=\u001b[39m \u001b[38;5;124m'\u001b[39m\u001b[38;5;124m'\u001b[39m\n\u001b[1;32m    149\u001b[0m \u001b[38;5;28;01mif\u001b[39;00m resources \u001b[38;5;129;01mis\u001b[39;00m \u001b[38;5;129;01mnot\u001b[39;00m \u001b[38;5;28;01mNone\u001b[39;00m:\n",
      "File \u001b[0;32m~/opt/anaconda3/lib/python3.9/site-packages/nbconvert/exporters/exporter.py:336\u001b[0m, in \u001b[0;36mExporter._preprocess\u001b[0;34m(self, nb, resources)\u001b[0m\n\u001b[1;32m    334\u001b[0m     nbc, resc \u001b[38;5;241m=\u001b[39m preprocessor(nbc, resc)\n\u001b[1;32m    335\u001b[0m     \u001b[38;5;28;01mif\u001b[39;00m \u001b[38;5;129;01mnot\u001b[39;00m \u001b[38;5;28mself\u001b[39m\u001b[38;5;241m.\u001b[39moptimistic_validation:\n\u001b[0;32m--> 336\u001b[0m         \u001b[38;5;28;43mself\u001b[39;49m\u001b[38;5;241;43m.\u001b[39;49m\u001b[43m_validate_preprocessor\u001b[49m\u001b[43m(\u001b[49m\u001b[43mnbc\u001b[49m\u001b[43m,\u001b[49m\u001b[43m \u001b[49m\u001b[43mpreprocessor\u001b[49m\u001b[43m)\u001b[49m\n\u001b[1;32m    338\u001b[0m \u001b[38;5;28;01mif\u001b[39;00m \u001b[38;5;28mself\u001b[39m\u001b[38;5;241m.\u001b[39moptimistic_validation:\n\u001b[1;32m    339\u001b[0m   \u001b[38;5;28mself\u001b[39m\u001b[38;5;241m.\u001b[39m_validate_preprocessor(nbc, preprocessor) \n",
      "File \u001b[0;32m~/opt/anaconda3/lib/python3.9/site-packages/nbconvert/exporters/exporter.py:305\u001b[0m, in \u001b[0;36mExporter._validate_preprocessor\u001b[0;34m(self, nbc, preprocessor)\u001b[0m\n\u001b[1;32m    303\u001b[0m \u001b[38;5;28;01mdef\u001b[39;00m \u001b[38;5;21m_validate_preprocessor\u001b[39m(\u001b[38;5;28mself\u001b[39m, nbc, preprocessor):\n\u001b[1;32m    304\u001b[0m     \u001b[38;5;28;01mtry\u001b[39;00m:\n\u001b[0;32m--> 305\u001b[0m         \u001b[43mnbformat\u001b[49m\u001b[38;5;241;43m.\u001b[39;49m\u001b[43mvalidate\u001b[49m\u001b[43m(\u001b[49m\u001b[43mnbc\u001b[49m\u001b[43m,\u001b[49m\u001b[43m \u001b[49m\u001b[43mrelax_add_props\u001b[49m\u001b[38;5;241;43m=\u001b[39;49m\u001b[38;5;28;43;01mTrue\u001b[39;49;00m\u001b[43m)\u001b[49m\n\u001b[1;32m    306\u001b[0m     \u001b[38;5;28;01mexcept\u001b[39;00m nbformat\u001b[38;5;241m.\u001b[39mValidationError:\n\u001b[1;32m    307\u001b[0m         \u001b[38;5;28mself\u001b[39m\u001b[38;5;241m.\u001b[39mlog\u001b[38;5;241m.\u001b[39merror(\u001b[38;5;124m'\u001b[39m\u001b[38;5;124mNotebook is invalid after preprocessor \u001b[39m\u001b[38;5;132;01m%s\u001b[39;00m\u001b[38;5;124m'\u001b[39m,\n\u001b[1;32m    308\u001b[0m                            preprocessor)\n",
      "File \u001b[0;32m~/opt/anaconda3/lib/python3.9/site-packages/nbformat/validator.py:503\u001b[0m, in \u001b[0;36mvalidate\u001b[0;34m(nbdict, ref, version, version_minor, relax_add_props, nbjson, repair_duplicate_cell_ids, strip_invalid_metadata)\u001b[0m\n\u001b[1;32m    485\u001b[0m     _normalize(\n\u001b[1;32m    486\u001b[0m         nbdict,\n\u001b[1;32m    487\u001b[0m         version,\n\u001b[0;32m   (...)\u001b[0m\n\u001b[1;32m    491\u001b[0m         strip_invalid_metadata\u001b[38;5;241m=\u001b[39mstrip_invalid_metadata,\n\u001b[1;32m    492\u001b[0m     )\n\u001b[1;32m    494\u001b[0m \u001b[38;5;28;01mfor\u001b[39;00m error \u001b[38;5;129;01min\u001b[39;00m iter_validate(\n\u001b[1;32m    495\u001b[0m     nbdict,\n\u001b[1;32m    496\u001b[0m     ref\u001b[38;5;241m=\u001b[39mref,\n\u001b[0;32m   (...)\u001b[0m\n\u001b[1;32m    500\u001b[0m     strip_invalid_metadata\u001b[38;5;241m=\u001b[39mstrip_invalid_metadata,\n\u001b[1;32m    501\u001b[0m ):\n\u001b[0;32m--> 503\u001b[0m     \u001b[38;5;28;01mraise\u001b[39;00m error\n",
      "\u001b[0;31mValidationError\u001b[0m: No schema for validating v1 notebooks"
     ]
    }
   ],
   "source": [
    "import nbformat\n",
    "\n",
    "# Load the notebook\n",
    "notebook_path = 'Lec1.2.1ML_Decision.ipynb'\n",
    "import nbformat\n",
    "\n",
    "with open(notebook_path) as f:\n",
    "    nb = nbformat.read(f, as_version=nbformat.NO_CONVERT)\n",
    "\n",
    "# Upgrade the notebook to the latest format\n",
    "nb = nbformat.convert(nb, nbformat.current_nbformat)\n",
    "\n",
    "# Validate the notebook\n",
    "errors = nbformat.validate(nb)\n",
    "if errors:\n",
    "    for error in errors:\n",
    "        print(error)\n",
    "else:\n",
    "    print('Notebook is valid!')\n",
    "# Create a MarkdownExporter\n",
    "c = Config()\n",
    "c.MarkdownExporter.preprocessors = ['nbconvert.preprocessors.ExtractOutputPreprocessor']\n",
    "markdown_exporter = MarkdownExporter(config=c)\n",
    "\n",
    "# Extract all markdown cells and reduce font size\n",
    "markdown = ''\n",
    "for cell in nb.cells:\n",
    "    if cell.cell_type == 'markdown':\n",
    "        markdown += markdown_exporter.from_notebook_node(cell)[0]\n",
    "markdown = markdown.replace('<p>', '<p style=\"font-size:80%\">')\n",
    "\n",
    "# Save markdown cells to file\n",
    "with open(\"markdown_v2.md\", \"w\") as f:\n",
    "    for markdown in markdown_cells:\n",
    "        f.write(markdown)\n",
    "        f.write(\"\\n\")\n",
    "\n"
   ]
  },
  {
   "cell_type": "code",
   "execution_count": 8,
   "metadata": {},
   "outputs": [],
   "source": [
    "# import nbformat\n",
    "# from nbconvert.preprocessors import ExecutePreprocessor, CellExecutionError\n",
    "# from nbconvert import MarkdownExporter\n",
    "# from traitlets.config import Config\n",
    "\n",
    "# # Load the notebook\n",
    "# notebook_path = 'Lec1.2.1ML_Decision.ipynb'\n",
    "# with open(notebook_path) as f:\n",
    "#     nb = nbformat.read(f, as_version=4)\n",
    "\n",
    "# # Create a MarkdownExporter\n",
    "# c = Config()\n",
    "# c.MarkdownExporter.preprocessors = ['nbconvert.preprocessors.ExtractOutputPreprocessor']\n",
    "# markdown_exporter = MarkdownExporter(config=c)\n",
    "\n",
    "# # Extract all markdown cells and reduce font size\n",
    "# markdown = ''\n",
    "# for cell in nb.cells:\n",
    "#     if cell.cell_type == 'markdown':\n",
    "#         markdown += markdown_exporter.from_notebook_node(cell)[0]\n",
    "# markdown = markdown.replace('<p>', '<p style=\"font-size:80%\">')\n",
    "\n",
    "# # Output the result\n",
    "# print(markdown)\n"
   ]
  },
  {
   "cell_type": "code",
   "execution_count": 3,
   "metadata": {},
   "outputs": [
    {
     "ename": "ValidationError",
     "evalue": "No schema for validating v1 notebooks",
     "output_type": "error",
     "traceback": [
      "\u001b[0;31m---------------------------------------------------------------------------\u001b[0m",
      "\u001b[0;31mValidationError\u001b[0m                           Traceback (most recent call last)",
      "Input \u001b[0;32mIn [3]\u001b[0m, in \u001b[0;36m<cell line: 33>\u001b[0;34m()\u001b[0m\n\u001b[1;32m     33\u001b[0m \u001b[38;5;28;01mfor\u001b[39;00m cell \u001b[38;5;129;01min\u001b[39;00m nb\u001b[38;5;241m.\u001b[39mcells:\n\u001b[1;32m     34\u001b[0m     \u001b[38;5;28;01mif\u001b[39;00m cell\u001b[38;5;241m.\u001b[39mcell_type \u001b[38;5;241m==\u001b[39m \u001b[38;5;124m'\u001b[39m\u001b[38;5;124mmarkdown\u001b[39m\u001b[38;5;124m'\u001b[39m:\n\u001b[0;32m---> 35\u001b[0m         markdown \u001b[38;5;241m+\u001b[39m\u001b[38;5;241m=\u001b[39m \u001b[43mmarkdown_exporter\u001b[49m\u001b[38;5;241;43m.\u001b[39;49m\u001b[43mfrom_notebook_node\u001b[49m\u001b[43m(\u001b[49m\u001b[43mcell\u001b[49m\u001b[43m)\u001b[49m[\u001b[38;5;241m0\u001b[39m]\n\u001b[1;32m     36\u001b[0m markdown \u001b[38;5;241m=\u001b[39m markdown\u001b[38;5;241m.\u001b[39mreplace(\u001b[38;5;124m'\u001b[39m\u001b[38;5;124m<p>\u001b[39m\u001b[38;5;124m'\u001b[39m, \u001b[38;5;124m'\u001b[39m\u001b[38;5;124m<p style=\u001b[39m\u001b[38;5;124m\"\u001b[39m\u001b[38;5;124mfont-size:80\u001b[39m\u001b[38;5;124m%\u001b[39m\u001b[38;5;124m\"\u001b[39m\u001b[38;5;124m>\u001b[39m\u001b[38;5;124m'\u001b[39m)\n\u001b[1;32m     38\u001b[0m \u001b[38;5;66;03m# Save markdown cells to file\u001b[39;00m\n",
      "File \u001b[0;32m~/opt/anaconda3/lib/python3.9/site-packages/nbconvert/exporters/templateexporter.py:376\u001b[0m, in \u001b[0;36mTemplateExporter.from_notebook_node\u001b[0;34m(self, nb, resources, **kw)\u001b[0m\n\u001b[1;32m    364\u001b[0m \u001b[38;5;28;01mdef\u001b[39;00m \u001b[38;5;21mfrom_notebook_node\u001b[39m(\u001b[38;5;28mself\u001b[39m, nb, resources\u001b[38;5;241m=\u001b[39m\u001b[38;5;28;01mNone\u001b[39;00m, \u001b[38;5;241m*\u001b[39m\u001b[38;5;241m*\u001b[39mkw):\n\u001b[1;32m    365\u001b[0m     \u001b[38;5;124;03m\"\"\"\u001b[39;00m\n\u001b[1;32m    366\u001b[0m \u001b[38;5;124;03m    Convert a notebook from a notebook node instance.\u001b[39;00m\n\u001b[1;32m    367\u001b[0m \n\u001b[0;32m   (...)\u001b[0m\n\u001b[1;32m    374\u001b[0m \u001b[38;5;124;03m        preprocessors and filters.\u001b[39;00m\n\u001b[1;32m    375\u001b[0m \u001b[38;5;124;03m    \"\"\"\u001b[39;00m\n\u001b[0;32m--> 376\u001b[0m     nb_copy, resources \u001b[38;5;241m=\u001b[39m \u001b[38;5;28;43msuper\u001b[39;49m\u001b[43m(\u001b[49m\u001b[43m)\u001b[49m\u001b[38;5;241;43m.\u001b[39;49m\u001b[43mfrom_notebook_node\u001b[49m\u001b[43m(\u001b[49m\u001b[43mnb\u001b[49m\u001b[43m,\u001b[49m\u001b[43m \u001b[49m\u001b[43mresources\u001b[49m\u001b[43m,\u001b[49m\u001b[43m \u001b[49m\u001b[38;5;241;43m*\u001b[39;49m\u001b[38;5;241;43m*\u001b[39;49m\u001b[43mkw\u001b[49m\u001b[43m)\u001b[49m\n\u001b[1;32m    377\u001b[0m     resources\u001b[38;5;241m.\u001b[39msetdefault(\u001b[38;5;124m'\u001b[39m\u001b[38;5;124mraw_mimetypes\u001b[39m\u001b[38;5;124m'\u001b[39m, \u001b[38;5;28mself\u001b[39m\u001b[38;5;241m.\u001b[39mraw_mimetypes)\n\u001b[1;32m    378\u001b[0m     resources[\u001b[38;5;124m'\u001b[39m\u001b[38;5;124mglobal_content_filter\u001b[39m\u001b[38;5;124m'\u001b[39m] \u001b[38;5;241m=\u001b[39m {\n\u001b[1;32m    379\u001b[0m             \u001b[38;5;124m'\u001b[39m\u001b[38;5;124minclude_code\u001b[39m\u001b[38;5;124m'\u001b[39m: \u001b[38;5;129;01mnot\u001b[39;00m \u001b[38;5;28mself\u001b[39m\u001b[38;5;241m.\u001b[39mexclude_code_cell,\n\u001b[1;32m    380\u001b[0m             \u001b[38;5;124m'\u001b[39m\u001b[38;5;124minclude_markdown\u001b[39m\u001b[38;5;124m'\u001b[39m: \u001b[38;5;129;01mnot\u001b[39;00m \u001b[38;5;28mself\u001b[39m\u001b[38;5;241m.\u001b[39mexclude_markdown,\n\u001b[0;32m   (...)\u001b[0m\n\u001b[1;32m    388\u001b[0m             \u001b[38;5;124m'\u001b[39m\u001b[38;5;124mno_prompt\u001b[39m\u001b[38;5;124m'\u001b[39m: \u001b[38;5;28mself\u001b[39m\u001b[38;5;241m.\u001b[39mexclude_input_prompt \u001b[38;5;129;01mand\u001b[39;00m \u001b[38;5;28mself\u001b[39m\u001b[38;5;241m.\u001b[39mexclude_output_prompt,\n\u001b[1;32m    389\u001b[0m             }\n",
      "File \u001b[0;32m~/opt/anaconda3/lib/python3.9/site-packages/nbconvert/exporters/exporter.py:147\u001b[0m, in \u001b[0;36mExporter.from_notebook_node\u001b[0;34m(self, nb, resources, **kw)\u001b[0m\n\u001b[1;32m    144\u001b[0m     resources[\u001b[38;5;124m'\u001b[39m\u001b[38;5;124mlanguage\u001b[39m\u001b[38;5;124m'\u001b[39m] \u001b[38;5;241m=\u001b[39m nb[\u001b[38;5;124m'\u001b[39m\u001b[38;5;124mmetadata\u001b[39m\u001b[38;5;124m'\u001b[39m][\u001b[38;5;124m'\u001b[39m\u001b[38;5;124mlanguage\u001b[39m\u001b[38;5;124m'\u001b[39m]\u001b[38;5;241m.\u001b[39mlower()\n\u001b[1;32m    146\u001b[0m \u001b[38;5;66;03m# Preprocess\u001b[39;00m\n\u001b[0;32m--> 147\u001b[0m nb_copy, resources \u001b[38;5;241m=\u001b[39m \u001b[38;5;28;43mself\u001b[39;49m\u001b[38;5;241;43m.\u001b[39;49m\u001b[43m_preprocess\u001b[49m\u001b[43m(\u001b[49m\u001b[43mnb_copy\u001b[49m\u001b[43m,\u001b[49m\u001b[43m \u001b[49m\u001b[43mresources\u001b[49m\u001b[43m)\u001b[49m\n\u001b[1;32m    148\u001b[0m notebook_name \u001b[38;5;241m=\u001b[39m \u001b[38;5;124m'\u001b[39m\u001b[38;5;124m'\u001b[39m\n\u001b[1;32m    149\u001b[0m \u001b[38;5;28;01mif\u001b[39;00m resources \u001b[38;5;129;01mis\u001b[39;00m \u001b[38;5;129;01mnot\u001b[39;00m \u001b[38;5;28;01mNone\u001b[39;00m:\n",
      "File \u001b[0;32m~/opt/anaconda3/lib/python3.9/site-packages/nbconvert/exporters/exporter.py:336\u001b[0m, in \u001b[0;36mExporter._preprocess\u001b[0;34m(self, nb, resources)\u001b[0m\n\u001b[1;32m    334\u001b[0m     nbc, resc \u001b[38;5;241m=\u001b[39m preprocessor(nbc, resc)\n\u001b[1;32m    335\u001b[0m     \u001b[38;5;28;01mif\u001b[39;00m \u001b[38;5;129;01mnot\u001b[39;00m \u001b[38;5;28mself\u001b[39m\u001b[38;5;241m.\u001b[39moptimistic_validation:\n\u001b[0;32m--> 336\u001b[0m         \u001b[38;5;28;43mself\u001b[39;49m\u001b[38;5;241;43m.\u001b[39;49m\u001b[43m_validate_preprocessor\u001b[49m\u001b[43m(\u001b[49m\u001b[43mnbc\u001b[49m\u001b[43m,\u001b[49m\u001b[43m \u001b[49m\u001b[43mpreprocessor\u001b[49m\u001b[43m)\u001b[49m\n\u001b[1;32m    338\u001b[0m \u001b[38;5;28;01mif\u001b[39;00m \u001b[38;5;28mself\u001b[39m\u001b[38;5;241m.\u001b[39moptimistic_validation:\n\u001b[1;32m    339\u001b[0m   \u001b[38;5;28mself\u001b[39m\u001b[38;5;241m.\u001b[39m_validate_preprocessor(nbc, preprocessor) \n",
      "File \u001b[0;32m~/opt/anaconda3/lib/python3.9/site-packages/nbconvert/exporters/exporter.py:305\u001b[0m, in \u001b[0;36mExporter._validate_preprocessor\u001b[0;34m(self, nbc, preprocessor)\u001b[0m\n\u001b[1;32m    303\u001b[0m \u001b[38;5;28;01mdef\u001b[39;00m \u001b[38;5;21m_validate_preprocessor\u001b[39m(\u001b[38;5;28mself\u001b[39m, nbc, preprocessor):\n\u001b[1;32m    304\u001b[0m     \u001b[38;5;28;01mtry\u001b[39;00m:\n\u001b[0;32m--> 305\u001b[0m         \u001b[43mnbformat\u001b[49m\u001b[38;5;241;43m.\u001b[39;49m\u001b[43mvalidate\u001b[49m\u001b[43m(\u001b[49m\u001b[43mnbc\u001b[49m\u001b[43m,\u001b[49m\u001b[43m \u001b[49m\u001b[43mrelax_add_props\u001b[49m\u001b[38;5;241;43m=\u001b[39;49m\u001b[38;5;28;43;01mTrue\u001b[39;49;00m\u001b[43m)\u001b[49m\n\u001b[1;32m    306\u001b[0m     \u001b[38;5;28;01mexcept\u001b[39;00m nbformat\u001b[38;5;241m.\u001b[39mValidationError:\n\u001b[1;32m    307\u001b[0m         \u001b[38;5;28mself\u001b[39m\u001b[38;5;241m.\u001b[39mlog\u001b[38;5;241m.\u001b[39merror(\u001b[38;5;124m'\u001b[39m\u001b[38;5;124mNotebook is invalid after preprocessor \u001b[39m\u001b[38;5;132;01m%s\u001b[39;00m\u001b[38;5;124m'\u001b[39m,\n\u001b[1;32m    308\u001b[0m                            preprocessor)\n",
      "File \u001b[0;32m~/opt/anaconda3/lib/python3.9/site-packages/nbformat/validator.py:503\u001b[0m, in \u001b[0;36mvalidate\u001b[0;34m(nbdict, ref, version, version_minor, relax_add_props, nbjson, repair_duplicate_cell_ids, strip_invalid_metadata)\u001b[0m\n\u001b[1;32m    485\u001b[0m     _normalize(\n\u001b[1;32m    486\u001b[0m         nbdict,\n\u001b[1;32m    487\u001b[0m         version,\n\u001b[0;32m   (...)\u001b[0m\n\u001b[1;32m    491\u001b[0m         strip_invalid_metadata\u001b[38;5;241m=\u001b[39mstrip_invalid_metadata,\n\u001b[1;32m    492\u001b[0m     )\n\u001b[1;32m    494\u001b[0m \u001b[38;5;28;01mfor\u001b[39;00m error \u001b[38;5;129;01min\u001b[39;00m iter_validate(\n\u001b[1;32m    495\u001b[0m     nbdict,\n\u001b[1;32m    496\u001b[0m     ref\u001b[38;5;241m=\u001b[39mref,\n\u001b[0;32m   (...)\u001b[0m\n\u001b[1;32m    500\u001b[0m     strip_invalid_metadata\u001b[38;5;241m=\u001b[39mstrip_invalid_metadata,\n\u001b[1;32m    501\u001b[0m ):\n\u001b[0;32m--> 503\u001b[0m     \u001b[38;5;28;01mraise\u001b[39;00m error\n",
      "\u001b[0;31mValidationError\u001b[0m: No schema for validating v1 notebooks"
     ]
    }
   ],
   "source": [
    "# import nbformat\n",
    "\n",
    "# # Load the notebook\n",
    "# with open(\"Lec1.2.1ML_Decision.ipynb\", \"r\") as f:\n",
    "#     nb = nbformat.read(f, as_version=4)\n",
    "\n",
    "# # Extract markdown cells\n",
    "# markdown_cells = []\n",
    "# for cell in nb.cells:\n",
    "#     if cell.cell_type == \"markdown\":\n",
    "#         markdown_cells.append(cell.source)\n",
    "\n",
    "# # Print markdown cells\n",
    "# for markdown in markdown_cells:\n",
    "#     print(markdown)\n",
    "    \n",
    "import nbformat\n",
    "from nbconvert.preprocessors import ExecutePreprocessor, CellExecutionError\n",
    "from nbconvert import MarkdownExporter\n",
    "from traitlets.config import Config\n",
    "\n",
    "# Load the notebook\n",
    "with open(\"Lec1.2.1ML_Decision.ipynb\", \"r\") as f:\n",
    "    nb = nbformat.read(f, as_version=4)\n",
    "\n",
    "# Create a MarkdownExporter\n",
    "c = Config()\n",
    "c.MarkdownExporter.preprocessors = ['nbconvert.preprocessors.ExtractOutputPreprocessor']\n",
    "markdown_exporter = MarkdownExporter(config=c)\n",
    "\n",
    "# Extract all markdown cells and reduce font size\n",
    "markdown = ''\n",
    "for cell in nb.cells:\n",
    "    if cell.cell_type == 'markdown':\n",
    "        markdown += markdown_exporter.from_notebook_node(cell)[0]\n",
    "markdown = markdown.replace('<p>', '<p style=\"font-size:80%\">')\n",
    "\n",
    "# Save markdown cells to file\n",
    "with open(\"markdown_v2.md\", \"w\") as f:\n",
    "    for markdown in markdown_cells:\n",
    "        f.write(markdown)\n",
    "        f.write(\"\\n\")\n",
    "\n"
   ]
  },
  {
   "cell_type": "markdown",
   "metadata": {
    "tags": []
   },
   "source": [
    "# Decision trees and regression trees\n",
    "\n",
    "To understand computational statistics, we needed to understand the **Metropolis algorithm**. Yeh ek baar revise karna padega\n",
    "\n",
    "To understand ML, we need to understand 4 different algorithms:   \n",
    "**decision trees**  \n",
    "**support vector machines**  \n",
    "**naive Bayes**  \n",
    "**neural networks**. \n",
    "\n",
    "Okay Yeh 4 main hai\n",
    "\n",
    "We start with decision trees because decision trees have the best **explicability factor**: Yay Explainable Ai sarkha bolla ! But as this lecture progressed I came to realize ki me je explainable Ai cha karat hota that was a full scam.  \n",
    "Build a decision tree ML algorithm, and no Elon Musk will ever say that machine is diabolical and is planning to take over my Tesla factories!\n",
    "\n",
    "Today, we focus on the decision tree algorithm. It is the first ML algorithm ever invented. To understand it, the challenge for me is to teach you a new concept without you having to read [Claude Shannon](https://en.wikipedia.org/wiki/Claude_Shannon)'s book [A Mathematical Theory of Communication](https://people.math.harvard.edu/~ctm/home/text/others/shannon/entropy/entropy.pdf). After you understand this, everything else is easy.\n",
    "\n",
    "## 1. The `e` function\n",
    "\n",
    "If you remember your data science class, it all started with the famous `p` function. We started by counting probabilities as a fraction of number of favorable events over number of total events. I spent a lot of time with you convicing you that you need to write down all possibilities by spelling them out with python strings, even when the story appears counterintuitive. Then, we used dictionaries to tally up non-equiprobable events. Then, we moved from dictionaries to functions and your life will never be the same. Now that you know how to write linear functions as matrix transformations and you know how to use Bayes theorem as en estimator to evaluate posteriors from priors using clever simulation algorithms like Metropolis and useful libraries like `pymc3`, you are a *computational data scientist*!\n",
    "\n",
    "Bro this is it, itna padle if you can remember then sab sort ho jaega "
   ]
  },
  {
   "cell_type": "markdown",
   "metadata": {},
   "source": [
    "But now, you also want to be a *ML engineer* too, so we need to introduce another little function called `e`.\n",
    "\n",
    "Let me start with this question: What do you think would be more ***entertaining***: Watching professor leap from this cliff that only two people have ever leaped from and one has died:\n",
    "\n",
    "<br />\n",
    "<center>\n",
    "<img src = ipynb.images/cliff-diving.webp width = 1000 />\n",
    "</center>\n",
    "\n",
    "...or watching professor cross Forsyth street on his way to Behrakis?\n",
    "\n",
    "I think we can all agree that the crossing of the street is a bit boring, and professor cliff diving maybe too exciting. This is partially because we pretty much know what will happen when I cross the street, but we don’t really know if professor is going to survive the cliff dive...\n",
    "\n",
    ">**Note**: I know half of you are asking themselves do we need to do the homework if he does not?\n",
    "\n",
    "<br />\n",
    "<center>\n",
    "<img src = ipynb.images/talk-die.gif width = 600 />\n",
    "</center>\n",
    "\n",
    " [Claude Shannon](https://en.wikipedia.org/wiki/Claude_Shannon) had the insight that the more predictable some information is, the less space is required to store it. Crossing the street is more predictable than cliff diving, therefore you would need to store more information about cliff diving.\n",
    "\n",
    "And we know that the metric for information storage is **bits**. Ha but isse pata kya chala ? \n",
    "\n",
    "Let's write our `e` function:"
   ]
  },
  {
   "cell_type": "code",
   "execution_count": null,
   "metadata": {
    "execution": {
     "iopub.execute_input": "2023-01-17T20:53:57.220898Z",
     "iopub.status.busy": "2023-01-17T20:53:57.220515Z",
     "iopub.status.idle": "2023-01-17T20:53:57.336075Z",
     "shell.execute_reply": "2023-01-17T20:53:57.335700Z",
     "shell.execute_reply.started": "2023-01-17T20:53:57.220861Z"
    },
    "tags": []
   },
   "outputs": [],
   "source": [
    "import numpy as np\n",
    "\n",
    "# So let's assume that this is some magic formula for computing entertainment factor\n",
    "def e(dist):\n",
    "    # dist I assume kuch distribution hoga\n",
    "    su=0\n",
    "    # Yeh su I assume kuch total ya sum hoga\n",
    "    for p in dist:\n",
    "        # for every element, uska probability ya percentage nikal rahe in distribution of probs maybe, that's r\n",
    "        r= p/sum(dist)\n",
    "        # if its zero then just add 0 to sum, I guess woh niche wala formula zero handle nahi kar sakta\n",
    "        if r==0:\n",
    "            su+=0\n",
    "        else:\n",
    "            # else yeh formula, -r .. I guess minus kyuki professor ne bola ki negative aaega\n",
    "            # log koi bhi choti aur badi chiz dono ko ek similar number pe laati hai I guess thats why liya hoga\n",
    "            su+= -r*(np.log(r))\n",
    "    # and then yeh last mein kyu kiya hai idk\n",
    "    return su/np.log(2)"
   ]
  },
  {
   "cell_type": "code",
   "execution_count": null,
   "metadata": {
    "execution": {
     "iopub.execute_input": "2023-01-17T20:53:57.336771Z",
     "iopub.status.busy": "2023-01-17T20:53:57.336616Z",
     "iopub.status.idle": "2023-01-17T20:53:57.342335Z",
     "shell.execute_reply": "2023-01-17T20:53:57.341690Z",
     "shell.execute_reply.started": "2023-01-17T20:53:57.336759Z"
    },
    "tags": []
   },
   "outputs": [],
   "source": [
    "e([1,1,1,1,1,1,1,1,1,1,1,1,1,1,1])"
   ]
  },
  {
   "cell_type": "markdown",
   "metadata": {},
   "source": [
    "If we were to quantify the crossing the street example as having a 1 in a billion chance of death, and cliff diving as 1 in 2, we’d get $\\text{e}([1, 999,999,999]) ≈ 3.1*10^{-8}$ bits , and $\\text{e}([50,50])=1$ bit, respectively. "
   ]
  },
  {
   "cell_type": "code",
   "execution_count": null,
   "metadata": {
    "execution": {
     "iopub.execute_input": "2023-01-17T20:53:57.344207Z",
     "iopub.status.busy": "2023-01-17T20:53:57.344027Z",
     "iopub.status.idle": "2023-01-17T20:53:57.348132Z",
     "shell.execute_reply": "2023-01-17T20:53:57.347688Z",
     "shell.execute_reply.started": "2023-01-17T20:53:57.344194Z"
    },
    "tags": []
   },
   "outputs": [],
   "source": [
    "# prof crossing street mein lafde ka chance is none\n",
    "# toh entertainment factor is super low\n",
    "e([1, 999999999])"
   ]
  },
  {
   "cell_type": "code",
   "execution_count": null,
   "metadata": {
    "execution": {
     "iopub.execute_input": "2023-01-17T20:53:57.349015Z",
     "iopub.status.busy": "2023-01-17T20:53:57.348853Z",
     "iopub.status.idle": "2023-01-17T20:53:57.353538Z",
     "shell.execute_reply": "2023-01-17T20:53:57.352550Z",
     "shell.execute_reply.started": "2023-01-17T20:53:57.349003Z"
    },
    "tags": []
   },
   "outputs": [],
   "source": [
    "# prof diving mein marne ka chance is 50-50 toh\n",
    "e([60, 60])"
   ]
  },
  {
   "cell_type": "code",
   "execution_count": null,
   "metadata": {
    "execution": {
     "iopub.execute_input": "2023-01-17T20:53:57.354401Z",
     "iopub.status.busy": "2023-01-17T20:53:57.354249Z",
     "iopub.status.idle": "2023-01-17T20:53:57.358203Z",
     "shell.execute_reply": "2023-01-17T20:53:57.357749Z",
     "shell.execute_reply.started": "2023-01-17T20:53:57.354388Z"
    },
    "tags": []
   },
   "outputs": [],
   "source": [
    "e([10,10,11,10])"
   ]
  },
  {
   "cell_type": "markdown",
   "metadata": {},
   "source": [
    "Wow, we can think of our `e` function as `e` for `e`ntertainment! Just like `p`, it goes from 0 to 1.\n",
    "\n",
    "### Language entgertainment\n",
    "The English language has 26 letters, if you assume each letter has a probability of 1/26 of being next, the language has an `e` of:"
   ]
  },
  {
   "cell_type": "code",
   "execution_count": null,
   "metadata": {
    "execution": {
     "iopub.execute_input": "2023-01-17T20:53:57.359100Z",
     "iopub.status.busy": "2023-01-17T20:53:57.358941Z",
     "iopub.status.idle": "2023-01-17T20:53:57.362532Z",
     "shell.execute_reply": "2023-01-17T20:53:57.362152Z",
     "shell.execute_reply.started": "2023-01-17T20:53:57.359088Z"
    },
    "tags": []
   },
   "outputs": [],
   "source": [
    "e([1, 1, 1, 1, 1, 1, 1, 1, 1, 1, 1, 1, 1, 1, 1, 1, 1, 1, 1, 1, 1, 1, 1, 1, 1])"
   ]
  },
  {
   "cell_type": "markdown",
   "metadata": {},
   "source": [
    "...bits.\n",
    "\n",
    "However, some letters are more common than other letters, and some letters appear often together, so through clever ‘guessing’ (i.e. not assigning probabilities of 1/26), we can be much more efficient.\n",
    "\n",
    "Random guessing on average takes us 13.5 guesses to get the correct letter. Let us say we are given the first letter of every word in this sentence:\n",
    "```\n",
    "D _ _ _  s _ _ _ _ _ _ _  t _ _  c _ _ _ _  d _ _ _ \n",
    "```\n",
    "\n",
    "It would be very bad if it took us $13.5 * 19 = 256$ guesses to fill in the 19 blanks. \n",
    "\n",
    "It would likely take us less than an average of two guesses per blank to figure out the sentence is:"
   ]
  },
  {
   "cell_type": "markdown",
   "metadata": {},
   "source": [
    "<div hidden>\n",
    "Dino survived the cliff dive"
   ]
  },
  {
   "cell_type": "markdown",
   "metadata": {},
   "source": [
    "So even if we exhaustively guessed the first letter and it took us 13.5 guesses, it would take us less and less guesses/letter to fill in all the blanks.\n",
    "\n",
    "Experiments by Shannon showed that English has an `e` between 0.6 and 1.3 bits. To put that into perspective, a 3 sided die has an `e` of 1.58 bits, and takes on average 2 guesses to predict. Also, note that the encoding system on your keyboard uses 8 bits per letter. So it could theoretically make all files in only the English language at least 6 times smaller!"
   ]
  },
  {
   "cell_type": "markdown",
   "metadata": {},
   "source": [
    "### `e` is for entropy!\n",
    "Drumroll.. `e` stands for **e**ntertainment, but also for **entropy**.\n",
    "\n",
    "You can think of **entropy** of a system as the amount of *surprise* in a system (or, the opposite, how *boring* it may be).\n",
    "\n",
    "For example, [ChatGPT](https://en.wikipedia.org/wiki/ChatGPT) has high entropy."
   ]
  },
  {
   "cell_type": "markdown",
   "metadata": {},
   "source": [
    "### Binary search\n",
    "I we were to analyze the performance of the binary search algorithm for any possible outcome, one way of doing that is to find out *what's the expected number of questions to be asked for any value of* $x$, in order to locate $x$. \n",
    "\n",
    "The expected number of questions is the same as the entropy of an ensemble. Entropy quantifies the expected (or average) number of questions one need to ask in order to guess an outcome, which is the computational complexity of the binary search algorithm.\n",
    "\n",
    "And... predicting an outcome with a **decision tree** is very similar to a binary search!\n",
    "\n",
    "So, you can think of a **decision tree** as all possible paths along its branches, leading to a leaf that reveals the answer.\n",
    "\n",
    "Suppose that I rolled a 6-faced fair dice and you were to predict its outcome. The space of possibilities is 6, right?\n",
    "\n",
    "You could ask me questions like this binary one \"*is the outcome 1?*\" (answer is either `yes` or `no`, i.e. n=2) and my answer could be \"no!\". Then the space of possibilities reduces by just 1. So this question is not a very clever question to ask, if, let's say you only have a limited numner of questions to ask.\n",
    "\n",
    "Alternatively, you could ask a better question, such as this one: \"*is it greater than 3.5?*\", and my answer would be \"yes!\". Then ***boom***, the space of possibilities is reduced down by *half*! I.e. there are just 6/2=3 candidates left (out of the originally 6).\n",
    "\n",
    "Now suppose that you keep recursively asking more of these *good* questions (ones with the highest entropy gain) until you reach the case when the space of possibilities has only 1 possibility, by which -by definition- there is no ambiguity left (you know the answer).\n",
    "\n",
    "That is what a **decision tree** is all about, and it is built with **entropy** in mind because entropy is the best metric to measure how good a branching question may be.\n",
    "\n",
    "* Toh bascially yeh entropy ka itna hype hua isiliye kyuki apne paas decision tree hai jo fundamentally iska use karta hai. Woh intelligent questions until only one answer makes sense, aur aisa chizon woh poora model bana deta, kyuki woh aise questions puchta hai, isiliye uska explain karna bhi bahot easy ho jaata hai. Thus apan uska explaination bhi tree form mein visualize kar sakte hai*"
   ]
  },
  {
   "cell_type": "markdown",
   "metadata": {},
   "source": [
    "The concept of information entropy was introduced by Claude Shannon in his 1948 paper [A Mathematical Theory of Communication](https://people.math.harvard.edu/~ctm/home/text/others/shannon/entropy/entropy.pdf) and is also referred to as *Shannon entropy*.\n",
    "\n",
    "For a 2-class (binary) classification task:\n",
    "\n",
    "$\\text{entropy}(S) = - p_1 log_2 (p_1) - p_2 log_2 (p_2)$\n",
    "\n",
    "where $p_i$ is proportion (relative frequency) of class $i$ within the set $S$.\n",
    "\n",
    "You can think of the difference as the average of $log(p)$ for the 2-valued distribution. To tell which of the two events occurred, we need to use $log(p)$ bits (each bit doubles the number of events we can tell apart). This is easily generalizes to $n$ events:\n",
    "\n",
    "$$\\text{entropy}(S) = \\sum_i p_i log_2(p_i)$$\n",
    "\n",
    "Shannon's [source coding theorem](https://en.wikipedia.org/wiki/Shannon's_source_coding_theorem) says that a string with uncorrelated letters with probabilities ${p_i}$ of length $n$ cannot be compressed (on average) to binary string shorter than $nH$ where $H$ is the entropy of the string. And in fact, we can use [Huffman coding](https://en.wikipedia.org/wiki/Huffman_coding) to compress the string and get very close to $nH$.\n",
    "\n",
    "Ok, so why $p\\;log(p)$? You can think of the leading $p$ as a &proportion (how much of `A`, how much of `B`). So really, $p\\;log(p)$ represents the $log$ of an ensemble.\n",
    "\n",
    "The reason for the $log$ function is because entropy is a type of **information**, and the easiest way to measure information is in **bits** and **bytes**, rather than by the total number of possible states they can represent.\n",
    "\n",
    "The basic unit of information is the **bit**, which represents 2 possible states. If you have $n$ bits, then that information represents $2^n$ possible states. For example, a byte is 8 bits, therefore the number of states it represents is $2^8=256. That means that a byte can store any number between 0 and 255. If you are given the total number of states, then you just take the log of that number to get the amount of information, measured in bits: "
   ]
  },
  {
   "cell_type": "code",
   "execution_count": null,
   "metadata": {
    "execution": {
     "iopub.execute_input": "2023-01-17T20:53:57.363313Z",
     "iopub.status.busy": "2023-01-17T20:53:57.363184Z",
     "iopub.status.idle": "2023-01-17T20:53:57.366752Z",
     "shell.execute_reply": "2023-01-17T20:53:57.366310Z",
     "shell.execute_reply.started": "2023-01-17T20:53:57.363301Z"
    },
    "tags": []
   },
   "outputs": [],
   "source": [
    "# Toh math log2 aapko yeh bataega ki koi bhi total number states ko represent karne mein kitne bit lagenge\n",
    "import math\n",
    "math.log2(1024)"
   ]
  },
  {
   "cell_type": "code",
   "execution_count": null,
   "metadata": {
    "execution": {
     "iopub.execute_input": "2023-01-17T20:53:57.367592Z",
     "iopub.status.busy": "2023-01-17T20:53:57.367438Z",
     "iopub.status.idle": "2023-01-17T20:53:57.370937Z",
     "shell.execute_reply": "2023-01-17T20:53:57.370493Z",
     "shell.execute_reply.started": "2023-01-17T20:53:57.367580Z"
    },
    "tags": []
   },
   "outputs": [],
   "source": [
    "# agar log2 nahi hua toh yeh uska manual formula with regular log\n",
    "import math\n",
    "math.log(256) / math.log(2)"
   ]
  },
  {
   "cell_type": "markdown",
   "metadata": {},
   "source": [
    "Then, you might ask: Why is information measured with logarithms instead of just by the total number of *states*? We know from data science that the total number of states is simply the size of our transfer matrix.\n",
    "\n",
    "Mostly because it makes information entropy *additive*. It's true that if you really wanted to, you could choose to measure information or entropy by the total number of states (usually called the **multiplicity**) instead of by the log of the multiplicity. But then it would be *multiplicative* instead of *additive*. \n",
    "\n",
    "**Toh basically poora game of not representing it as total number of states, uss chiz ko multiplicatve se additive banane ke piche ka hai. Toh yeh karne ke liye apneko log use karna padta hai. \n",
    "Jiska matlab .. agar 1024 states hai .. aur 1024 states aaye .. toh apne paas ab 1048576 states hogaye .. i.e Multiplicative\n",
    "But, agar 10 bits hai aur 10 bits aa gaye toh 20 bits hue .. toh additive game hua**\n",
    "\n",
    "With logarithms, if you have 10 bits and then you obtain another 10 bits of information, then you have 20 bits. \n",
    "\n",
    "Saying the same thing in terms of multiplicity: if you have $2^{10} = 1024$ states and then you add another $1024$ independent states then you have:"
   ]
  },
  {
   "cell_type": "code",
   "execution_count": null,
   "metadata": {
    "execution": {
     "iopub.execute_input": "2023-01-17T20:53:57.373907Z",
     "iopub.status.busy": "2023-01-17T20:53:57.373707Z",
     "iopub.status.idle": "2023-01-17T20:53:57.377255Z",
     "shell.execute_reply": "2023-01-17T20:53:57.376740Z",
     "shell.execute_reply.started": "2023-01-17T20:53:57.373894Z"
    },
    "tags": []
   },
   "outputs": [],
   "source": [
    "1024*1024"
   ]
  },
  {
   "cell_type": "code",
   "execution_count": null,
   "metadata": {
    "execution": {
     "iopub.execute_input": "2023-01-17T20:53:57.377946Z",
     "iopub.status.busy": "2023-01-17T20:53:57.377810Z",
     "iopub.status.idle": "2023-01-17T20:53:57.382918Z",
     "shell.execute_reply": "2023-01-17T20:53:57.382266Z",
     "shell.execute_reply.started": "2023-01-17T20:53:57.377934Z"
    },
    "tags": []
   },
   "outputs": [],
   "source": [
    "2**20"
   ]
  },
  {
   "cell_type": "markdown",
   "metadata": {},
   "source": [
    "... states when they are combined. **Multiplicity** is *multiplicative* instead of *additive*, which means that the numbers you need in order to keep track of it get very large very quickly! This is really inconvenient, hence why we usually stick with using information/entropy as the unit instead of multiplicity.\n",
    "\n",
    ">**Note** In computer science, information is usually measured in units defined by the log base 2 of the number of states, whereas in physics entropy is usually measured in units defined by the natural log (log base e). This is purely a difference of convention. Physicists like to use natural logs because they're used to using them for many other things and they have nice mathematical properties. But there's a good case to be made that bits (log base 2) is the more natural unit to measure entropy in. In some areas of physics, such as quantum computing and quantum information, this new convention has already started being adopted.)"
   ]
  },
  {
   "cell_type": "markdown",
   "metadata": {},
   "source": [
    "Now that we know that we compute entropy by multiplying the proportion of instances of each class label by the $log$ of that proportion, and then take the negative sum of those terms. We can see how entropy decreases to zero for our figure above:"
   ]
  },
  {
   "cell_type": "code",
   "execution_count": null,
   "metadata": {
    "execution": {
     "iopub.execute_input": "2023-01-17T20:53:57.384036Z",
     "iopub.status.busy": "2023-01-17T20:53:57.383770Z",
     "iopub.status.idle": "2023-01-17T20:53:57.387150Z",
     "shell.execute_reply": "2023-01-17T20:53:57.386695Z",
     "shell.execute_reply.started": "2023-01-17T20:53:57.384022Z"
    },
    "tags": []
   },
   "outputs": [],
   "source": [
    "import math\n",
    "- .7 * math.log(0.7) - .3 * math.log(.3)"
   ]
  },
  {
   "cell_type": "code",
   "execution_count": null,
   "metadata": {
    "execution": {
     "iopub.execute_input": "2023-01-17T20:53:57.387756Z",
     "iopub.status.busy": "2023-01-17T20:53:57.387636Z",
     "iopub.status.idle": "2023-01-17T20:53:57.391084Z",
     "shell.execute_reply": "2023-01-17T20:53:57.390571Z",
     "shell.execute_reply.started": "2023-01-17T20:53:57.387745Z"
    },
    "tags": []
   },
   "outputs": [],
   "source": [
    "1 * math.log(1)"
   ]
  },
  {
   "cell_type": "markdown",
   "metadata": {},
   "source": [
    "We read in our data file (up on blackboard): agaricus-lepiota.data. [Lepiota](https://en.wikipedia.org/wiki/Lepiota) is a genus of gilled mushrooms in the family [Agaricaceae](https://en.wikipedia.org/wiki/Agaricaceae). All Lepiota species are ground-dwelling [saprotrophs](https://en.wikipedia.org/wiki/Saprotrophic_nutrition) with a preference for rich, calcareous soils. We build a list of instances, where each instance is a list of attribute values."
   ]
  },
  {
   "cell_type": "markdown",
   "metadata": {},
   "source": [
    "Create a 2000 calorie weight loss meal plan for a 30 year old male. The daily macro split is 25% carbs, 35% protein, 40% fats with no more than 50g of sugar and 28g of fibre.1000 calorie post workout breakfast with healthy fats and b vitamins. 600 calorie lunch with moderate fats and vitamin D. 400 calorie dinner with high carbs, low fat and magnesium. Consider foods that are low glycemic but don't avoid fruit, vegetables, and fish. Only use lean meat.\n",
    "\n",
    "### Information Entropy\n",
    "A decision tree is built most often top-down from a root node and involves partitioning the data into subsets that contain instances with similar values (homogeneous). \n",
    "\n",
    "The `ID3` algorithm (one of them ain decision tree algorithms) uses **entropy** to calculate the [homogeneity](https://en.wikipedia.org/wiki/Homogeneity_and_heterogeneity) of a sample. If the sample is completely homogeneous the entropy is zero and if the sample is an equally divided one, it has entropy of one.  \n",
    "\n",
    "**Information** is analogous to *signal*, and **entropy** is analogous to *noise*. In a sense, information is *boring* because it reduces the unknown, whereas noise is exciting because there many possibiities. Entropy can be roughly thought of as *how much variance the data has*. Lots of noise, lots of variance.\n",
    "\n",
    "[Information Entropy](https://en.wikipedia.org/wiki/Entropy_(information_theory)) of a random variable is the average level of  \"*surprise*\", or \"*uncertainty*\" inherent to the variable's possible outcomes. Information Entropy can be thought of as how **unpredictable** a dataset is. You can also think of it as a measure of **disorder in a dataset**\n",
    "\n",
    "The leftmost figure below is very impure and has high entropy corresponding to higher disorder and lower information value. As we go to the right, the entropy decreases, and the information value increases.\n",
    "\n",
    "<br />\n",
    "<center>\n",
    "<img src = ipynb.images/entropy-diagram.png width = 500 />\n",
    "</center>"
   ]
  },
  {
   "cell_type": "markdown",
   "metadata": {},
   "source": [
    "The concept of information entropy was introduced by Claude Shannon in his 1948 paper [A Mathematical Theory of Communication](https://people.math.harvard.edu/~ctm/home/text/others/shannon/entropy/entropy.pdf) and is also referred to as *Shannon entropy*.\n",
    "\n",
    "For a 2-class (binary) classification task:\n",
    "\n",
    "$\\text{entropy}(S) = - p_1 log_2 (p_1) - p_2 log_2 (p_2)$\n",
    "\n",
    "where $p_i$ is proportion (relative frequency) of class $i$ within the set $S$.\n",
    "\n",
    "You can think of the difference as the average of $log(p)$ for the 2-valued distribution. To tell which of the two events occurred, we need to use $log(p)$ bits (each bit doubles the number of events we can tell apart). This is easily generalizes to $n$ events:\n",
    "\n",
    "$$\\text{entropy}(S) = \\sum_i p_i log_2(p_i)$$\n",
    "\n",
    "Shannon's [source coding theorem](https://en.wikipedia.org/wiki/Shannon's_source_coding_theorem) says that a string with uncorrelated letters with probabilities ${p_i}$ of length $n$ cannot be compressed (on average) to binary string shorter than $nH$ where $H$ is the entropy of the string. And in fact, we can use [Huffman coding](https://en.wikipedia.org/wiki/Huffman_coding) to compress the string and get very close to $nH$.\n",
    "\n",
    "Ok, so why $p\\;log(p)$? You can think of the leading $p$ as a &proportion (how much of `A`, how much of `B`). So really, $p\\;log(p)$ represents the $log$ of an ensemble.\n",
    "\n",
    "The reason for the $log$ function is because entropy is a type of **information**, and the easiest way to measure information is in **bits** and **bytes**, rather than by the total number of possible states they can represent.\n",
    "\n",
    "The basic unit of information is the **bit**, which represents 2 possible states. If you have $n$ bits, then that information represents $2^n$ possible states. For example, a byte is 8 bits, therefore the number of states it represents is $2^8=256. That means that a byte can store any number between 0 and 255. If you are given the total number of states, then you just take the log of that number to get the amount of information, measured in bits: "
   ]
  },
  {
   "cell_type": "code",
   "execution_count": null,
   "metadata": {
    "execution": {
     "iopub.execute_input": "2023-01-17T20:53:57.391934Z",
     "iopub.status.busy": "2023-01-17T20:53:57.391813Z",
     "iopub.status.idle": "2023-01-17T20:53:57.395270Z",
     "shell.execute_reply": "2023-01-17T20:53:57.394872Z",
     "shell.execute_reply.started": "2023-01-17T20:53:57.391922Z"
    }
   },
   "outputs": [],
   "source": [
    "import math\n",
    "math.log(256) / math.log(2)"
   ]
  },
  {
   "cell_type": "code",
   "execution_count": null,
   "metadata": {
    "execution": {
     "iopub.execute_input": "2023-01-17T20:53:57.395943Z",
     "iopub.status.busy": "2023-01-17T20:53:57.395821Z",
     "iopub.status.idle": "2023-01-17T20:53:57.399127Z",
     "shell.execute_reply": "2023-01-17T20:53:57.398544Z",
     "shell.execute_reply.started": "2023-01-17T20:53:57.395931Z"
    }
   },
   "outputs": [],
   "source": [
    "math.log2(256)"
   ]
  },
  {
   "cell_type": "markdown",
   "metadata": {},
   "source": [
    "Then, you might ask: Why is information measured with logarithms instead of just by the total number of *states*? We know from data science that the total number of states is simply the size of our transfer matrix.\n",
    "\n",
    "Mostly because it makes information entropy *additive*. It's true that if you really wanted to, you could choose to measure information or entropy by the total number of states (usually called the **multiplicity**) instead of by the log of the multiplicity. But then it would be *multiplicative* instead of *additive*. \n",
    "\n",
    "With logarithms, if you have 10 bits and then you obtain another 10 bits of information, then you have 20 bits. \n",
    "\n",
    "Saying the same thing in terms of multiplicity: if you have $2^{10} = 1024$ states and then you add another $1024$ independent states then you have:"
   ]
  },
  {
   "cell_type": "code",
   "execution_count": null,
   "metadata": {
    "execution": {
     "iopub.execute_input": "2023-01-17T20:53:57.399814Z",
     "iopub.status.busy": "2023-01-17T20:53:57.399692Z",
     "iopub.status.idle": "2023-01-17T20:53:57.403221Z",
     "shell.execute_reply": "2023-01-17T20:53:57.402851Z",
     "shell.execute_reply.started": "2023-01-17T20:53:57.399803Z"
    },
    "tags": []
   },
   "outputs": [],
   "source": [
    "1024*1024"
   ]
  },
  {
   "cell_type": "code",
   "execution_count": null,
   "metadata": {
    "execution": {
     "iopub.execute_input": "2023-01-17T20:53:57.404159Z",
     "iopub.status.busy": "2023-01-17T20:53:57.403948Z",
     "iopub.status.idle": "2023-01-17T20:53:57.407487Z",
     "shell.execute_reply": "2023-01-17T20:53:57.406859Z",
     "shell.execute_reply.started": "2023-01-17T20:53:57.404146Z"
    }
   },
   "outputs": [],
   "source": [
    "2**20"
   ]
  },
  {
   "cell_type": "markdown",
   "metadata": {},
   "source": [
    "... states when they are combined. **Multiplicity** is *multiplicative* instead of *additive*, which means that the numbers you need in order to keep track of it get very large very quickly! This is really inconvenient, hence why we usually stick with using information/entropy as the unit instead of multiplicity.\n",
    "\n",
    ">**Note** In computer science, information is usually measured in units defined by the log base 2 of the number of states, whereas in physics entropy is usually measured in units defined by the natural log (log base e). This is purely a difference of convention. Physicists like to use natural logs because they're used to using them for many other things and they have nice mathematical properties. But there's a good case to be made that bits (log base 2) is the more natural unit to measure entropy in. In some areas of physics, such as quantum computing and quantum information, this new convention has already started being adopted.)"
   ]
  },
  {
   "cell_type": "markdown",
   "metadata": {},
   "source": [
    "Now that we know that we compute entropy by multiplying the proportion of instances of each class label by the $log$ of that proportion, and then take the negative sum of those terms. We can see how entropy decreases to zero for our figure above:"
   ]
  },
  {
   "cell_type": "code",
   "execution_count": null,
   "metadata": {
    "execution": {
     "iopub.execute_input": "2023-01-17T20:53:57.408455Z",
     "iopub.status.busy": "2023-01-17T20:53:57.408243Z",
     "iopub.status.idle": "2023-01-17T20:53:57.411789Z",
     "shell.execute_reply": "2023-01-17T20:53:57.411392Z",
     "shell.execute_reply.started": "2023-01-17T20:53:57.408443Z"
    }
   },
   "outputs": [],
   "source": [
    "import math\n",
    "- .7 * math.log(0.7) - .3 * math.log(.3)"
   ]
  },
  {
   "cell_type": "code",
   "execution_count": null,
   "metadata": {
    "execution": {
     "iopub.execute_input": "2023-01-17T20:53:57.412470Z",
     "iopub.status.busy": "2023-01-17T20:53:57.412344Z",
     "iopub.status.idle": "2023-01-17T20:53:57.415735Z",
     "shell.execute_reply": "2023-01-17T20:53:57.415240Z",
     "shell.execute_reply.started": "2023-01-17T20:53:57.412458Z"
    }
   },
   "outputs": [],
   "source": [
    "1 * math.log(1)"
   ]
  },
  {
   "cell_type": "markdown",
   "metadata": {},
   "source": [
    "## 2. Decision trees\n",
    "A decision tree is a **flowchart** to help you make decisions. Machine Learning uses the same technique to make better decisions.\n",
    "\n",
    "Here's one from the 2016 presidential election in the US:\n",
    "\n",
    "<br />\n",
    "<center>\n",
    "<img src = ipynb.images/election.png width = 1000 />\n",
    "</center>\n",
    "\n",
    "A decision tree structure consists of a **root node**, **test nodes**, and **decision nodes** (leaves with the checkmark above). \n",
    "\n",
    "The root node is the main node in a decision tree.\n",
    "\n",
    "After the root node, each test node splits the data into further parts according to some set criteria.\n",
    "\n",
    "The final nodes are the leaf nodes. In the decision tree diagram, the nodes along with the probability value indicating the probability of the target attribute are the leaf nodes. \n",
    "\n",
    "A decision tree is constructed by a **decision tree inducer** (also called as classifier). There are various [decision tree inducers](https://saiconference.com/Downloads/SpecialIssueNo10/Paper_3-A_comparative_study_of_decision_tree_ID3_and_C4.5.pdf) such as ID3, C4.5, CART, CHAID, QUEST, CRUISE, etc. A decision tree inducer is an algorithm that automatically constructs a decision tree from a given (training) dataset. \n",
    "\n",
    "The goal of a decision tree inducer is to construct an optimal decision tree based on a specified target function. An example of a target function can be a minimization of the number of nodes of the decision tree. Another example can be minimizing the generalization error (or get more accurate results).\n",
    "\n",
    "A decision tree inducer follows a certain method. There are two prevalent methods used by the decision tree inducers in general. These include the widely used top-down method and the less popular, bottom-up method.\n",
    "\n",
    "Under the top-down method, an inducer creates the decision tree in a top-down, recursive manner. \n",
    "\n",
    "In each iteration, the inducer algorithm *partitions* the training dataset using the outcome of a discrete function of the input attribute. After the selection of an appropriate split, each node further subdivides the training set into smaller subsets, until no further splitting is possible or when a stopping criterion is fulfilled. After the complete creation of the tree, it is pruned using certain pruning rules to reduce classiﬁcation errors.\n",
    "\n",
    "Here's a simple example: \n",
    "\n",
    "<br />\n",
    "<center>\n",
    "<img src = ipynb.images/dectree.png width = 400 />\n",
    "</center>\n",
    "\n",
    "**Splitting** is the process of partitioning the data set into subsets. Splits are formed on a particular variable. For example, gender, or another Class variable.\n",
    "\n",
    "<br />\n",
    "<center>\n",
    "<img src = ipynb.images/splitting.png width = 600 />\n",
    "</center>\n",
    "<br />\n",
    "\n",
    "The decision tree inducer identifies the preferred sequence of attributes (at each level of the tree) to investigate to most rapidly narrow down the state (the dependent variable column) of an observation. There are different attributes selection **measures** to identify the attribute which can be considered at each level.\n",
    "\n",
    "2 popular attribute selection measures are:\n",
    "\n",
    "- **Information gain**: A synonym for [Kullback–Leibler divergence](https://en.wikipedia.org/wiki/Information_gain_(decision_tree)), the amount of information gained about a random variable or signal from observing another random variable.\n",
    "\n",
    "- **Gini index**: The [Gini coefficient](https://en.wikipedia.org/wiki/Gini_coefficient) was developed by the Italian statistician Corrado Gini in 1912. Building on the work of American economist Max Lorenz, Gini proposed that the difference between the hypothetical straight line depicting perfect equality, and the actual line depicting people's incomes, be used as a measure of inequality. You can see the Gini indeces of various countries [here](https://worldpopulationreview.com/country-rankings/gini-coefficient-by-country).\n",
    "\n",
    "Usually, while using *Information gain* as a criterion, we assume attributes to be *categorical* and for *Gini index*, attributes are assumed to be *continuous*.\n",
    "\n",
    "Some techniques, often called **ensemble methods**, construct *more than one* decision tree, and thus talk about **decision forests** (a.k.a **random forests**) rather than *trees*. For example:\n",
    "\n",
    "- **Boosted trees** incrementally build an ensemble by training each new instance to emphasize the training instances previously mis-modeled. A typical example is [AdaBoost](https://en.wikipedia.org/wiki/AdaBoost#LogitBoost)\n",
    "- **Bootstrap aggregated** (or **bagged**) decision trees, an early ensemble method, build multiple decision trees by repeatedly resampling training data *with replacement*, and voting the trees for a consensus prediction\n",
    "- A **random forest classifier** is a specific type of bootstrap aggregating rotation forest in which every decision tree is trained by first applying principal component analysis (PCA) on a random subset of the input features. Regression Forests are an **ensemble** of different regression trees. These models work on the principle of the **wisdom of the crowd**. In short, it is better to consider the opinions of 1000 different people with not much knowledge than to consider the opinion of only one expert (provided each of the 1000 people have accuracy better than random guessing, i.e more than 50% - There is actually a mathematical proof about this)."
   ]
  },
  {
   "cell_type": "code",
   "execution_count": null,
   "metadata": {},
   "outputs": [],
   "source": []
  },
  {
   "cell_type": "markdown",
   "metadata": {},
   "source": [
    "### Basic Idea\n",
    "The idea is to split a dataset based on **homogeneity of data**. \n",
    "\n",
    "A **decision tree** involves partitioning the data into subsets that contain instances with similar **values** (homogenous), and use *if-then-else* considerations to build a model. This model *may* or *may not* be possible, based on the dataset.\n",
    "\n",
    "All of us actually use decision trees in our daily life! To illustrate the concept, let's use an everyday example: predicting tomorrow’s maximum temperature for Boston. Wasn't today so much colder than yesterday?!\n",
    "\n",
    "In order to answer the single max temperature question, we need to work through an entire series of queries. We start by forming an initial reasonable range given our domain knowledge, which for Boston is very little.. Let's say that it's 30–60 degrees Fahrenheit. Gradually, through a set of questions and answers we will reduce this range until we are confident enough to make a single prediction.\n",
    "\n",
    "What makes a good question to start with? What kind of independent variable should we split the data by? Well, if we want to limit the range **as much as possible** initially, let's think of the most relevant question to ask. Since temperature is highly dependent on time of year, a decent place to start would be: What season are we in? Winter *close to spring*, right? So we can limit the prediction range to 30–50 degrees because we have an idea of what the general max temperatures are in Boston winter-close-to-spring-time. This first question already cuts our range by a lot. We use that independent variable as our first node variable. But, this question isn’t quite enough to narrow down our estimate so we need to find out more information for our second node.\n",
    "\n",
    "A good follow-up question is: what is the historical average max temperature on this day? For Boston, the answer is 36 degrees. This allows us to further restrict our range of consideration to, let's say, 30–40 degrees. \n",
    "\n",
    "Two questions (two nodes)  are still not quite enough to make a prediction because this year might be warmer or colder than average. Therefore, we also would want to look at the max temperature today to get an idea if the year has been unusually warm or cold. Our question is simple: what is the maximum temperature today? If the max temperature today was 40 degrees, it might be colder this year and our estimate for tomorrow should be a little lower than the historical average. At this point, we can feel pretty confident in making a prediction of 35 degrees for the max temperature tomorrow. \n",
    "\n",
    "So, to arrive at an estimate, we used a series of questions, with each question narrowing our possible values until we were confident enough to make a single prediction. So, following one path (the most probable one) down the tree, we used 3 nodes to make a decision. \n",
    "\n",
    "We also need to complete all paths and add nodes to all split points so we have a decision for each leaf of the tree (we did not do this in our questioning above)."
   ]
  },
  {
   "cell_type": "markdown",
   "metadata": {
    "tags": []
   },
   "source": [
    "## 3. *Trees* in Computer Science \n",
    "\n",
    "In computer science, a **tree** is a widely used abstract data type (ADT) that simulates a hierarchical tree structure, with a root value and subtrees of children with a parent node, represented as a set of linked nodes. A tree ends in leaf nodes and is represented upside node with the root at the top.\n",
    "\n",
    "Much like a [graph](https:/en.wikipedia.org/wiki/Graph_theory) is a way to display transitions of state machines, a \n",
    "[tree](https://en.wikipedia.org/wiki/Tree_(graph_theory)) is a specialization of a graph that displays conditional control statements.\n",
    "\n",
    "Decision trees are commonly used in operations research and [Machine Learning](https://en.wikipedia.org/wiki/Decision_tree_learning).\n",
    "\n",
    "Decision Trees are simple to understand, maybe the simplest, albeit powerful, ML method there is, since trees can also be displayed graphically in a way that is easy for non-experts to understand. Trees are able to handle both numerical and categorical data. For example, relation rules can be used with nominal variables while neural networks can be used with numerical variables or categoricals converted to 0-1 values.\n",
    "\n",
    "Decision trees use a **white box model**: If a given situation is observable in a model, the explanation for the condition is easily explained by boolean logic. By contrast, in a **black box model**, the explanation for the results is typically difficult to understand, as for example with artificial neural networks (unless they're Bayesian).\n",
    "\n",
    "Decision Trees perform well with large datasets. Large amounts of data can be analysed using standard computing resources in reasonable time and mirror human decision making pretty closely.\n",
    "\n",
    "Finally, Decision trees can be sampled using **MCMC**: By constructing a Markov chain that has the desired distribution as its equilibrium distribution, we can obtain a sample of the desired distribution by observing the chain after a number of steps. For example, [here](https://www2.stat.duke.edu/courses/Fall05/sta395/casper1.pdf)."
   ]
  },
  {
   "cell_type": "code",
   "execution_count": null,
   "metadata": {
    "execution": {
     "iopub.execute_input": "2023-01-17T20:53:57.417339Z",
     "iopub.status.busy": "2023-01-17T20:53:57.416416Z",
     "iopub.status.idle": "2023-01-17T20:53:57.420600Z",
     "shell.execute_reply": "2023-01-17T20:53:57.420097Z",
     "shell.execute_reply.started": "2023-01-17T20:53:57.417323Z"
    },
    "tags": []
   },
   "outputs": [],
   "source": [
    "from IPython.display import display, Image, HTML"
   ]
  },
  {
   "cell_type": "markdown",
   "metadata": {},
   "source": [
    "## 4. The Algorithm type: Supervised Classification\n",
    "\n",
    "[Supervised learning](https://en.wikipedia.org/wiki/Supervised_learning), or *classification*, is the machine learning task of learning a **function** that maps input columns (independent variables) to output columns (dependent variables) based on example input-output observations. \n",
    "\n",
    "It infers a function from *labeled* training data consisting of a set of training observations. A supervised learning algorithm analyzes the training data and produces an inferred function, which can be used for mapping new examples. \n",
    "\n",
    "An optimal scenario will allow for the algorithm to correctly determine the class labels for unseen (*test*) instances. In *unsupervised learning*, you are essentially missing that output label.\n",
    "\n",
    "<br />\n",
    "<center>\n",
    "<img src = ipynb.images/supervised-classification.png width = 600 />\n",
    "</center>\n",
    "\n",
    "During *training*, a **feature extractor** is used to convert each **input value** to a **feature set**. Feature sets capture the basic information about each input that should be used to classify it/\n",
    "\n",
    "Pairs of feature sets and **labels** are fed into the **machine learning algorithm** to generate a **model**.\n",
    "\n",
    "During *prediction*, the same feature extractor is used to convert **unseen inputs** (*test* inputs) to feature sets. These feature sets are then fed into the model, which generates **predicted labels**."
   ]
  },
  {
   "cell_type": "markdown",
   "metadata": {},
   "source": [
    "## 5. The data: Mushroom stew!\n",
    "\n",
    "<br />\n",
    "<center>\n",
    "<img src = ipynb.images/swedish-chef.png width = 400 />\n",
    "</center>\n",
    "\n",
    "Who likes to eat mushrooms? I do. But it *is* a bit scary to eat them...\n",
    "\n",
    "The [Center for Machine Learning and Intelligent Systems](http://cml.ics.uci.edu/) at the University of California, Irvine (UCI), hosts a  [Machine Learning Repository](https://archive.ics.uci.edu/ml/datasets.html) containing over 200 publicly available data sets. It is your's truly most loved (and used) dataset archive.\n",
    "\n",
    "<img src=\"ipynb.images/mushrooms.jpg\" alt=\"mushroom\" width = 400/>\n",
    "\n",
    "<a href=\"https://archive.ics.uci.edu/ml/datasets/Mushroom\"><img src=\"https://archive.ics.uci.edu/ml/assets/MLimages/Large73.jpg\"  style=\"margin: 0px 0px 5px 20px; width: 125px; float: right;\" title=\"Mushrooms from Agaricus and Lepiota Family\" alt=\"mushroom\"/></a>\n",
    "For our decision tree data, will use the [mushroom](https://archive.ics.uci.edu/ml/datasets/Mushroom) data set, used in Chapter 3 of Provost & Fawcett's [data science book](https://www.amazon.com/Data-Science-Business-Data-Analytic-Thinking/dp/1449361323).\n",
    "\n",
    "The following description of the dataset is provided at the UCI repository:\n",
    "\n",
    ">This data set includes descriptions of hypothetical samples corresponding to 23 species of gilled mushrooms in the Agaricus and Lepiota Family (pp. 500-525 [The Audubon Society Field Guide to North American Mushrooms, 1981]). Each species is identified as:\n",
    "- definitely edible\n",
    "- definitely poisonous\n",
    "- of unknown edibility and not recommended. \n",
    "\n",
    ">This latter class is usually combined with the poisonous one. The Guide clearly states that there is no simple rule for determining the edibility of a mushroom..\n",
    "> \n",
    "> **Number of Instances**: 8124\n",
    "> \n",
    "> **Number of Attributes**: 22 (all nominally valued)\n",
    "> \n",
    "> **Attribute Information**: (*classes*: edible=e, poisonous=p)\n",
    "> \n",
    "> 1. *cap-shape*: bell=b, conical=c, convex=x, flat=f, knobbed=k, sunken=s\n",
    "> 2. *cap-surface*: fibrous=f, grooves=g, scaly=y, smooth=s\n",
    "> 3. *cap-color*: brown=n ,buff=b, cinnamon=c, gray=g, green=r, pink=p, purple=u, red=e, white=w, yellow=y\n",
    "> 4. *bruises?*: bruises=t, no=f\n",
    "> 5. *odor*: almond=a, anise=l, creosote=c, fishy=y, foul=f, musty=m, none=n, pungent=p, spicy=s\n",
    "> 6. *gill-attachment*: attached=a, descending=d, free=f, notched=n\n",
    "> 7. *gill-spacing*: close=c, crowded=w, distant=d\n",
    "> 8. *gill-size*: broad=b, narrow=n\n",
    "> 9. *gill-color*: black=k, brown=n, buff=b, chocolate=h, gray=g, green=r, orange=o, pink=p, purple=u, red=e, white=w, yellow=y\n",
    "> 10. *stalk-shape*: enlarging=e, tapering=t\n",
    "> 11. *stalk-root*: bulbous=b, club=c, cup=u, equal=e, rhizomorphs=z, rooted=r, missing=?\n",
    "> 12. *stalk-surface-above-ring*: fibrous=f, scaly=y, silky=k, smooth=s\n",
    "> 13. *stalk-surface-below-ring*: fibrous=f, scaly=y, silky=k, smooth=s\n",
    "> 14. *stalk-color-above-ring*: brown=n, buff=b, cinnamon=c, gray=g, orange=o, pink=p, red=e, white=w, yellow=y\n",
    "> 15. *stalk-color-below-ring*: brown=n, buff=b, cinnamon=c, gray=g, orange=o, pink=p, red=e, white=w, yellow=y\n",
    "> 16. *veil-type*: partial=p, universal=u\n",
    "> 17. *veil-color*: brown=n, orange=o, white=w, yellow=y\n",
    "> 18. *ring-number*: none=n, one=o, two=t\n",
    "> 19. *ring-type*: cobwebby=c, evanescent=e, flaring=f, large=l, none=n, pendant=p, sheathing=s, zone=z\n",
    "> 20. *spore-print-color*: black=k, brown=n, buff=b, chocolate=h, green=r, orange=o, purple=u, white=w, yellow=y\n",
    "> 21. *population*: abundant=a, clustered=c, numerous=n, scattered=s, several=v, solitary=y\n",
    "> 22. *habitat*: grasses=g, leaves=l, meadows=m, paths=p, urban=u, waste=w, woods=d\n",
    "> \n",
    "> **Missing Attribute Values**: 2480 of them (denoted by \"?\"), all for attribute #11 (starting from 0 indeex).\n",
    "> \n",
    "> **Class Distribution**: -- edible: 4208 (51.8%) -- poisonous: 3916 (48.2%) -- total: 8124 instances\n",
    "\n",
    "The [data file](https://archive.ics.uci.edu/ml/machine-learning-databases/mushroom/agaricus-lepiota.data) associated with this dataset, up on canvas, has one instance of a hypothetical mushroom per line, with abbreviations for the values of the class and each of the other 22 attributes separated by commas.\n",
    "\n",
    "Here is a sample line from the data file:\n",
    "\n",
    "p,k,f,n,f,n,f,c,n,w,e,?,k,y,w,n,p,w,o,e,w,v,d\n",
    "\n",
    "This instance represents a mushroom with the following attribute values (highlighted in **bold**):\n",
    "\n",
    "*class*: edible=e, **poisonous=p**\n",
    "\n",
    "1. *cap-shape*: bell=b, conical=c, convex=x, flat=f, **knobbed=k**, sunken=s\n",
    "2. *cap-surface*: **fibrous=f**, grooves=g, scaly=y, smooth=s\n",
    "3. *cap-color*: **brown=n** ,buff=b, cinnamon=c, gray=g, green=r, pink=p, purple=u, red=e, white=w, yellow=y\n",
    "4. *bruises?*: bruises=t, **no=f**\n",
    "5. *odor*: almond=a, anise=l, creosote=c, fishy=y, foul=f, musty=m, **none=n**, pungent=p, spicy=s\n",
    "6. *gill-attachment*: attached=a, descending=d, **free=f**, notched=n\n",
    "7. *gill-spacing*: **close=c**, crowded=w, distant=d\n",
    "8. *gill-size*: broad=b, **narrow=n**\n",
    "9. *gill-color*: black=k, brown=n, buff=b, chocolate=h, gray=g, green=r, orange=o, pink=p, purple=u, red=e, **white=w**, yellow=y\n",
    "10. *stalk-shape*: **enlarging=e**, tapering=t\n",
    "11. *stalk-root*: bulbous=b, club=c, cup=u, equal=e, rhizomorphs=z, rooted=r, **missing=?**\n",
    "12. *stalk-surface-above-ring*: fibrous=f, scaly=y, **silky=k**, smooth=s\n",
    "13. *stalk-surface-below-ring*: fibrous=f, **scaly=y**, silky=k, smooth=s\n",
    "14. *stalk-color-above-ring*: brown=n, buff=b, cinnamon=c, gray=g, orange=o, pink=p, red=e, **white=w**, yellow=y\n",
    "15. *stalk-color-below-ring*: **brown=n**, buff=b, cinnamon=c, gray=g, orange=o, pink=p, red=e, white=w, yellow=y\n",
    "16. *veil-type*: **partial=p**, universal=u\n",
    "17. *veil-color*: brown=n, orange=o, **white=w**, yellow=y\n",
    "18. *ring-number*: none=n, **one=o**, two=t\n",
    "19. *ring-type*: cobwebby=c, **evanescent=e**, flaring=f, large=l, none=n, pendant=p, sheathing=s, zone=z\n",
    "20. *spore-print-color*: black=k, brown=n, buff=b, chocolate=h, green=r, orange=o, purple=u, **white=w**, yellow=y\n",
    "21. *population*: abundant=a, clustered=c, numerous=n, scattered=s, **several=v**, solitary=y\n",
    "22. *habitat*: grasses=g, leaves=l, meadows=m, paths=p, urban=u, waste=w, **woods=d**\n",
    "\n"
   ]
  },
  {
   "cell_type": "code",
   "execution_count": null,
   "metadata": {
    "execution": {
     "iopub.execute_input": "2023-01-17T20:53:57.421441Z",
     "iopub.status.busy": "2023-01-17T20:53:57.421308Z",
     "iopub.status.idle": "2023-01-17T20:53:57.425846Z",
     "shell.execute_reply": "2023-01-17T20:53:57.425301Z",
     "shell.execute_reply.started": "2023-01-17T20:53:57.421429Z"
    },
    "tags": []
   },
   "outputs": [],
   "source": [
    "attribute_names = ['class', \n",
    "                   'cap-shape', 'cap-surface', 'cap-color', \n",
    "                   'bruises?', \n",
    "                   'odor', \n",
    "                   'gill-attachment', 'gill-spacing', 'gill-size', 'gill-color', \n",
    "                   'stalk-shape', 'stalk-root', \n",
    "                   'stalk-surface-above-ring', 'stalk-surface-below-ring', \n",
    "                   'stalk-color-above-ring', 'stalk-color-below-ring',\n",
    "                   'veil-type', 'veil-color', \n",
    "                   'ring-number', 'ring-type', \n",
    "                   'spore-print-color', \n",
    "                   'population', \n",
    "                   'habitat']\n",
    "print(attribute_names)"
   ]
  },
  {
   "cell_type": "markdown",
   "metadata": {},
   "source": [
    "We read in our data file (up on canvas): agaricus-lepiota.data. [Lepiota](https://en.wikipedia.org/wiki/Lepiota) is a genus of gilled mushrooms in the family [Agaricaceae](https://en.wikipedia.org/wiki/Agaricaceae). All Lepiota species are ground-dwelling [saprotrophs](https://en.wikipedia.org/wiki/Saprotrophic_nutrition) with a preference for rich, calcareous soils. We build a list of instances, where each instance is a list of attribute values."
   ]
  },
  {
   "cell_type": "markdown",
   "metadata": {},
   "source": [
    "The following code creates a list of instances, where each instance is a list of attribute values (like `instance_1_str` above). "
   ]
  },
  {
   "cell_type": "code",
   "execution_count": null,
   "metadata": {
    "execution": {
     "iopub.execute_input": "2023-01-17T20:53:57.426677Z",
     "iopub.status.busy": "2023-01-17T20:53:57.426538Z",
     "iopub.status.idle": "2023-01-17T20:53:57.437377Z",
     "shell.execute_reply": "2023-01-17T20:53:57.436964Z",
     "shell.execute_reply.started": "2023-01-17T20:53:57.426664Z"
    },
    "tags": []
   },
   "outputs": [],
   "source": [
    "all_instances = []  # initialize instances to an empty list\n",
    "data_filename = 'data/agaricus-lepiota.data'\n",
    "\n",
    "with open(data_filename, 'r') as f:\n",
    "    for line in f:  # 'line' will be bound to the next line in f in each for loop iteration\n",
    "        all_instances.append(line.strip().split(','))\n",
    "        \n",
    "print('Read', len(all_instances), 'instances from', data_filename)\n",
    "# we don't want to print all the instances, so we'll just print the first one to verify\n",
    "print('First instance:', all_instances[0]) "
   ]
  },
  {
   "cell_type": "markdown",
   "metadata": {},
   "source": [
    "### 5.1 Missing values & \"clean\" instances"
   ]
  },
  {
   "cell_type": "markdown",
   "metadata": {},
   "source": [
    "As noted in the initial description of the UCI mushroom set above, 2480 of the 8124 instances have missing attribute values (denoted by `'?'`). We will simply ignore any such instances and restrict our focus to only *clean* instances (with no missing values).\n"
   ]
  },
  {
   "cell_type": "code",
   "execution_count": null,
   "metadata": {
    "execution": {
     "iopub.execute_input": "2023-01-17T20:53:57.438246Z",
     "iopub.status.busy": "2023-01-17T20:53:57.438092Z",
     "iopub.status.idle": "2023-01-17T20:53:57.443394Z",
     "shell.execute_reply": "2023-01-17T20:53:57.442929Z",
     "shell.execute_reply.started": "2023-01-17T20:53:57.438234Z"
    },
    "tags": []
   },
   "outputs": [],
   "source": [
    "UNKNOWN_VALUE = '?'\n",
    "clean_instances = [instance\n",
    "                   for instance in all_instances\n",
    "                   if UNKNOWN_VALUE not in instance]\n",
    "\n",
    "print(len(clean_instances), 'clean instances')"
   ]
  },
  {
   "cell_type": "code",
   "execution_count": null,
   "metadata": {
    "execution": {
     "iopub.execute_input": "2023-01-17T20:53:57.444319Z",
     "iopub.status.busy": "2023-01-17T20:53:57.444126Z",
     "iopub.status.idle": "2023-01-17T20:53:57.448469Z",
     "shell.execute_reply": "2023-01-17T20:53:57.447982Z",
     "shell.execute_reply.started": "2023-01-17T20:53:57.444304Z"
    },
    "tags": []
   },
   "outputs": [],
   "source": [
    "[print(ci) for i,ci in enumerate(clean_instances) if i <= 5]"
   ]
  },
  {
   "cell_type": "code",
   "execution_count": null,
   "metadata": {
    "execution": {
     "iopub.execute_input": "2023-01-17T20:53:57.449206Z",
     "iopub.status.busy": "2023-01-17T20:53:57.449075Z",
     "iopub.status.idle": "2023-01-17T20:53:57.452334Z",
     "shell.execute_reply": "2023-01-17T20:53:57.451854Z",
     "shell.execute_reply.started": "2023-01-17T20:53:57.449193Z"
    },
    "tags": []
   },
   "outputs": [],
   "source": [
    "attribute_values_cap_type = {'b': 'bell', \n",
    "                             'c': 'conical', \n",
    "                             'x': 'convex', \n",
    "                             'f': 'flat', \n",
    "                             'k': 'knobbed', \n",
    "                             's': 'sunken'}\n",
    "\n",
    "for attribute_value_abbrev in attribute_values_cap_type:\n",
    "    print(attribute_value_abbrev, '=', attribute_values_cap_type[attribute_value_abbrev])"
   ]
  },
  {
   "cell_type": "markdown",
   "metadata": {},
   "source": [
    "If we want to count the numbers of **edible** and **poisonous** mushrooms in the *clean_instances* list we created earlier:"
   ]
  },
  {
   "cell_type": "code",
   "execution_count": null,
   "metadata": {
    "execution": {
     "iopub.execute_input": "2023-01-17T20:53:57.453341Z",
     "iopub.status.busy": "2023-01-17T20:53:57.453159Z",
     "iopub.status.idle": "2023-01-17T20:53:57.458607Z",
     "shell.execute_reply": "2023-01-17T20:53:57.457733Z",
     "shell.execute_reply.started": "2023-01-17T20:53:57.453326Z"
    },
    "tags": []
   },
   "outputs": [],
   "source": [
    "edible_count = 0\n",
    "for instance in clean_instances:\n",
    "    if instance[0] == 'e':\n",
    "        edible_count += 1  # this is shorthand for edible_count = edible_count + 1\n",
    "\n",
    "print('There are', edible_count, 'edible mushrooms among the', \n",
    "      len(clean_instances), 'clean instances')"
   ]
  },
  {
   "cell_type": "markdown",
   "metadata": {},
   "source": [
    "If we want to count the number of occurrences (**frequencies**) of each possible value for an attribute, we can create a dictionary where each dictionary key is an attribute value and each dictionary value is the count of instances with that attribute value.\n",
    "\n",
    "Using an ordinary dictionary, we must be careful to create a new dictionary entry the first time we see a new attribute value (that is not already contained in the dictionary)."
   ]
  },
  {
   "cell_type": "code",
   "execution_count": null,
   "metadata": {
    "execution": {
     "iopub.execute_input": "2023-01-17T20:53:57.459660Z",
     "iopub.status.busy": "2023-01-17T20:53:57.459494Z",
     "iopub.status.idle": "2023-01-17T20:53:57.466096Z",
     "shell.execute_reply": "2023-01-17T20:53:57.465593Z",
     "shell.execute_reply.started": "2023-01-17T20:53:57.459647Z"
    },
    "tags": []
   },
   "outputs": [],
   "source": [
    "cap_state_value_counts = {}\n",
    "for instance in clean_instances:\n",
    "    cap_state_value = instance[1]  # cap-state is the 2nd attribute\n",
    "    if cap_state_value not in cap_state_value_counts:\n",
    "        # first occurrence, must explicitly initialize counter for this cap_state_value\n",
    "        cap_state_value_counts[cap_state_value] = 0\n",
    "    cap_state_value_counts[cap_state_value] += 1\n",
    "\n",
    "print('Counts for each value of cap-state:')\n",
    "for value in cap_state_value_counts:\n",
    "    print(value, ':', cap_state_value_counts[value])"
   ]
  },
  {
   "cell_type": "markdown",
   "metadata": {},
   "source": [
    "You could also had used a `Counter` object, which when instantiated with a list of items, returns a dictionary-like container in which the *keys* are the unique items in the list, and the *values* are the counts of each unique item in that list. "
   ]
  },
  {
   "cell_type": "code",
   "execution_count": null,
   "metadata": {
    "execution": {
     "iopub.execute_input": "2023-01-17T20:53:57.473298Z",
     "iopub.status.busy": "2023-01-17T20:53:57.473085Z",
     "iopub.status.idle": "2023-01-17T20:53:57.478198Z",
     "shell.execute_reply": "2023-01-17T20:53:57.477741Z",
     "shell.execute_reply.started": "2023-01-17T20:53:57.473281Z"
    },
    "tags": []
   },
   "outputs": [],
   "source": [
    "from collections import Counter\n",
    "cap_state_value_counts = Counter()\n",
    "\n",
    "counts = Counter(['a', 'b', 'c', 'a', 'b', 'a'])\n",
    "print(counts)\n",
    "print(counts.most_common())"
   ]
  },
  {
   "cell_type": "markdown",
   "metadata": {},
   "source": [
    "## 6. The Classifier: A Decision Tree\n",
    "\n",
    "The image below depicts a decision tree created from the UCI mushroom dataset.\n",
    "\n",
    "* a white box represents an **internal node** (and the label represents the *attribute* being tested)\n",
    "* a blue box represents a **test node** representing an attribute value (an *outcome* of the *test* of that attribute)\n",
    "* a green box represents a **leaf node** with a *class label* of *edible*\n",
    "* a red box represents a **leaf node** with a *class label* of *poisonous*\n",
    "\n",
    "<br />\n",
    "<center>\n",
    "<img src = ipynb.images/mushroomdecisiontree.png width = 800 />\n",
    "</center>\n",
    "\n",
    "The UCI mushroom dataset consists entirely of [categorical variables](https://en.wikipedia.org/wiki/Categorical_variable), i.e., every variable (or *attribute*) has an **enumerated set of possible values**. \n",
    "\n",
    "Our decision tree will only accommodate *categorical variables*. It is based on [this](https://github.com/chrisspen/dtree) codebase, which itself is based on an article (since deleted) by Chris Roach.\n",
    "\n",
    "This algorithm will be our introduction to the 3 basic steps of Machine Learning:\n",
    "* ***Create*** a decision tree using a set of *training* instances\n",
    "* ***Classify*** (predict class labels) for a set of *test* instances (!= *training* instances) using a simple decision tree\n",
    "* ***Evaluate*** the performance of a simple decision tree on classifying a set of test instances\n",
    "\n"
   ]
  },
  {
   "cell_type": "markdown",
   "metadata": {},
   "source": [
    "### 6.1 Statistical mechanics Entropy\n",
    "\n",
    "[Statistical Mechanics Entropy](https://en.wikipedia.org/wiki/Entropy) is a logarithmic measure of the number of system states with significant probability of being occupied. $p_{i}$ is the probability that the system is in $i$th state, usually given by the [Boltzmann distribution](). That is a distribution we have not studied in INFO 6105. \n",
    "\n",
    ">**Definition**: A Boltzmann distribution (a.k.a Gibbs distribution) is a probability distribution or probability measure that gives the probability that a system will be in a certain state as a function of that state's energy $\\epsilon$ and the temperature $T$ of the system.\n",
    "\n",
    ">$$p_i \\propto e^{- \\epsilon_i / (kT)}$$\n",
    "\n",
    "The Boltzmann distribution is named after [Ludwig Boltzmann](https://en.wikipedia.org/wiki/Ludwig_Boltzmann) who first formulated it in 1868 during his studies of the statistical mechanics of gases in thermal equilibrium. Boltzmann's statistical work is borne out in his paper \"*On the Relationship between the Second Fundamental Theorem of the Mechanical Theory of Heat and Probability Calculations Regarding the Conditions for Thermal Equilibrium*\". The distribution was later investigated extensively, in its modern generic form, by [Josiah Willard Gibbs](https://en.wikipedia.org/wiki/Josiah_Willard_Gibbs) in 1902.\n",
    "\n",
    ">**Definition**: Entropy is the amount of information contained in the microscopic state of a system which is missing in the approximate representation of that system using macroscopic thermodynamics.\n",
    "\n",
    "**Entropy** is the log of the number of total microscopic states corresponding to a particular macro state of thermodynamics. \n",
    "\n",
    ">**Definition**: Entropy is *the additional information you'd need to know in order to completely specify the microstate, given knowledge of the macrostate*."
   ]
  },
  {
   "cell_type": "markdown",
   "metadata": {},
   "source": [
    "### 6.2 Information Entropy\n",
    "... is exactly what we talked about at the very top of this notebook.\n",
    "\n",
    "[Information Entropy](https://en.wikipedia.org/wiki/Entropy_(information_theory)) of a random variable is the average level of  \"*surprise*\", or \"*uncertainty*\" inherent to the variable's possible outcomes. Information Entropy can be thought of as how **unpredictable** a dataset is. You can also think of it as a measure of **disorder in a dataset**"
   ]
  },
  {
   "cell_type": "markdown",
   "metadata": {},
   "source": [
    "The concept of information entropy was introduced by Claude Shannon in his 1948 paper \"*A Mathematical Theory of Communication*\" and is also referred to as *Shannon entropy*.\n",
    "\n",
    "For a 2-class (binary) classification task:\n",
    "\n",
    "$\\text{entropy}(S) = - p_1 log_2 (p_1) - p_2 log_2 (p_2)$\n",
    "\n",
    "where $p_i$ is proportion (relative frequency) of class $i$ within the set $S$."
   ]
  },
  {
   "cell_type": "markdown",
   "metadata": {},
   "source": [
    "Now, we know that the proportion of `clean_instances` that are labeled `'e'` (class `edible`) in the UCI dataset is $3488 \\div 5644 = 0.618$, and the proportion labeled `'p'` (class `poisonous`) is $2156 \\div 5644 = 0.382$. \n",
    "\n",
    "Thus the entropy of our mushroom dataset:"
   ]
  },
  {
   "cell_type": "code",
   "execution_count": null,
   "metadata": {
    "execution": {
     "iopub.execute_input": "2023-01-17T20:53:57.479255Z",
     "iopub.status.busy": "2023-01-17T20:53:57.479089Z",
     "iopub.status.idle": "2023-01-17T20:53:57.483461Z",
     "shell.execute_reply": "2023-01-17T20:53:57.483011Z",
     "shell.execute_reply.started": "2023-01-17T20:53:57.479241Z"
    },
    "tags": []
   },
   "outputs": [],
   "source": [
    "import math\n",
    "\n",
    "# balanced data \n",
    "\n",
    "entropy = \\\n",
    "    - (3488 / 5644) * math.log2(3488 / 5644) \\\n",
    "    - (2156 / 5644) * math.log2(2156 / 5644)\n",
    "print(entropy)"
   ]
  },
  {
   "cell_type": "markdown",
   "metadata": {},
   "source": [
    "Now download `simple_ml.py`, a python helper module for decision trees from canvas, create a folder called `pythoncode` in your `C:/Users/<Username>` folder, and copy the file to that folder. Therein, a function `entropy(instances)` computes the entropy of `instances`. You may assume the class label is in position 0.\n",
    "\n",
    ">**Note**: The class label in most datasets is the **last** rather than the **first** item on each row."
   ]
  },
  {
   "cell_type": "code",
   "execution_count": null,
   "metadata": {
    "execution": {
     "iopub.execute_input": "2023-01-17T20:53:57.484623Z",
     "iopub.status.busy": "2023-01-17T20:53:57.484149Z",
     "iopub.status.idle": "2023-01-17T20:53:57.487609Z",
     "shell.execute_reply": "2023-01-17T20:53:57.486886Z",
     "shell.execute_reply.started": "2023-01-17T20:53:57.484608Z"
    },
    "tags": []
   },
   "outputs": [],
   "source": [
    "# clean_instances"
   ]
  },
  {
   "cell_type": "code",
   "execution_count": null,
   "metadata": {
    "execution": {
     "iopub.execute_input": "2023-01-17T20:53:57.488396Z",
     "iopub.status.busy": "2023-01-17T20:53:57.488268Z",
     "iopub.status.idle": "2023-01-17T20:53:57.493890Z",
     "shell.execute_reply": "2023-01-17T20:53:57.492963Z",
     "shell.execute_reply.started": "2023-01-17T20:53:57.488383Z"
    },
    "tags": []
   },
   "outputs": [],
   "source": [
    "import sys\n",
    "sys.path.append('/Users/deveshsurve/UNIVERSITY/INFO/6106/Pythoncode/')\n",
    "\n",
    "import simple_ml\n",
    "\n",
    "# delete 'simple_ml.' in the function call below to test your function\n",
    "print(simple_ml.entropy(clean_instances))"
   ]
  },
  {
   "cell_type": "markdown",
   "metadata": {},
   "source": [
    "### 6.3 Information Gain"
   ]
  },
  {
   "cell_type": "markdown",
   "metadata": {},
   "source": [
    "**Information gain** is based on the decrease in entropy after a dataset is split on an attribute. Constructing a decision tree branch is all about finding an attribute that returns the highest information gain (i.e., the most homogeneous branches).\n",
    "\n",
    "Since our entropy decreased from 0.61 to 0 in our figure above, the information gain was +0.61.\n",
    "Oh okay so entropy decreased matlab randomness decreased as in information was gained\n",
    "\n",
    "When building a supervised classification model, the frequency distribution (histogram) of attribute values (column values) is potentially a factor in determining the relative importance of each attribute in the model building process.\n",
    "\n",
    "A decision tree is constructed from a set of instances using a recursive algorithm that: \n",
    "\n",
    "* Selects the *best* attribute \n",
    "* Splits the set into subsets based on the values of that attribute (each subset is composed of instances from the original set that have the same value for that attribute)\n",
    "* Repeats the process on each of these subsets until a stopping condition is met (e.g., a subset has no instances or has instances which all have the same class label)\n",
    "\n",
    "[Entropy](https://en.wikipedia.org/wiki/Entropy) is used in selecting the best attribute for each split: the best attribute is the one resulting in the *largest decrease in entropy* or *largest information gain* for a set of instances.\n",
    "\n",
    "[Information gain](https://www.unine.ch/files/live/sites/imi/files/shared/documents/papers/Gini_index_fulltext.pdf) measures the decrease in entropy that results from splitting a set of instances based on an attribute.\n",
    "\n",
    "$IG(S, a) = \\text{entropy}(S) - [p(s_1) * \\text{entropy}(s_1) + p(s_2) * \\text{entropy}(s_2) ... + p(s_n) * \\text{entropy}(s_n)]$\n",
    "\n",
    "where \n",
    "* $n$ is the number of distinct values of attribute $a$\n",
    "* $s_i$ is the subset of $S$ where all instances have the $i$th value of $a$\n",
    "* $p(s_i)$ is the proportion of instances in $S$ that have the $i$th value of $a$"
   ]
  },
  {
   "cell_type": "markdown",
   "metadata": {},
   "source": [
    "#### Example\n",
    "\n",
    "Consider a dataset with 1 blue ball, 2 green balls, and 3 red balls. Compute the entropy of that dataset in the cell below:\n",
    "\n",
    "$$E = -p_b log(p_b) -p_g log(p_g) -p_r log(p_r)$$"
   ]
  },
  {
   "cell_type": "code",
   "execution_count": null,
   "metadata": {
    "execution": {
     "iopub.execute_input": "2023-01-17T20:53:57.494983Z",
     "iopub.status.busy": "2023-01-17T20:53:57.494551Z",
     "iopub.status.idle": "2023-01-17T20:53:57.499350Z",
     "shell.execute_reply": "2023-01-17T20:53:57.498976Z",
     "shell.execute_reply.started": "2023-01-17T20:53:57.494966Z"
    },
    "tags": []
   },
   "outputs": [],
   "source": [
    "- (1/6)*math.log2(1/6)- (2/6)*math.log2(2/6)- (3/6)*math.log2(3/6)\n",
    "\n",
    "entropy = e\n",
    "entropy([1,2,3])"
   ]
  },
  {
   "cell_type": "code",
   "execution_count": null,
   "metadata": {
    "execution": {
     "iopub.execute_input": "2023-01-17T20:53:57.500067Z",
     "iopub.status.busy": "2023-01-17T20:53:57.499936Z",
     "iopub.status.idle": "2023-01-17T20:53:57.504108Z",
     "shell.execute_reply": "2023-01-17T20:53:57.503618Z",
     "shell.execute_reply.started": "2023-01-17T20:53:57.500054Z"
    },
    "tags": []
   },
   "outputs": [],
   "source": [
    "\n",
    "import math\n",
    "e123 = \\\n",
    "    - (1 / 6) * math.log(1 / 6, 2) \\\n",
    "    - (2 / 6) * math.log(2 / 6, 2) \\\n",
    "    - (3 / 6) * math.log(3 / 6, 2)\n",
    "e123\n",
    "entropy([1,2,3])"
   ]
  },
  {
   "cell_type": "markdown",
   "metadata": {},
   "source": [
    "<div hidden>\n",
    "entropy = e\n",
    "entropy([1,2,3])"
   ]
  },
  {
   "cell_type": "markdown",
   "metadata": {},
   "source": [
    "Now compute the entropy of a dataset with 10 blue balls:"
   ]
  },
  {
   "cell_type": "code",
   "execution_count": null,
   "metadata": {
    "execution": {
     "iopub.execute_input": "2023-01-17T20:53:57.505052Z",
     "iopub.status.busy": "2023-01-17T20:53:57.504837Z",
     "iopub.status.idle": "2023-01-17T20:53:57.508201Z",
     "shell.execute_reply": "2023-01-17T20:53:57.507784Z",
     "shell.execute_reply.started": "2023-01-17T20:53:57.505039Z"
    },
    "tags": []
   },
   "outputs": [],
   "source": [
    "# - (10/10)*math.log2(10/10)\n",
    "\n",
    "entropy([10])"
   ]
  },
  {
   "cell_type": "markdown",
   "metadata": {},
   "source": [
    "Now compute the entropy of a dataset with 10 balls of *different* color:"
   ]
  },
  {
   "cell_type": "code",
   "execution_count": null,
   "metadata": {
    "execution": {
     "iopub.execute_input": "2023-01-17T20:53:57.509226Z",
     "iopub.status.busy": "2023-01-17T20:53:57.509076Z",
     "iopub.status.idle": "2023-01-17T20:53:57.512939Z",
     "shell.execute_reply": "2023-01-17T20:53:57.512421Z",
     "shell.execute_reply.started": "2023-01-17T20:53:57.509213Z"
    },
    "tags": []
   },
   "outputs": [],
   "source": [
    "entropy([1,1,1,1,1,1,1,1,1,1])"
   ]
  },
  {
   "cell_type": "code",
   "execution_count": null,
   "metadata": {
    "execution": {
     "iopub.execute_input": "2023-01-17T20:53:57.513904Z",
     "iopub.status.busy": "2023-01-17T20:53:57.513779Z",
     "iopub.status.idle": "2023-01-17T20:53:57.518946Z",
     "shell.execute_reply": "2023-01-17T20:53:57.518397Z",
     "shell.execute_reply.started": "2023-01-17T20:53:57.513892Z"
    },
    "tags": []
   },
   "outputs": [],
   "source": [
    "- (1/10)*math.log2(1/10) * 10\n",
    "- (1/10)*math.log2(1/10)- (1/10)*math.log2(1/10)- (1/10)*math.log2(1/10)- (1/10)*math.log2(1/10)- (1/10)*math.log2(1/10)- (1/10)*math.log2(1/10)- (1/10)*math.log2(1/10)- (1/10)*math.log2(1/10)- (1/10)*math.log2(1/10)- (1/10)*math.log2(1/10)"
   ]
  },
  {
   "cell_type": "code",
   "execution_count": null,
   "metadata": {
    "execution": {
     "iopub.execute_input": "2023-01-17T20:53:57.520007Z",
     "iopub.status.busy": "2023-01-17T20:53:57.519597Z",
     "iopub.status.idle": "2023-01-17T20:53:57.522325Z",
     "shell.execute_reply": "2023-01-17T20:53:57.521929Z",
     "shell.execute_reply.started": "2023-01-17T20:53:57.519992Z"
    },
    "tags": []
   },
   "outputs": [],
   "source": [
    "# clean_instances"
   ]
  },
  {
   "cell_type": "markdown",
   "metadata": {},
   "source": [
    "Order the datasets in terms of information entropy!"
   ]
  },
  {
   "cell_type": "markdown",
   "metadata": {},
   "source": [
    "Now consider a dataset of balls in plane where all balls have 3 attributes (3 columns): color, $x$ coordinate, and $y$ coordinate:\n",
    "\n",
    "<br />\n",
    "<center>\n",
    "<img src = ipynb.images/ig-example-dataset.svg width = 400 />\n",
    "</center>"
   ]
  },
  {
   "cell_type": "markdown",
   "metadata": {},
   "source": [
    "What if we make a split of our tree at $x=1.5$?\n",
    "\n",
    "<br />\n",
    "<center>\n",
    "<img src = ipynb.images/ig-example-split.svg width = 400 />\n",
    "</center>\n",
    "\n",
    "Well, I'm sure you could have done better. This imperfect split breaks our dataset into two branches:\n",
    "- Left branch, with 4 blues.    \n",
    "- Right branch, with 1 blue and 5 greens.    \n",
    "\n",
    "It’s clear this split isn’t optimal, but how can we quantify the **quality** of this split?\n",
    "\n",
    "Before the split, we had 5 blues and 5 greens, so the **prior** entropy was:\n",
    "\n",
    "$$E_{prior} = -0.5 *log(0.5) -0.5 *log(0.5)$$"
   ]
  },
  {
   "cell_type": "code",
   "execution_count": null,
   "metadata": {
    "execution": {
     "iopub.execute_input": "2023-01-17T20:53:57.523214Z",
     "iopub.status.busy": "2023-01-17T20:53:57.522981Z",
     "iopub.status.idle": "2023-01-17T20:53:57.526707Z",
     "shell.execute_reply": "2023-01-17T20:53:57.526178Z",
     "shell.execute_reply.started": "2023-01-17T20:53:57.523201Z"
    },
    "tags": []
   },
   "outputs": [],
   "source": [
    "Eprior = -(5/10) *math.log((5/10)) -(5/10) *math.log((5/10))\n",
    "Eprior"
   ]
  },
  {
   "cell_type": "markdown",
   "metadata": {},
   "source": [
    "After the split, we have two branches and one **posterior** entropy that results in the addition of two sub-entropies.\n",
    "\n",
    "Left Branch has 4 blues, so $E_{left} = 0$ because it’s a dataset of all one color.\n",
    "\n",
    "Right Branch has 1 blue and 5 greens, so $E_{right} = -1/6*log(1.6) -5/6*log(5/6)$."
   ]
  },
  {
   "cell_type": "code",
   "execution_count": null,
   "metadata": {
    "execution": {
     "iopub.execute_input": "2023-01-17T20:53:57.527414Z",
     "iopub.status.busy": "2023-01-17T20:53:57.527291Z",
     "iopub.status.idle": "2023-01-17T20:53:57.531566Z",
     "shell.execute_reply": "2023-01-17T20:53:57.531197Z",
     "shell.execute_reply.started": "2023-01-17T20:53:57.527402Z"
    },
    "tags": []
   },
   "outputs": [],
   "source": [
    "Eleft = 0\n",
    "Eright = -1/6*math.log(1.6) -5/6*math.log(5/6)\n",
    "Eright"
   ]
  },
  {
   "cell_type": "markdown",
   "metadata": {},
   "source": [
    "Now that we have the entropies for both branches, we can determine the quality of the split by *weighing* the entropy of each branch by how many elements it has. \n",
    "\n",
    "Since Left Branch has 4 elements and Right Branch has 6, we weight them by 0.4 and 0.6, respectively:\n",
    "\n",
    "$$E_{split} = 0.4 * 0 + 0.6 * 0.073$$"
   ]
  },
  {
   "cell_type": "code",
   "execution_count": null,
   "metadata": {
    "execution": {
     "iopub.execute_input": "2023-01-17T20:53:57.532642Z",
     "iopub.status.busy": "2023-01-17T20:53:57.532509Z",
     "iopub.status.idle": "2023-01-17T20:53:57.536309Z",
     "shell.execute_reply": "2023-01-17T20:53:57.535611Z",
     "shell.execute_reply.started": "2023-01-17T20:53:57.532629Z"
    },
    "tags": []
   },
   "outputs": [],
   "source": [
    "Esplit = 0.4*Eleft + 0.6*Eright\n",
    "Esplit"
   ]
  },
  {
   "cell_type": "markdown",
   "metadata": {},
   "source": [
    "We started with $E_{before} = 0.69$ entropy before the split and now are down to 0.044! \n",
    "\n",
    "Information Gain = how much Entropy we removed, so\n",
    "\n",
    "$$\\text{Gain} = .69 - 0.044 = \\boxed{0.65}$$\n",
    "\n",
    ">**Idea**: The goal of a decision tree is to find the split that yields the highest information gain at each level of the tree."
   ]
  },
  {
   "cell_type": "markdown",
   "metadata": {},
   "source": [
    "#### Back to our mushroom stew\n",
    "\n",
    "We'll use `information_gain()` in `simple_ml` to print the information gain for each of the attributes in the mushroom dataset."
   ]
  },
  {
   "cell_type": "code",
   "execution_count": null,
   "metadata": {
    "execution": {
     "iopub.execute_input": "2023-01-17T20:53:57.537311Z",
     "iopub.status.busy": "2023-01-17T20:53:57.537021Z",
     "iopub.status.idle": "2023-01-17T20:53:57.542092Z",
     "shell.execute_reply": "2023-01-17T20:53:57.541427Z",
     "shell.execute_reply.started": "2023-01-17T20:53:57.537294Z"
    },
    "tags": []
   },
   "outputs": [],
   "source": [
    "from collections import defaultdict, Counter\n",
    "cc = defaultdict(list)\n",
    "for i in range(1,11):\n",
    "    cc[clean_instances[i][0]].append(clean_instances[i])\n",
    "print(cc)"
   ]
  },
  {
   "cell_type": "code",
   "execution_count": null,
   "metadata": {
    "execution": {
     "iopub.execute_input": "2023-01-17T20:53:57.543397Z",
     "iopub.status.busy": "2023-01-17T20:53:57.543210Z",
     "iopub.status.idle": "2023-01-17T20:53:57.548531Z",
     "shell.execute_reply": "2023-01-17T20:53:57.547730Z",
     "shell.execute_reply.started": "2023-01-17T20:53:57.543382Z"
    },
    "tags": []
   },
   "outputs": [],
   "source": [
    "len(cc[\"e\"])"
   ]
  },
  {
   "cell_type": "code",
   "execution_count": null,
   "metadata": {
    "execution": {
     "iopub.execute_input": "2023-01-17T20:53:57.550304Z",
     "iopub.status.busy": "2023-01-17T20:53:57.549831Z",
     "iopub.status.idle": "2023-01-17T20:53:57.555359Z",
     "shell.execute_reply": "2023-01-17T20:53:57.554791Z",
     "shell.execute_reply.started": "2023-01-17T20:53:57.550259Z"
    },
    "tags": []
   },
   "outputs": [],
   "source": [
    "clean_instances[0]"
   ]
  },
  {
   "cell_type": "code",
   "execution_count": null,
   "metadata": {
    "execution": {
     "iopub.execute_input": "2023-01-17T20:53:57.556232Z",
     "iopub.status.busy": "2023-01-17T20:53:57.556072Z",
     "iopub.status.idle": "2023-01-17T20:53:57.561534Z",
     "shell.execute_reply": "2023-01-17T20:53:57.560648Z",
     "shell.execute_reply.started": "2023-01-17T20:53:57.556217Z"
    },
    "tags": []
   },
   "outputs": [],
   "source": [
    "# simple_ml.information_gain(clean_instances, 5)\n",
    "simple_ml.entropy(clean_instances, 0, \"mush_type\")"
   ]
  },
  {
   "cell_type": "code",
   "execution_count": null,
   "metadata": {
    "execution": {
     "iopub.execute_input": "2023-01-17T20:53:57.562748Z",
     "iopub.status.busy": "2023-01-17T20:53:57.562549Z",
     "iopub.status.idle": "2023-01-17T20:53:57.566107Z",
     "shell.execute_reply": "2023-01-17T20:53:57.565672Z",
     "shell.execute_reply.started": "2023-01-17T20:53:57.562735Z"
    },
    "tags": []
   },
   "outputs": [],
   "source": [
    "attribute_names"
   ]
  },
  {
   "cell_type": "code",
   "execution_count": null,
   "metadata": {
    "execution": {
     "iopub.execute_input": "2023-01-17T20:53:57.567291Z",
     "iopub.status.busy": "2023-01-17T20:53:57.567162Z",
     "iopub.status.idle": "2023-01-17T20:53:57.605579Z",
     "shell.execute_reply": "2023-01-17T20:53:57.604791Z",
     "shell.execute_reply.started": "2023-01-17T20:53:57.567279Z"
    },
    "tags": []
   },
   "outputs": [],
   "source": [
    "# I was testing this out\n",
    "# def entropy(instances, class_index=0, attribute_name=None, value_name=None):\n",
    "#     '''Calculate the entropy of attribute in position attribute_index for the list of instances.'''\n",
    "#     num_instances = len(instances)\n",
    "#     if num_instances <= 1:\n",
    "#         return 0\n",
    "#     value_counts = defaultdict(int)\n",
    "#     for instance in instances:\n",
    "#         value_counts[instance[class_index]] += 1\n",
    "#     num_values = len(value_counts)\n",
    "#     if num_values <= 1:\n",
    "#         return 0\n",
    "#     attribute_entropy = 0.0\n",
    "#     if attribute_name:\n",
    "#         print('entropy({}{}) = '.format(attribute_name, \n",
    "#         \t'={}'.format(value_name) if value_name else ''))\n",
    "#     for value in value_counts:\n",
    "#         value_probability = value_counts[value] / num_instances\n",
    "#         child_entropy = value_probability * math.log(value_probability, 2)\n",
    "#         attribute_entropy -= child_entropy\n",
    "#         if attribute_name:\n",
    "#             print('  - p({0}) x log(p({0}), {1})  =  - {2:5.3f} x log({2:5.3f})  =  {3:5.3f}'.format(\n",
    "#                 value, num_values, value_probability, child_entropy))\n",
    "#     if attribute_name:\n",
    "#         print('  = {:5.3f}'.format(attribute_entropy))\n",
    "#     return attribute_entropy\n",
    "\n",
    "\n",
    "# def information_gain(instances, parent_index, class_index=0, attribute_name=False):\n",
    "#     '''Return the information gain of splitting the instances based on the attribute parent_index'''\n",
    "#     # okay first line - yeh jo target column hai uska entropy, class index 0 hai apne case mein\n",
    "#     parent_entropy = entropy(instances, class_index, attribute_name)\n",
    "#     # then yeh ek defaultdict banaya hai, list pass kiya hai \n",
    "#     child_instances = defaultdict(list)\n",
    "#     # then for every single row\n",
    "#     for instance in instances:\n",
    "#         # okay toh isse ek dict .. jaha har row as value and p ya e as key ya jo bhi parent index diya woh add hui hai\n",
    "#         child_instances[instance[parent_index]].append(instance)\n",
    "#     # okay yeh define kiya hai yaha \n",
    "#     children_entropy = 0.0\n",
    "#     num_instances = len(instances)\n",
    "    \n",
    "#     # now iss dict mein ghumaya hai \n",
    "#     for child_value in child_instances:\n",
    "#         # now child prob will be p aur e ke liye 60 aur 40 percent\n",
    "#         child_probability = len(child_instances[child_value]) / num_instances\n",
    "#         # fir yaha pe entropy calcuate hogi for each category\n",
    "#         print(\"Prob of \",child_value,\" is \",child_probability)\n",
    "#         children_entropy += child_probability * entropy(\n",
    "#         \tchild_instances[child_value], class_index, attribute_name, child_value)\n",
    "#     print(\"Thus the children_entropy is \", children_entropy, \"parent is \", parent_entropy)\n",
    "#     print()\n",
    "#     return parent_entropy - children_entropy\n",
    "\n",
    "\n",
    "# print('Information gain for the different mushroom attributes:', end='\\n\\n')\n",
    "# for i in range(1, 2):\n",
    "#     print('{:5.3f}  {:2} {}'.format(\n",
    "#         information_gain(clean_instances, i, 0, attribute_names[i]), i, attribute_names[i]))\n",
    "\n",
    "\n",
    "print('Information gain for the different mushroom attributes:', end='\\n\\n')\n",
    "for i in range(1, len(attribute_names)):\n",
    "    print('{:5.3f}  {:2} {}'.format(\n",
    "        simple_ml.information_gain(clean_instances, i), i, attribute_names[i]))"
   ]
  },
  {
   "cell_type": "code",
   "execution_count": null,
   "metadata": {
    "execution": {
     "iopub.execute_input": "2023-01-17T20:53:57.607288Z",
     "iopub.status.busy": "2023-01-17T20:53:57.607024Z",
     "iopub.status.idle": "2023-01-17T20:53:57.611612Z",
     "shell.execute_reply": "2023-01-17T20:53:57.611197Z",
     "shell.execute_reply.started": "2023-01-17T20:53:57.607272Z"
    },
    "tags": []
   },
   "outputs": [],
   "source": [
    "len(clean_instances[0])\n",
    "len(attribute_names)"
   ]
  },
  {
   "cell_type": "markdown",
   "metadata": {},
   "source": [
    "We can sort the attributes based in decreasing order of information gain, which indicates that `odor` is the best attribute for the first split in a decision tree that models the instances in this dataset."
   ]
  },
  {
   "cell_type": "code",
   "execution_count": null,
   "metadata": {
    "execution": {
     "iopub.execute_input": "2023-01-17T20:53:57.612526Z",
     "iopub.status.busy": "2023-01-17T20:53:57.612400Z",
     "iopub.status.idle": "2023-01-17T20:53:57.648172Z",
     "shell.execute_reply": "2023-01-17T20:53:57.647824Z",
     "shell.execute_reply.started": "2023-01-17T20:53:57.612513Z"
    },
    "tags": []
   },
   "outputs": [],
   "source": [
    "print('Information gain for different attributes:', end='\\n\\n')\n",
    "sorted_information_gain_indexes = sorted([(simple_ml.information_gain(clean_instances, i), i)\n",
    "                                          for i in range(1, len(attribute_names))], \n",
    "                                         reverse=True)\n",
    "for gain, i in sorted_information_gain_indexes:\n",
    "    print('{:5.3f}  {:2} {}'.format(gain, i, attribute_names[i]))\n",
    "    \n",
    "len(sorted_information_gain_indexes)"
   ]
  },
  {
   "cell_type": "markdown",
   "metadata": {},
   "source": [
    "### 6.4 ID3"
   ]
  },
  {
   "cell_type": "markdown",
   "metadata": {},
   "source": [
    "We will implement a modified version of the [ID3](https://en.wikipedia.org/wiki/ID3_algorithm) algorithm for building a  decision tree.\n",
    "\n",
    "    ID3 (Examples, Target_Attribute, Candidate_Attributes)\n",
    "    \n",
    "        Create a Root node for the tree\n",
    "        If all examples have the same value of the Target_Attribute, \n",
    "            Return the single-node tree Root with label = that value \n",
    "        If the list of Candidate_Attributes is empty,\n",
    "            Return the single node tree Root,\n",
    "                with label = most common value of Target_Attribute in the examples.\n",
    "                \n",
    "        Otherwise Begin\n",
    "            A ← The Attribute that best classifies examples (most information gain)\n",
    "            Decision Tree attribute for Root = A.\n",
    "            For each possible value, v_i, of A,\n",
    "                Add a new tree branch below Root, corresponding to the test A = v_i.\n",
    "                Let Examples(v_i) be the subset of examples that have the value v_i for A\n",
    "                If Examples(v_i) is empty,\n",
    "                    Below this new branch add a leaf node \n",
    "                        with label = most common target value in the examples\n",
    "                Else \n",
    "                    Below this new branch add the subtree \n",
    "                        ID3 (Examples(v_i), Target_Attribute, Attributes – {A})\n",
    "        End\n",
    "        Return Root"
   ]
  },
  {
   "cell_type": "markdown",
   "metadata": {},
   "source": [
    "In building a decision tree, we will need to split the instances based on the index of the *best* attribute, i.e., the attribute that offers the *highest information gain*. We will use separate utility functions to handle these subtasks. To simplify, we rely exclusively on attribute *indexes* rather than attribute *names*.\n",
    "\n",
    "First, define a function, `split_instances(instances, attribute_index)`, to split a set of instances based on any attribute. This function will return a dictionary where each *key* is a distinct value of the specified `attribute_index`, and the *value* of each key is a list representing the subset of `instances` that have that `attribute_index` value.\n",
    "\n",
    "Use a [`defaultdict`](http://docs.python.org/2/library/collections.html#defaultdict-objects), a specialized dictionary class in the [`collections`](http://docs.python.org/2/library/collections.html) module that automatically creates an appropriate default value for a new key. For example, a `defaultdict(int)` automatically initializes a new dictionary entry to 0 (zero). A `defaultdict(list)` automatically initializes a new dictionary entry to the empty list (`[]`)."
   ]
  },
  {
   "cell_type": "code",
   "execution_count": null,
   "metadata": {
    "execution": {
     "iopub.execute_input": "2023-01-17T20:54:12.689507Z",
     "iopub.status.busy": "2023-01-17T20:54:12.688782Z",
     "iopub.status.idle": "2023-01-17T20:54:12.695985Z",
     "shell.execute_reply": "2023-01-17T20:54:12.695485Z",
     "shell.execute_reply.started": "2023-01-17T20:54:12.689447Z"
    },
    "tags": []
   },
   "outputs": [],
   "source": [
    "# refer above example for why this is used\n",
    "from collections import defaultdict\n",
    "\n",
    "# instance is row\n",
    "# attribute index column index hai, instead of name woh liya for simplicity\n",
    "\n",
    "def split_instances(instances, attribute_index):\n",
    "    '''Returns a list of dictionaries, splitting a list of instances \n",
    "        according to their values of a specified attribute index\n",
    "    \n",
    "    The key of each dictionary is a distinct value of attribute_index,\n",
    "    and the value of each dictionary is a list representing \n",
    "       the subset of instances that have that value for the attribute\n",
    "    '''\n",
    "    # Refer above why partition is used, also agar list hataya toh doesn't work\n",
    "    partitions = defaultdict(list)\n",
    "    # for 0th index, i.e. value of 1, woh dekhega ki 1 kidhr kidhr hai and utne rows ko yaha add karega, guess next fir agle column ko jo next highest info gain dega usko add karenge\n",
    "    for instance in instances:\n",
    "        # this the part described above\n",
    "        partitions[instance[attribute_index]].append(instance)\n",
    "    return partitions"
   ]
  },
  {
   "cell_type": "code",
   "execution_count": null,
   "metadata": {
    "execution": {
     "iopub.execute_input": "2023-01-17T20:54:12.697336Z",
     "iopub.status.busy": "2023-01-17T20:54:12.697156Z",
     "iopub.status.idle": "2023-01-17T20:54:12.701468Z",
     "shell.execute_reply": "2023-01-17T20:54:12.700956Z",
     "shell.execute_reply.started": "2023-01-17T20:54:12.697322Z"
    },
    "tags": []
   },
   "outputs": [],
   "source": [
    "# p = defaultdict(list)\n",
    "# q = dict()\n",
    "# for i in range(10):\n",
    "#     p[i].append(i)\n",
    "# p\n",
    "\n",
    "# and yeh simple example\n",
    "a = [[1,2],[1,3],[1,3],[1,5]]\n",
    "split_instances(\n",
    "    instances = a, \n",
    "    attribute_index = 1\n",
    ")"
   ]
  },
  {
   "cell_type": "markdown",
   "metadata": {},
   "source": [
    "To test the function, we will partition `clean_instances` based on the `odor` attribute (index position 5) and print out the size (number of instances) in each partition rather than the lists of instances in each partition. These are all the possible odor categories:"
   ]
  },
  {
   "cell_type": "code",
   "execution_count": null,
   "metadata": {
    "execution": {
     "iopub.execute_input": "2023-01-17T20:54:13.711755Z",
     "iopub.status.busy": "2023-01-17T20:54:13.711270Z",
     "iopub.status.idle": "2023-01-17T20:54:13.720532Z",
     "shell.execute_reply": "2023-01-17T20:54:13.719542Z",
     "shell.execute_reply.started": "2023-01-17T20:54:13.711725Z"
    },
    "tags": []
   },
   "outputs": [],
   "source": [
    "partitions = split_instances(clean_instances, 5)\n",
    "# partitions\n",
    "print([(partition, len(partitions[partition])) for partition in partitions])"
   ]
  },
  {
   "cell_type": "markdown",
   "metadata": {},
   "source": [
    "Now we we have our first split and we know we can split instances based on a particular attribute. We want to be able to choose the next *best* attribute with which to split the instances at every node, where *best* is defined as the attribute that, once again, provides the *greatest information gain* if instances were split based on that attribute. \n",
    "\n",
    "We restrict candidate attributes so that we don't try to split on an attribute that was used higher up in the decision tree (or use the target attribute as a candidate)."
   ]
  },
  {
   "cell_type": "markdown",
   "metadata": {},
   "source": [
    "### 6.5 Helper Functions"
   ]
  },
  {
   "cell_type": "markdown",
   "metadata": {},
   "source": [
    "`choose_best_attribute_index(instances, candidate_attribute_indexes)` returns the index in the list of `candidate_attribute_indexes` that provides the highest information gain if `instances` are split based on that attribute index."
   ]
  },
  {
   "cell_type": "markdown",
   "metadata": {},
   "source": [
    "**Ignore the comments.. woh prof ke nahi**"
   ]
  },
  {
   "cell_type": "code",
   "execution_count": null,
   "metadata": {
    "execution": {
     "iopub.execute_input": "2023-01-17T22:00:34.594187Z",
     "iopub.status.busy": "2023-01-17T22:00:34.590369Z",
     "iopub.status.idle": "2023-01-17T22:00:34.641385Z",
     "shell.execute_reply": "2023-01-17T22:00:34.640922Z",
     "shell.execute_reply.started": "2023-01-17T22:00:34.594124Z"
    },
    "tags": []
   },
   "outputs": [],
   "source": [
    "# Okay now lets debug the choose best attribute function \n",
    "# What it does is that it gives you the attribute with highest information gain out of all candidate attributes\n",
    "# sorted list attribute with highest IG --> Information gain of all attributes --> entropy of target - entropy of attribute\n",
    "\n",
    "# Now let's just debug line by line of the entropy function\n",
    "def entropy(instances, class_index=0, attribute_name=None, value_name=None):\n",
    "    '''Calculate the entropy of attribute in position attribute_index for the list of instances.'''\n",
    "    # We keep track of total for dividing\n",
    "    num_instances = len(instances)\n",
    "    # If negative or 0 or 1 then just entropy is zero na so return it \n",
    "    if num_instances <= 1:\n",
    "        return 0\n",
    "    \n",
    "    # next again we make use of defaultdict(int) as it's just better \n",
    "    value_counts = defaultdict(int)\n",
    "    \n",
    "    # next for every instance / row \n",
    "    for instance in instances:\n",
    "        # we count ki woh target class ke kitne counts hai i.e. jar poison aahe tar kiti ani edible aahe tar kiti\n",
    "        value_counts[instance[class_index]] += 1\n",
    "        \n",
    "    # find the lenght of this, as in kitni categories nikli, maybe yaha pe bhi kuch continuous ke liye kar sakte hai \n",
    "    num_values = len(value_counts)\n",
    "    \n",
    "    # if less than 1 or equal to 1 means arey ekch class, tar kay entropy tyachi, return 0\n",
    "    if num_values <= 1:\n",
    "        return 0\n",
    "    \n",
    "    # aata attribute entropy\n",
    "    attribute_entropy = 0.0\n",
    "    \n",
    "    # he te pretty formatting statement just initial statement\n",
    "    if attribute_name:\n",
    "        print('entropy({}{}) = '.format(attribute_name, \n",
    "        \t'={}'.format(value_name) if value_name else ''))\n",
    "    \n",
    "    # value counts madhe all categories for the class index\n",
    "    for value in value_counts:\n",
    "        # find its probability\n",
    "        value_probability = value_counts[value] / num_instances\n",
    "        # Calculate entropy using formula r.log2(r) where r is probability\n",
    "        child_entropy = value_probability * math.log(value_probability, 2)\n",
    "        # he nahi kalla re isn't this the subtracting from zero\n",
    "        attribute_entropy -= child_entropy\n",
    "        # printing in a fancy way what we did\n",
    "        if attribute_name:\n",
    "            print('  - p({0}) x log(p({0}), {1})  =  - {2:5.3f} x log({2:5.3f})  =  {3:5.3f}'.format(\n",
    "                value, num_values, value_probability, child_entropy))\n",
    "    # printing only if name given, helps avoid in large datasets\n",
    "    if attribute_name:\n",
    "        print('  = {:5.3f}'.format(attribute_entropy))\n",
    "    return attribute_entropy\n",
    "\n",
    "\n",
    "def information_gain(instances, parent_index, class_index=0, attribute_name=False):\n",
    "    '''Return the information gain of splitting the instances based on the attribute parent_index'''\n",
    "    # okay first line - yeh jo target column hai uska entropy, class index 0 hai apne case mein\n",
    "    parent_entropy = entropy(instances, class_index, attribute_name)\n",
    "    # then yeh ek defaultdict banaya hai, list pass kiya hai \n",
    "    child_instances = defaultdict(list)\n",
    "    # then for every single row\n",
    "    for instance in instances:\n",
    "        # okay toh isse ek dict .. jaha har row as value and p ya e as key ya jo bhi parent index diya woh add hui hai\n",
    "        child_instances[instance[parent_index]].append(instance)\n",
    "    # okay yeh define kiya hai yaha \n",
    "    children_entropy = 0.0\n",
    "    num_instances = len(instances)\n",
    "    \n",
    "    # now iss dict mein ghumaya hai \n",
    "    for child_value in child_instances:\n",
    "        # now child prob will be p aur e ke liye 60 aur 40 percent\n",
    "        child_probability = len(child_instances[child_value]) / num_instances\n",
    "        # fir yaha pe entropy calcuate hogi for each category\n",
    "         # print (\"Prob of \",child_value,\" is \",child_probability)\n",
    "        children_entropy += child_probability * entropy(\n",
    "        \tchild_instances[child_value], class_index, attribute_name, child_value)\n",
    "    return parent_entropy - children_entropy\n",
    "    \n",
    "## JUST THIS DEF IS PROF\n",
    "    \n",
    "def choose_best_attribute_index(instances, candidate_attribute_indexes, class_index=0):\n",
    "    '''Return the index of the attribute that will provide the greatest information gain \n",
    "    if instances were partitioned based on that attribute'''\n",
    "    # sorting information gain for all candidate attribute index\n",
    "    gains_and_indexes = sorted([(information_gain(instances, i), i) for i in candidate_attribute_indexes], \n",
    "                               reverse=True)\n",
    "    return gains_and_indexes[0][1]\n",
    "\n",
    "\n",
    "print('Best attribute index:', \n",
    "      choose_best_attribute_index(clean_instances, range(1, len(attribute_names))))"
   ]
  },
  {
   "cell_type": "markdown",
   "metadata": {},
   "source": [
    "Well, how about that: It looks like *smell* is the best attribute to determine if mushrooms are edible! \n",
    "\n",
    "<br />\n",
    "<center>\n",
    "<img src = ipynb.images/nose.jfif width = 200 />\n",
    "</center>\n",
    "\n",
    "A **leaf node** in a decision tree represents the most frequently occurring - or majority - class value for that path through the tree (it's still a probabilistic algorithm). We will need a function that determines the majority value for the class index among a set of instances. One way to do this is to use the [`Counter`](https://docs.python.org/2/library/collections.html#counter-objects) class."
   ]
  },
  {
   "cell_type": "code",
   "execution_count": null,
   "metadata": {
    "execution": {
     "iopub.status.busy": "2023-01-17T20:53:57.974149Z",
     "iopub.status.idle": "2023-01-17T20:53:57.974404Z",
     "shell.execute_reply": "2023-01-17T20:53:57.974313Z",
     "shell.execute_reply.started": "2023-01-17T20:53:57.974305Z"
    },
    "tags": []
   },
   "outputs": [],
   "source": [
    "# Yaha pe check hota hai of the 1.2 condition\n",
    "\n",
    "class_counts = Counter([instance[0] for instance in clean_instances])\n",
    "print('class_counts: {}\\n  most_common(1): {}\\n  most_common(1)[0][0]: {}'.format(\n",
    "    class_counts,  # the Counter object\n",
    "    class_counts.most_common(1),  # returns a list in which the 1st element is a tuple with the most common value and its count\n",
    "    class_counts.most_common(1)[0][0]))  # the most common value (1st element in that tuple)"
   ]
  },
  {
   "cell_type": "markdown",
   "metadata": {},
   "source": [
    "It is often useful to compute the number of unique values and/or the total number of values in a `Counter`.\n",
    "\n",
    "The number of unique values is simply the number of dictionary entries.\n",
    "\n",
    "The total number of values can be computed by taking the [**`sum()`**](https://docs.python.org/2/library/functions.html#sum) of all the counts (the *value* of each *key: value* pair ... or *key, value* tuple, if we use `Counter().most_common()`)."
   ]
  },
  {
   "cell_type": "code",
   "execution_count": null,
   "metadata": {
    "execution": {
     "iopub.status.busy": "2023-01-17T20:53:57.975012Z",
     "iopub.status.idle": "2023-01-17T20:53:57.975184Z",
     "shell.execute_reply": "2023-01-17T20:53:57.975101Z",
     "shell.execute_reply.started": "2023-01-17T20:53:57.975093Z"
    },
    "tags": []
   },
   "outputs": [],
   "source": [
    "print('Number of unique values: {}'.format(len(class_counts)))\n",
    "print('Total number of values:  {}'.format(sum([v \n",
    "                                                for k, v in class_counts.most_common()])))"
   ]
  },
  {
   "cell_type": "markdown",
   "metadata": {},
   "source": [
    "Note that Python has a flexible mechanism for the testing truth values: In an **if** condition, any null object, zero-valued numerical expression or empty container (string, list, dictionary or tuple) is interpreted as *False* (i.e., *not True*):"
   ]
  },
  {
   "cell_type": "markdown",
   "metadata": {},
   "source": [
    "Ithe prof ne basically review karayla sangitla, how to code effectively"
   ]
  },
  {
   "cell_type": "code",
   "execution_count": null,
   "metadata": {
    "execution": {
     "iopub.status.busy": "2023-01-17T20:53:57.976076Z",
     "iopub.status.idle": "2023-01-17T20:53:57.976241Z",
     "shell.execute_reply": "2023-01-17T20:53:57.976157Z",
     "shell.execute_reply.started": "2023-01-17T20:53:57.976149Z"
    },
    "tags": []
   },
   "outputs": [],
   "source": [
    "for x in [False, None, 0, 0.0, \"\", [], {}, ()]:\n",
    "    print('\"{}\" is'.format(x), end=' ')\n",
    "    if x:\n",
    "        print(True)\n",
    "    else:\n",
    "        print(False)"
   ]
  },
  {
   "cell_type": "code",
   "execution_count": null,
   "metadata": {},
   "outputs": [],
   "source": []
  },
  {
   "cell_type": "markdown",
   "metadata": {},
   "source": [
    "Sometimes, particularly with function parameters, it is helpful to differentiate `None` from empty lists and other data structures with a `False` truth value (one common use case is illustrated in `create_decision_tree()` below)."
   ]
  },
  {
   "cell_type": "code",
   "execution_count": null,
   "metadata": {
    "execution": {
     "iopub.status.busy": "2023-01-17T20:53:57.977029Z",
     "iopub.status.idle": "2023-01-17T20:53:57.977207Z",
     "shell.execute_reply": "2023-01-17T20:53:57.977121Z",
     "shell.execute_reply.started": "2023-01-17T20:53:57.977113Z"
    },
    "tags": []
   },
   "outputs": [],
   "source": [
    "for x in [False, None, 0, 0.0, \"\", [], {}, ()]:\n",
    "    print('\"{} is None\" is'.format(x), end=' ')\n",
    "    if x is None:\n",
    "        print(True)\n",
    "    else:\n",
    "        print(False)"
   ]
  },
  {
   "cell_type": "code",
   "execution_count": null,
   "metadata": {
    "execution": {
     "iopub.status.busy": "2023-01-17T20:53:57.977864Z",
     "iopub.status.idle": "2023-01-17T20:53:57.978048Z",
     "shell.execute_reply": "2023-01-17T20:53:57.977961Z",
     "shell.execute_reply.started": "2023-01-17T20:53:57.977953Z"
    }
   },
   "outputs": [],
   "source": [
    "for x in [False, None, 0, 0.0, \"\", [], {}, ()]:\n",
    "    print('\"{}\" is {}'.format(x, True if x else False)) "
   ]
  },
  {
   "cell_type": "markdown",
   "metadata": {},
   "source": [
    "Ok, this was a little break in python fundamentals. Always good to refresh on fundamentals to avoid bugs :-)\n",
    "\n",
    "`majority_value(instances, class_index)` returns the most frequently occurring value of `class_index` in `instances`. The `class_index` parameter should be optional, and have a default value of `0` (zero).\n"
   ]
  },
  {
   "cell_type": "markdown",
   "metadata": {},
   "source": [
    "imp function aahe ha in NN, help karta snagayla which neural network fired the most"
   ]
  },
  {
   "cell_type": "code",
   "execution_count": null,
   "metadata": {
    "execution": {
     "iopub.status.busy": "2023-01-17T20:53:57.978855Z",
     "iopub.status.idle": "2023-01-17T20:53:57.979023Z",
     "shell.execute_reply": "2023-01-17T20:53:57.978939Z",
     "shell.execute_reply.started": "2023-01-17T20:53:57.978931Z"
    },
    "tags": []
   },
   "outputs": [],
   "source": [
    "print('Majority value of index {}: {}'.format(\n",
    "    0, simple_ml.majority_value(clean_instances))) \n",
    "\n",
    "# although there is only one class_index for the dataset, \n",
    "# we'll test the function by specifying other indexes using optional / keyword arguments\n",
    "print('Majority value of index {}: {}'.format(\n",
    "    1, simple_ml.majority_value(clean_instances, 1)))  # using argument order\n",
    "print('Majority value of index {}: {}'.format(\n",
    "    2, simple_ml.majority_value(clean_instances, class_index=2)))  # using keyword argument"
   ]
  },
  {
   "cell_type": "markdown",
   "metadata": {},
   "source": [
    "### 6.6 Decision Tree algorithm"
   ]
  },
  {
   "cell_type": "markdown",
   "metadata": {},
   "source": [
    "The recursive `create_decision_tree()` function below uses an optional parameter, `class_index`, which defaults to `0`. This is to accommodate other datasets in which the class label is the ***last*** element on each line (which would be most easily specified by using a `-1` index). Most data files in the [UCI Machine Learning Repository](https://archive.ics.uci.edu/ml/datasets.html) have class labels as either the first element or the last element.\n",
    "\n",
    "To show how the decision tree is being built, an optional `trace` parameter, when non-zero, will generate trace information as the tree is constructed. The indentation level is incremented with each recursive call via the use of the conditional expression (ternary operator), `trace + 1 if trace else 0`.\n",
    "\n",
    "Just like **Metropolis**, we write our very own decision tree algorithm. It's *that* important to understand! Please study it and be able to explain how it works in class. What kind of algorihtm is it? Is it *iterative*? Is it *recursive*?"
   ]
  },
  {
   "cell_type": "markdown",
   "metadata": {},
   "source": [
    "Ha khup impo aahe, understand every single line"
   ]
  },
  {
   "cell_type": "code",
   "execution_count": null,
   "metadata": {
    "execution": {
     "iopub.status.busy": "2023-01-17T20:53:57.979827Z",
     "iopub.status.idle": "2023-01-17T20:53:57.980008Z",
     "shell.execute_reply": "2023-01-17T20:53:57.979914Z",
     "shell.execute_reply.started": "2023-01-17T20:53:57.979905Z"
    }
   },
   "outputs": [],
   "source": [
    "def create_decision_tree(instances, \n",
    "                         candidate_attribute_indexes=None, \n",
    "                         class_index=0, \n",
    "                         default_class=None, \n",
    "                         trace=0):\n",
    "    '''Returns a new decision tree trained on a list of instances.\n",
    "    \n",
    "    The tree is constructed by recursively selecting and splitting instances based on \n",
    "    the highest information_gain of the candidate_attribute_indexes.\n",
    "    \n",
    "    The class label is found in position class_index.\n",
    "    \n",
    "    The default_class is the majority value for the current node's parent in the tree.\n",
    "    A positive (int) trace value will generate trace information \n",
    "        with increasing levels of indentation.\n",
    "    \n",
    "    Derived from the simplified ID3 algorithm presented in Building Decision Trees in Python \n",
    "        by Christopher Roach,\n",
    "    http://www.onlamp.com/pub/a/python/2006/02/09/ai_decision_trees.html?page=3\n",
    "    '''\n",
    "    # instances row\n",
    "    # candidate att - jar mahit nasel\n",
    "    \n",
    "    \n",
    "    # if no candidate_attribute_indexes are provided, \n",
    "    # assume that we will use all but the target_attribute_index\n",
    "    # Note that None != [], \n",
    "    # as an empty candidate_attribute_indexes list is a recursion stopping condition\n",
    "    if candidate_attribute_indexes is None:\n",
    "        candidate_attribute_indexes = [i \n",
    "                                       for i in range(len(instances[0])) \n",
    "                                       if i != class_index]\n",
    "        # Note: do not use candidate_attribute_indexes.remove(class_index)\n",
    "        # as this would destructively modify the argument,\n",
    "        # causing problems during recursive calls\n",
    "        \n",
    "    class_labels_and_counts = Counter([instance[class_index] for instance in instances])\n",
    "\n",
    "    # If the dataset is empty or the candidate attributes list is empty, \n",
    "    # return the default value\n",
    "    if not instances or not candidate_attribute_indexes:\n",
    "        if trace:\n",
    "            print('{}Using default class {}'.format('< ' * trace, default_class))\n",
    "        return default_class\n",
    "    \n",
    "    # If all the instances have the same class label, return that class label\n",
    "    elif len(class_labels_and_counts) == 1:\n",
    "        class_label = class_labels_and_counts.most_common(1)[0][0]\n",
    "        if trace:\n",
    "            print('{}All {} instances have label {}'.format(\n",
    "                '< ' * trace, len(instances), class_label))\n",
    "        return class_label\n",
    "    else:\n",
    "        default_class = simple_ml.majority_value(instances, class_index)\n",
    "\n",
    "        # Choose the next best attribute index to best classify the instances\n",
    "        best_index = simple_ml.choose_best_attribute_index(\n",
    "            instances, candidate_attribute_indexes, class_index)        \n",
    "        if trace:\n",
    "            print('{}Creating tree node for attribute index {}'.format(\n",
    "                    '> ' * trace, best_index))\n",
    "\n",
    "        # Create a new decision tree node with the best attribute index \n",
    "        # and an empty dictionary object (for now)\n",
    "        tree = {best_index:{}}\n",
    "\n",
    "        # Create a new decision tree sub-node (branch) for each of the values \n",
    "        # in the best attribute field\n",
    "        partitions = simple_ml.split_instances(instances, best_index)\n",
    "\n",
    "        # Remove that attribute from the set of candidates for further splits\n",
    "        remaining_candidate_attribute_indexes = [i \n",
    "                                                 for i in candidate_attribute_indexes \n",
    "                                                 if i != best_index]\n",
    "        for attribute_value in partitions:\n",
    "            if trace:\n",
    "                # he for high verbosity te show karaylya\n",
    "                print('{}Creating subtree for value {} ({}, {}, {}, {})'.format(\n",
    "                    '> ' * trace,\n",
    "                    attribute_value, \n",
    "                    len(partitions[attribute_value]), \n",
    "                    len(remaining_candidate_attribute_indexes), \n",
    "                    class_index, \n",
    "                    default_class))\n",
    "                \n",
    "            # Create a subtree for each value of the the best attribute\n",
    "            # mag parat recursive call with smaller data, tar print karun karun bagh ekdam\n",
    "            subtree = create_decision_tree(\n",
    "                partitions[attribute_value],\n",
    "                remaining_candidate_attribute_indexes,\n",
    "                class_index,\n",
    "                default_class,\n",
    "                trace + 1 if trace else 0)\n",
    "\n",
    "            # Add the new subtree to the empty dictionary object \n",
    "            # in the new tree/node we just created\n",
    "            tree[best_index][attribute_value] = subtree\n",
    "\n",
    "    return tree\n",
    "\n",
    "# split instances into separate training and testing sets\n",
    "training_instances = clean_instances[:-20]\n",
    "test_instances = clean_instances[-20:]\n",
    "tree = create_decision_tree(training_instances, trace=1)  # remove trace=1 to turn off tracing\n",
    "print(tree)"
   ]
  },
  {
   "cell_type": "markdown",
   "metadata": {},
   "source": [
    "The structure of the tree shown above is difficult to discern from the normal printed representation of a dictionary.\n",
    "\n",
    "Python's [`pprint`](http://docs.python.org/2/library/pprint.html) module has a number of useful methods for pretty-printing or formatting objects in a more human readable way.\n",
    "\n",
    "The [`pprint.pprint(object, stream=None, indent=1, width=80, depth=None)`](http://docs.python.org/2/library/pprint.html#pprint.pprint) method will print `object` to a `stream` (a default value of `None` will dictate the use of [sys.stdout](http://docs.python.org/2/library/sys.html#sys.stdout), the same destination as `print` function output), using `indent` spaces to differentiate nesting levels, using up to a maximum `width` columns and up to to a maximum nesting level `depth` (`None` indicating no maximum)."
   ]
  },
  {
   "cell_type": "code",
   "execution_count": null,
   "metadata": {
    "execution": {
     "iopub.status.busy": "2023-01-17T20:53:57.980597Z",
     "iopub.status.idle": "2023-01-17T20:53:57.980898Z",
     "shell.execute_reply": "2023-01-17T20:53:57.980808Z",
     "shell.execute_reply.started": "2023-01-17T20:53:57.980798Z"
    }
   },
   "outputs": [],
   "source": [
    "from pprint import pprint\n",
    "\n",
    "pprint(tree)"
   ]
  },
  {
   "cell_type": "markdown",
   "metadata": {},
   "source": [
    "### 6.7 Classifying Instances with a Simple Decision Tree"
   ]
  },
  {
   "cell_type": "markdown",
   "metadata": {},
   "source": [
    "Usually, when we construct a decision tree based on a set of *training* instances, we do so with the intent of using that tree to classify a set of one or more *test* instances.\n",
    "\n",
    "We define a function, **`classify(tree, instance, default_class=None)`**, to use a decision tree to classify a single `instance`, where an optional `default_class` can be specified as the return value if the instance represents a set of attribute values that don't have a representation in the decision tree.\n",
    "\n",
    "We will use a design pattern in which we will use a series of `if` statements, each of which returns a value if the condition is true, rather than a nested series of `if`, `elif` and/or `else` clauses, as it helps limit indentation levels in the function."
   ]
  },
  {
   "cell_type": "code",
   "execution_count": null,
   "metadata": {
    "execution": {
     "iopub.status.busy": "2023-01-17T20:53:57.981679Z",
     "iopub.status.idle": "2023-01-17T20:53:57.981854Z",
     "shell.execute_reply": "2023-01-17T20:53:57.981766Z",
     "shell.execute_reply.started": "2023-01-17T20:53:57.981758Z"
    },
    "tags": []
   },
   "outputs": [],
   "source": [
    "def classify(tree, instance, default_class=None):\n",
    "    '''Returns a classification label for instance, given a decision tree'''\n",
    "    if not tree:  # if the node is empty, return the default class\n",
    "        return default_class\n",
    "    if not isinstance(tree, dict):  # if the node is a leaf, return its class label\n",
    "        return tree\n",
    "    attribute_index = list(tree.keys())[0]  # using list(dict.keys()) for Python 3 compatibility\n",
    "    attribute_values = list(tree.values())[0]\n",
    "    instance_attribute_value = instance[attribute_index]\n",
    "    if instance_attribute_value not in attribute_values:  # this value was not in training data\n",
    "        return default_class\n",
    "    # recursively traverse the subtree (branch) associated with instance_attribute_value\n",
    "    return classify(attribute_values[instance_attribute_value], instance, default_class)\n",
    "\n",
    "for instance in test_instances:\n",
    "    predicted_label = classify(tree, instance)\n",
    "    actual_label = instance[0]\n",
    "    print('predicted: {}; actual: {}'.format(predicted_label, actual_label))\n",
    "\n",
    "# len(test_instances)"
   ]
  },
  {
   "cell_type": "markdown",
   "metadata": {},
   "source": [
    "Pretty good, no? 20/20"
   ]
  },
  {
   "cell_type": "markdown",
   "metadata": {},
   "source": [
    "### 6.8 Evaluating the Accuracy of our Decision Tree"
   ]
  },
  {
   "cell_type": "markdown",
   "metadata": {},
   "source": [
    "It is often helpful to evaluate the performance of a model using a dataset not used in the training of that model. In the simple example shown above, we used all but the last 20 instances to train a simple decision tree, then classified those last 20 instances using the tree.\n",
    "\n",
    "The advantage of this training/test split is that visual inspection of the classifications (sometimes called *predictions*) is relatively straightforward, revealing that all 20 instances were correctly classified.\n",
    "\n",
    "There are a variety of metrics that can be used to evaluate the performance of a model. Scikit Learn's [Model Evaluation](http://scikit-learn.org/stable/modules/model_evaluation.html) library provides an overview and implementation of several possible metrics. For now, we simply measure the *accuracy* of a model, i.e., the percentage of test instances that are correctly classified (*true positives* and *true negatives*).\n",
    "\n",
    "The accuracy of the model above, given the set of 20 test instances, is 100% (20/20).\n",
    "\n",
    "The function below is *our very own function* that calculates the classification accuracy of a `tree` over a set of `test_instances` (with an optional `class_index` parameter indicating the position of the class label in each instance)."
   ]
  },
  {
   "cell_type": "code",
   "execution_count": null,
   "metadata": {
    "execution": {
     "iopub.status.busy": "2023-01-17T20:53:57.982620Z",
     "iopub.status.idle": "2023-01-17T20:53:57.982802Z",
     "shell.execute_reply": "2023-01-17T20:53:57.982711Z",
     "shell.execute_reply.started": "2023-01-17T20:53:57.982702Z"
    }
   },
   "outputs": [],
   "source": [
    "def classification_accuracy(tree, test_instances, class_index=0, default_class=None):\n",
    "    '''Returns the accuracy of classifying test_instances with tree, \n",
    "    where the class label is in position class_index'''\n",
    "    num_correct = 0\n",
    "    for i in range(len(test_instances)):\n",
    "        prediction = classify(tree, test_instances[i], default_class)\n",
    "        actual_value = test_instances[i][class_index]\n",
    "        if prediction == actual_value:\n",
    "            num_correct += 1\n",
    "    return num_correct / len(test_instances)\n",
    "\n",
    "print(classification_accuracy(tree, test_instances))"
   ]
  },
  {
   "cell_type": "markdown",
   "metadata": {},
   "source": [
    "In addition to showing the percentage of correctly classified instances, it may be helpful to return the actual counts of correctly and incorrectly classified instances, for example if we want to compile a total count of correctly and incorrectly classified instances over a collection of test instances.\n",
    "\n",
    "We use my beloved [`zip([iterable, ...])`](http://docs.python.org/2.7/library/functions.html#zip) function, which combines 2 or more sequences or iterables; the function returns a list of tuples, where the $i$th tuple contains the $i$th element from each of the argument sequences or iterables."
   ]
  },
  {
   "cell_type": "code",
   "execution_count": null,
   "metadata": {
    "execution": {
     "iopub.status.busy": "2023-01-17T20:53:57.983312Z",
     "iopub.status.idle": "2023-01-17T20:53:57.983492Z",
     "shell.execute_reply": "2023-01-17T20:53:57.983407Z",
     "shell.execute_reply.started": "2023-01-17T20:53:57.983398Z"
    }
   },
   "outputs": [],
   "source": [
    "list(zip([0, 1, 2], ['a', 'b', 'c']))"
   ]
  },
  {
   "cell_type": "markdown",
   "metadata": {},
   "source": [
    "We use Dua Lipa list comprehensions, the `Counter` class and the `zip()` function to modify `classification_accuracy()` so that it returns a packed tuple with: \n",
    "\n",
    "* the percentage of instances correctly classified\n",
    "* the number of correctly classified instances (true positives `e` or true negatives `p`)\n",
    "* the number of incorrectly classified instances (false positives `e` or false negatives `p`)\n",
    "\n",
    "We also modify the function to use `instances` rather than `test_instances`, as we sometimes want to be able to evaluate the accuracy of a model when tested on the training instances used to create it."
   ]
  },
  {
   "cell_type": "code",
   "execution_count": null,
   "metadata": {
    "execution": {
     "iopub.status.busy": "2023-01-17T20:53:57.984078Z",
     "iopub.status.idle": "2023-01-17T20:53:57.984455Z",
     "shell.execute_reply": "2023-01-17T20:53:57.984356Z",
     "shell.execute_reply.started": "2023-01-17T20:53:57.984345Z"
    }
   },
   "outputs": [],
   "source": [
    "def classification_accuracy(tree, instances, class_index=0, default_class=None):\n",
    "    '''Returns the accuracy of classifying test_instances with tree, \n",
    "    where the class label is in position class_index'''\n",
    "    predicted_labels = [classify(tree, instance, default_class) \n",
    "                        for instance in instances]\n",
    "    actual_labels = [x[class_index] \n",
    "                     for x in instances]\n",
    "    counts = Counter([x == y \n",
    "                      for x, y in zip(predicted_labels, actual_labels)])\n",
    "    return counts[True] / len(instances), counts[True], counts[False]\n",
    "\n",
    "print(classification_accuracy(tree, test_instances))"
   ]
  },
  {
   "cell_type": "markdown",
   "metadata": {},
   "source": [
    "We sometimes want to partition instances into subsets of equal size to measure performance. One metric this partitioning allows us to compute is a [learning curve](https://en.wikipedia.org/wiki/Learning_curve), a graphical representation of the relationship between how proficient people are at a task and the amount of experience they have. In our case, we want to be able to assess how well the model performs based on the size of its training set (more training data = more experienced model!). \n",
    "\n",
    "Another use of these partitions (aka *folds*) would be to conduct an [*n-fold cross validation*](https://en.wikipedia.org/wiki/Cross-validation_(statistics) evaluation. We'll explore this specific partitioning further below.\n",
    "\n",
    "The following function, **`partition_instances(instances, num_partitions)`**, partitions a set of `instances` into `num_partitions` relatively equal-sized subsets. It's our own version of sklearn's `train_test_split()`."
   ]
  },
  {
   "cell_type": "code",
   "execution_count": null,
   "metadata": {
    "execution": {
     "iopub.status.busy": "2023-01-17T20:53:57.985264Z",
     "iopub.status.idle": "2023-01-17T20:53:57.985426Z",
     "shell.execute_reply": "2023-01-17T20:53:57.985345Z",
     "shell.execute_reply.started": "2023-01-17T20:53:57.985337Z"
    },
    "tags": []
   },
   "outputs": [],
   "source": [
    "# this is also know as k fold cross val but we'll revisit later\n",
    "\n",
    "def partition_instances(instances, num_partitions):\n",
    "    '''Returns a list of relatively equally sized disjoint sublists (partitions) \n",
    "    of the list of instances'''\n",
    "    return [[instances[j] \n",
    "             for j in range(i, len(instances), num_partitions)]\n",
    "            for i in range(num_partitions)]"
   ]
  },
  {
   "cell_type": "markdown",
   "metadata": {},
   "source": [
    "Before testing this function on the 5644 `clean_instances` from the UCI mushroom dataset, we create a small number of simplified instances to verify that the function has the desired behavior.\n",
    "\n",
    ">**Why?**: \n",
    "<br />\n",
    "<center>\n",
    "<img src = ipynb.images/baby-steps.png width = 400 />\n",
    "</center>"
   ]
  },
  {
   "cell_type": "code",
   "execution_count": null,
   "metadata": {
    "execution": {
     "iopub.status.busy": "2023-01-17T20:53:57.986445Z",
     "iopub.status.idle": "2023-01-17T20:53:57.986679Z",
     "shell.execute_reply": "2023-01-17T20:53:57.986537Z",
     "shell.execute_reply.started": "2023-01-17T20:53:57.986529Z"
    },
    "tags": []
   },
   "outputs": [],
   "source": [
    "instance_length = 3\n",
    "num_instances = 5\n",
    "\n",
    "simplified_instances = [[j \n",
    "                         for j in range(i, instance_length + i)] \n",
    "                        for i in range(num_instances)]\n",
    "\n",
    "print('Instances:', simplified_instances)\n",
    "partitions = partition_instances(simplified_instances, 2)\n",
    "print('Partitions:', partitions)"
   ]
  },
  {
   "cell_type": "markdown",
   "metadata": {},
   "source": [
    "[`enumerate(sequence, start=0)`](http://docs.python.org/2.7/library/functions.html#enumerate) function creates an iterator that successively returns the index and value of each element in a `sequence`, beginning at the `start` index."
   ]
  },
  {
   "cell_type": "code",
   "execution_count": null,
   "metadata": {
    "execution": {
     "iopub.status.busy": "2023-01-17T20:53:57.988309Z",
     "iopub.status.idle": "2023-01-17T20:53:57.988946Z",
     "shell.execute_reply": "2023-01-17T20:53:57.988752Z",
     "shell.execute_reply.started": "2023-01-17T20:53:57.988736Z"
    }
   },
   "outputs": [],
   "source": [
    "for i, x in enumerate(['a', 'b', 'c']):\n",
    "    print(i, x)"
   ]
  },
  {
   "cell_type": "code",
   "execution_count": null,
   "metadata": {},
   "outputs": [],
   "source": []
  },
  {
   "cell_type": "markdown",
   "metadata": {},
   "source": [
    "We can use `enumerate()` to facilitate slightly more rigorous testing of our `partition_instances` function on our `simplified_instances`. `enumerate()` is an important tool in my Dua Lipa arsenal of data science programming!\n",
    "\n",
    "Note that since we are printing values rather than accumulating values, we will not use nested list comprehensions for this task."
   ]
  },
  {
   "cell_type": "code",
   "execution_count": null,
   "metadata": {
    "execution": {
     "iopub.status.busy": "2023-01-17T20:53:57.990184Z",
     "iopub.status.idle": "2023-01-17T20:53:57.990403Z",
     "shell.execute_reply": "2023-01-17T20:53:57.990306Z",
     "shell.execute_reply.started": "2023-01-17T20:53:57.990297Z"
    }
   },
   "outputs": [],
   "source": [
    "for i in range(num_instances):\n",
    "    print('\\n# partitions:', i)\n",
    "    for j, partition in enumerate(partition_instances(simplified_instances, i)):\n",
    "        print('partition {}: {}'.format(j, partition))"
   ]
  },
  {
   "cell_type": "markdown",
   "metadata": {},
   "source": [
    "Returning our attention to the UCI mushroom dataset, the following will partition our `clean_instances` into 10 relatively equally sized disjoint subsets. We will use a list comprehension to print out the length of each partition"
   ]
  },
  {
   "cell_type": "code",
   "execution_count": null,
   "metadata": {
    "execution": {
     "iopub.status.busy": "2023-01-17T20:53:57.991184Z",
     "iopub.status.idle": "2023-01-17T20:53:57.991378Z",
     "shell.execute_reply": "2023-01-17T20:53:57.991284Z",
     "shell.execute_reply.started": "2023-01-17T20:53:57.991275Z"
    }
   },
   "outputs": [],
   "source": [
    "partitions = partition_instances(clean_instances, 10)\n",
    "print([len(partition) for partition in partitions])"
   ]
  },
  {
   "cell_type": "markdown",
   "metadata": {},
   "source": [
    "The following shows the different trees that are constructed based on partition 0 (first 10th) of `clean_instances`, partitions 0 and 1 (first 2/10ths) of `clean_instances` and all `clean_instances`."
   ]
  },
  {
   "cell_type": "code",
   "execution_count": null,
   "metadata": {
    "execution": {
     "iopub.status.busy": "2023-01-17T20:53:57.991896Z",
     "iopub.status.idle": "2023-01-17T20:53:57.992143Z",
     "shell.execute_reply": "2023-01-17T20:53:57.992051Z",
     "shell.execute_reply.started": "2023-01-17T20:53:57.992037Z"
    },
    "tags": []
   },
   "outputs": [],
   "source": [
    "# this is 1/10th of ds\n",
    "tree0 = create_decision_tree(partitions[0])\n",
    "print('Tree trained with {} instances:'.format(len(partitions[0])))\n",
    "pprint(tree0)\n",
    "print()\n",
    "\n",
    "# this is 1/5th of ds\n",
    "tree1 = create_decision_tree(partitions[0] + partitions[1])\n",
    "print('Tree trained with {} instances:'.format(len(partitions[0] + partitions[1])))\n",
    "pprint(tree1)\n",
    "print()\n",
    "\n",
    "# this is with whole data\n",
    "tree = create_decision_tree(clean_instances)\n",
    "print('Tree trained with {} instances:'.format(len(clean_instances)))\n",
    "pprint(tree)\n",
    "\n",
    "# now look at the 2nd and 3rd one, its the same, so this gives you a learning curve, \n",
    "# ki how much data or how much experience do you need before you can do a good job at learning the rules of the game"
   ]
  },
  {
   "cell_type": "markdown",
   "metadata": {},
   "source": [
    "The only difference between the first two trees - *tree0* and *tree1* - is that in the first tree, instances with no `odor` (attribute index `5` is `'n'`) and a `spore-print-color` of white (attribute `20` = `'w'`) are classified as `edible` (`'e'`). With additional training data in the 2nd partition, an additional distinction is made such that instances with no `odor`, a white `spore-print-color` and a clustered `population` (attribute `21` = `'c'`) are classified as `poisonous` (`'p'`), while all other instances with no `odor` and a white `spore-print-color` (and any other value for the `population` attribute) are classified as `edible` (`'e'`).\n",
    "\n",
    "Note that there is no difference between `tree1` and `tree` (the tree trained with all instances). This early convergence on an optimal model is uncommon on most datasets (outside the UCI repository). In other words, it appears like it's an *easy* task to predict how edible mushrooms are based on their physical attributes."
   ]
  },
  {
   "cell_type": "markdown",
   "metadata": {},
   "source": [
    "### 6.9 Learning curves"
   ]
  },
  {
   "cell_type": "markdown",
   "metadata": {},
   "source": [
    "Now that we can partition our instances into subsets, we can use these subsets to construct different-sized training sets in the process of computing a learning curve (analogous to *k-fold cross-validation*, which we'll talk about a bit further down).\n",
    "\n",
    "We will start off with an initial training set consisting only of the first partition, and then progressively extend that training set by adding a new partition during each iteration of computing the learning curve.\n",
    "\n",
    "[**`list.extend(L)`**](http://docs.python.org/2/tutorial/datastructures.html#more-on-lists) enables us to extend `list` by appending all the items in another list, `L`, to the end of `list`."
   ]
  },
  {
   "cell_type": "code",
   "execution_count": null,
   "metadata": {
    "execution": {
     "iopub.status.busy": "2023-01-17T20:53:57.992936Z",
     "iopub.status.idle": "2023-01-17T20:53:57.993105Z",
     "shell.execute_reply": "2023-01-17T20:53:57.993019Z",
     "shell.execute_reply.started": "2023-01-17T20:53:57.993011Z"
    }
   },
   "outputs": [],
   "source": [
    "x = [1, 2, 3]\n",
    "x.extend([4, 5])\n",
    "print(x)"
   ]
  },
  {
   "cell_type": "markdown",
   "metadata": {},
   "source": [
    "We now define the function, `compute_learning_curve(instances, num_partitions=10)`, which will take a list of `instances`, partition it into `num_partitions` relatively equally sized disjoint partitions, and then iteratively evaluate the accuracy of models trained with an incrementally increasing combination of instances in the first `num_partitions - 1` partitions then tested with instances in the last partition, a variant of . That is, a model trained with the first partition will be constructed (and tested), then a model trained with the first 2 partitions will be constructed (and tested), and so on. \n",
    "\n",
    "The function will return a list of `num_partitions - 1` tuples representing the size of the training set and the accuracy of a tree trained with that set (and tested on the `num_partitions - 1` set). This will provide some indication of the relative impact of the size of the training set on model performance."
   ]
  },
  {
   "cell_type": "code",
   "execution_count": null,
   "metadata": {
    "execution": {
     "iopub.status.busy": "2023-01-17T20:53:57.993904Z",
     "iopub.status.idle": "2023-01-17T20:53:57.994073Z",
     "shell.execute_reply": "2023-01-17T20:53:57.993984Z",
     "shell.execute_reply.started": "2023-01-17T20:53:57.993976Z"
    },
    "tags": []
   },
   "outputs": [],
   "source": [
    "def compute_learning_curve(instances, num_partitions=10):\n",
    "    '''Returns a list of training sizes and scores for incrementally increasing partitions.\n",
    "\n",
    "    The list contains 2-element tuples, each representing a training size and score.\n",
    "    The i-th training size is the number of instances in partitions 0 through num_partitions - 2.\n",
    "    The i-th score is the accuracy of a tree trained with instances \n",
    "    from partitions 0 through num_partitions - 2\n",
    "    and tested on instances from num_partitions - 1 (the last partition).'''\n",
    "    \n",
    "    partitions = partition_instances(instances, num_partitions)\n",
    "    test_instances = partitions[-1][:]\n",
    "    training_instances = []\n",
    "    accuracy_list = []\n",
    "    for i in range(0, num_partitions - 1):\n",
    "        # for each iteration, the training set is composed of partitions 0 through i - 1\n",
    "        training_instances.extend(partitions[i][:])\n",
    "        tree = create_decision_tree(training_instances)\n",
    "        partition_accuracy = classification_accuracy(tree, test_instances)\n",
    "        accuracy_list.append((len(training_instances), partition_accuracy))\n",
    "    return accuracy_list\n",
    "\n",
    "accuracy_list = compute_learning_curve(clean_instances)\n",
    "print(accuracy_list)"
   ]
  },
  {
   "cell_type": "markdown",
   "metadata": {},
   "source": [
    "The UCI mushroom dataset is a particularly clean and simple data set, enabling quick convergence on an optimal decision tree for classifying new instances using relatively few training instances. \n",
    "\n",
    "We can use a larger number of smaller partitions to see a little more variation in accuracy performance."
   ]
  },
  {
   "cell_type": "markdown",
   "metadata": {},
   "source": [
    "accuracy_list = compute_learning_curve(clean_instances, 100)\n",
    "print(accuracy_list[:10])"
   ]
  },
  {
   "cell_type": "markdown",
   "metadata": {},
   "source": [
    "Nope. We converge very fast.\n",
    "\n",
    ">**Lesson learned**: Learning curves are a good tool to use when we are not sure we have yet converged to optimal accuracy: How far away do we think we are?"
   ]
  },
  {
   "cell_type": "markdown",
   "metadata": {},
   "source": [
    "### 6.10 Python Class to Encapsulate a Simple Decision Tree"
   ]
  },
  {
   "cell_type": "markdown",
   "metadata": {},
   "source": [
    "The simple decision tree defined above uses a Python dictionary for its representation. One can imagine using other data structures, and/or extending the decision tree to support confidence estimates, numeric features and other capabilities that are often included in more fully functional implementations. To support future extensibility, and hide the details of the representation from the user, it would be helpful to have a user-defined class for simple decision trees.\n",
    "\n",
    "Note that other machine learning libraries may use different terminology for some of the functions defined above. For example, in the [`sklearn.tree.DecisionTreeClassifier`](http://scikit-learn.org/stable/modules/generated/sklearn.tree.DecisionTreeClassifier.html) class (and in most `sklearn` classifier classes), the method for constructing a classifier is named [`fit()`](http://scikit-learn.org/stable/modules/generated/sklearn.tree.DecisionTreeClassifier.html#sklearn.tree.DecisionTreeClassifier.fit) - since it \"fits\" the data to a model - and the method for classifying test instances is named [`predict()`](http://scikit-learn.org/stable/modules/generated/sklearn.tree.DecisionTreeClassifier.html#sklearn.tree.DecisionTreeClassifier.predict) - since it is predicting the class label for an instance.\n",
    "\n",
    "In keeping with this common terminology, the code below defines a class, **`SimpleDecisionTree`**, with a single pseudo-protected member variable `_tree`, three public methods - `fit()`, `predict()` and `pprint()` - and two auxilary methods - `_create_tree()` and `_predict()` - to augment the `fit()` and `predict()` methods, respectively. \n",
    "\n",
    "The `fit()` method is identical to the `create_decision_tree()` function above, with the inclusion of the `self` parameter (as it is now a class method rather than a function). The `predict()` method is a similarly modified version of the `classify()` function, with the added capability to predict the label of either a single instance or a list of instances. The `classification_accuracy()` method is similar to the function of the same name (with the addition of the `self` parameter). The `pprint()` method prints the tree in a human-readable format.\n",
    "\n"
   ]
  },
  {
   "cell_type": "markdown",
   "metadata": {},
   "source": [
    "so once we have something workable\n",
    "prof ne class madhe takayla sangitla\n",
    "this is so that we follow the standards of scikit learn lib\n"
   ]
  },
  {
   "cell_type": "code",
   "execution_count": null,
   "metadata": {
    "execution": {
     "iopub.status.busy": "2023-01-17T20:53:57.994857Z",
     "iopub.status.idle": "2023-01-17T20:53:57.995023Z",
     "shell.execute_reply": "2023-01-17T20:53:57.994941Z",
     "shell.execute_reply.started": "2023-01-17T20:53:57.994933Z"
    }
   },
   "outputs": [],
   "source": [
    "class SimpleDecisionTree:\n",
    "\n",
    "    _tree = {}  # this instance variable becomes accessible to class methods via self._tree\n",
    "\n",
    "    def __init__(self):\n",
    "        # this is where we would initialize any parameters to the SimpleDecisionTree\n",
    "        pass\n",
    "            \n",
    "    def fit(self, \n",
    "            instances, \n",
    "            candidate_attribute_indexes=None,\n",
    "            target_attribute_index=0,\n",
    "            default_class=None):\n",
    "        if not candidate_attribute_indexes:\n",
    "            candidate_attribute_indexes = [i \n",
    "                                           for i in range(len(instances[0]))\n",
    "                                           if i != target_attribute_index]\n",
    "        self._tree = self._create_tree(instances,\n",
    "                                       candidate_attribute_indexes,\n",
    "                                       target_attribute_index,\n",
    "                                       default_class)\n",
    "        \n",
    "    def _create_tree(self,\n",
    "                     instances,\n",
    "                     candidate_attribute_indexes,\n",
    "                     target_attribute_index=0,\n",
    "                     default_class=None):\n",
    "        class_labels_and_counts = Counter([instance[target_attribute_index] \n",
    "                                           for instance in instances])\n",
    "        if not instances or not candidate_attribute_indexes:\n",
    "            return default_class\n",
    "        elif len(class_labels_and_counts) == 1:\n",
    "            class_label = class_labels_and_counts.most_common(1)[0][0]\n",
    "            return class_label\n",
    "        else:\n",
    "            default_class = simple_ml.majority_value(instances, target_attribute_index)\n",
    "            best_index = simple_ml.choose_best_attribute_index(instances, \n",
    "                                                               candidate_attribute_indexes, \n",
    "                                                               target_attribute_index)\n",
    "            tree = {best_index:{}}\n",
    "            partitions = simple_ml.split_instances(instances, best_index)\n",
    "            remaining_candidate_attribute_indexes = [i \n",
    "                                                     for i in candidate_attribute_indexes \n",
    "                                                     if i != best_index]\n",
    "            for attribute_value in partitions:\n",
    "                subtree = self._create_tree(\n",
    "                    partitions[attribute_value],\n",
    "                    remaining_candidate_attribute_indexes,\n",
    "                    target_attribute_index,\n",
    "                    default_class)\n",
    "                tree[best_index][attribute_value] = subtree\n",
    "            return tree\n",
    "    \n",
    "    def predict(self, instances, default_class=None):\n",
    "        if not isinstance(instances, list):\n",
    "            return self._predict(self._tree, instance, default_class)\n",
    "        else:\n",
    "            return [self._predict(self._tree, instance, default_class) \n",
    "                    for instance in instances]\n",
    "    \n",
    "    def _predict(self, tree, instance, default_class=None):\n",
    "        if not tree:\n",
    "            return default_class\n",
    "        if not isinstance(tree, dict):\n",
    "            return tree\n",
    "        attribute_index = list(tree.keys())[0]  # using list(dict.keys()) for Py3 compatibiity\n",
    "        attribute_values = list(tree.values())[0]\n",
    "        instance_attribute_value = instance[attribute_index]\n",
    "        if instance_attribute_value not in attribute_values:\n",
    "            return default_class\n",
    "        return self._predict(attribute_values[instance_attribute_value],\n",
    "                             instance,\n",
    "                             default_class)\n",
    "    \n",
    "    def classification_accuracy(self, instances, default_class=None):\n",
    "        predicted_labels = self.predict(instances, default_class)\n",
    "        actual_labels = [x[0] for x in instances]\n",
    "        counts = Counter([x == y for x, y in zip(predicted_labels, actual_labels)])\n",
    "        return counts[True] / len(instances), counts[True], counts[False]\n",
    "    \n",
    "    def pprint(self):\n",
    "        pprint(self._tree)"
   ]
  },
  {
   "cell_type": "markdown",
   "metadata": {},
   "source": [
    "The code below instantiates a `SimpleDecisionTree`, using all but the last 20 `clean_instances` (`training_instances`), prints out the tree using its `pprint()` method, and then uses the `classify()` method to print the classification of the last 20 `clean_instances`."
   ]
  },
  {
   "cell_type": "code",
   "execution_count": null,
   "metadata": {
    "execution": {
     "iopub.status.busy": "2023-01-17T20:53:57.995715Z",
     "iopub.status.idle": "2023-01-17T20:53:57.995889Z",
     "shell.execute_reply": "2023-01-17T20:53:57.995805Z",
     "shell.execute_reply.started": "2023-01-17T20:53:57.995796Z"
    },
    "tags": []
   },
   "outputs": [],
   "source": [
    "# define\n",
    "simple_decision_tree = SimpleDecisionTree()\n",
    "# fit mhanje train\n",
    "simple_decision_tree.fit(training_instances)\n",
    "# print the tree\n",
    "simple_decision_tree.pprint()\n",
    "print()\n",
    "\n",
    "predicted_labels = simple_decision_tree.predict(test_instances)\n",
    "actual_labels = [instance[0] for instance in test_instances]\n",
    "for predicted_label, actual_label in zip(predicted_labels, actual_labels):\n",
    "    print('Model: {}; truth: {}'.format(predicted_label, actual_label))\n",
    "print()\n",
    "print('Classification accuracy:', simple_decision_tree.classification_accuracy(test_instances))"
   ]
  },
  {
   "cell_type": "markdown",
   "metadata": {},
   "source": [
    "## 7 Classifying continuous attributes with skLearn\n",
    "Ok, now we know how a decision tree algorithm works because 8we built our very own*!\n",
    "\n",
    "Our mushroom dataset was **categorical**, so we used **information gain** as our decision tree inducer metric.\n",
    "\n",
    "What happens when we have columns of *continuous* rather than categorical data. Can we still use a decision tree?\n",
    "\n",
    "Yes we can! Instead of *categorical equality branching questions*, we use *continuous inequality branching questions* as our splitter predicate, and maybe even use **Gini impurity** rather than **information gain** as our inducer.\n",
    "\n",
    "Let's define Gini impurity, and then let's use skLearn's implementation of the decision tree algorithm to see how it works.\n",
    "\n",
    "### 7.1 Gini impurity\n",
    "Sklearn works with Gini impurity rather than information gain. Let's define Gini impurity.\n",
    "\n",
    "Suppose we have a dataset of 5 blue balls and 5 green balls.\n",
    "\n",
    "Suppose we\n",
    "\n",
    "- Randomly pick a datapoint in our dataset, then\n",
    "- Randomly classify it according to the class distribution in the dataset. For our dataset, we’d classify it as blue $\\frac{5}{10}$ of the time and as green $\\frac{5}{10}$ of the time, since we have 5 balls of each color.\n",
    "\n",
    "What’s the probability we classify the datapoint *incorrectly*? The answer to that question is the **Gini Impurity**.\n",
    "\n",
    "Let’s calculate the Gini Impurity of our entire dataset. If we randomly pick a ball, it’s either blue (50%) or green (50%).\n",
    "\n",
    "Now, we randomly classify our datapoint according to the class distribution. Since we have 5 of each color, we classify it as blue 50% of the time and as green 50% of the time.\n",
    "\n",
    "What’s the probability we classify our ball ***incorrectly***?\n",
    "\n",
    "If there is one thing we learned in Info6105, it's that in order to evaluate probabilities, we enumerate every single possibility in the universe of possibilities in order to not allow our own *biases* to influence our predictions. This is actually a very important issue in ML because we need to ensure our algorithms are culled from the biases that are ingrained in the observations machines learn from. We will talk more about this throughout the semester.\n",
    "\n",
    "|Event\t|Probability|\n",
    "|-|-|\n",
    "|Pick Blue| Classify Blue ✓\t25%|\n",
    "|Pick Blue| Classify Green ❌\t25%|\n",
    "|Pick Green| Classify Blue ❌\t25%|\n",
    "|Pick Green| Classify Green ✓\t25%|\n",
    "\n",
    "We only classify it incorrectly in 2 of the events above. Thus, our total probability of misclassification is 25% + 25% = 50%, so the Gini Impurity is $\\boxed{0.5}$.\n",
    "\n",
    "In a general case, if we have $C$ total classes and $p(i)$ is the probability of picking a datapoint with class $i$, then the Gini Impurity is calculated as\n",
    "\n",
    "$$G = \\sum_{i=1}^C p(i) * (1 - p(i))$$\n",
    "\n",
    "which is almost but not exactly like **entropy** (I call it *negative entropy*).\n",
    "\n",
    "For our example, we have $C = 2$ and $p(1) = p(2) = 0.5$, so\n",
    "\n",
    "$$G=p(1)∗(1−p(1))+p(2)∗(1−p(2))$$"
   ]
  },
  {
   "cell_type": "code",
   "execution_count": null,
   "metadata": {
    "execution": {
     "iopub.status.busy": "2023-01-17T20:53:57.996809Z",
     "iopub.status.idle": "2023-01-17T20:53:57.996994Z",
     "shell.execute_reply": "2023-01-17T20:53:57.996902Z",
     "shell.execute_reply.started": "2023-01-17T20:53:57.996894Z"
    },
    "tags": []
   },
   "outputs": [],
   "source": [
    "0.5*(1 - 0.5) + 0.5*(1 - 0.5)"
   ]
  },
  {
   "cell_type": "markdown",
   "metadata": {},
   "source": [
    "Let’s return to our imperfect split in **Section 6.3 Information gain** of 5 blue balls and 5 green balls.\n",
    "\n",
    "Left Branch has only blues, so we know that $G_{left} = 0$\n",
    "\n",
    "Right Branch has 1 blue and 5 greens, so $G_{right} = \\frac{1}{6} * ( 1 - \\frac{1}{6} ) + \\frac{5}{6} * ( 1 - \\frac{5}{6} )$"
   ]
  },
  {
   "cell_type": "code",
   "execution_count": null,
   "metadata": {
    "execution": {
     "iopub.status.busy": "2023-01-17T20:53:57.997783Z",
     "iopub.status.idle": "2023-01-17T20:53:57.997962Z",
     "shell.execute_reply": "2023-01-17T20:53:57.997875Z",
     "shell.execute_reply.started": "2023-01-17T20:53:57.997866Z"
    }
   },
   "outputs": [],
   "source": [
    "1/6 * (1 - 1/6) + 5/6 * (1 - 5/6)"
   ]
  },
  {
   "cell_type": "markdown",
   "metadata": {},
   "source": [
    "We’ll determine the **quality** of the split by weighting the impurity of each branch by how many elements it has. Since Left Branch has 4 elements and Right Branch has 6, we get:"
   ]
  },
  {
   "cell_type": "code",
   "execution_count": null,
   "metadata": {
    "execution": {
     "iopub.status.busy": "2023-01-17T20:53:57.998508Z",
     "iopub.status.idle": "2023-01-17T20:53:57.998773Z",
     "shell.execute_reply": "2023-01-17T20:53:57.998675Z",
     "shell.execute_reply.started": "2023-01-17T20:53:57.998666Z"
    }
   },
   "outputs": [],
   "source": [
    "(0.4 * 0) + (0.6 * 0.278)"
   ]
  },
  {
   "cell_type": "markdown",
   "metadata": {},
   "source": [
    "Thus, the amount of impurity we’ve “removed” with this split is"
   ]
  },
  {
   "cell_type": "code",
   "execution_count": null,
   "metadata": {
    "execution": {
     "iopub.status.busy": "2023-01-17T20:53:57.999416Z",
     "iopub.status.idle": "2023-01-17T20:53:57.999581Z",
     "shell.execute_reply": "2023-01-17T20:53:57.999499Z",
     "shell.execute_reply.started": "2023-01-17T20:53:57.999491Z"
    }
   },
   "outputs": [],
   "source": [
    "0.5 - 0.167"
   ]
  },
  {
   "cell_type": "markdown",
   "metadata": {},
   "source": [
    "This value is the **Gini gain**. We can use this to pick the best split in a decision tree, just like **information gain**. Higher Gini gain = Better split. \n",
    "\n",
    "When training a decision tree, the best split is chosen by maximizing the Gini gain, which is calculated by subtracting the weighted impurities of the branches from the original impurity."
   ]
  },
  {
   "cell_type": "markdown",
   "metadata": {},
   "source": [
    "### 7.2 A simple example\n",
    "\n",
    "Suppose we have a more complicated dataset consisting of a categorical column with 3 colors, an $x$ column of continuous values, and a $y$ column of continuous values:\n",
    "\n",
    "<br />\n",
    "<center>\n",
    "<img src = ipynb.images/ig-example2-dataset.svg width = 300 />\n",
    "</center>\n",
    "\n",
    "Suppose the color columns is the dependent (target) variable, and the $X$ and $y$ columns are the independent variables.\n",
    "\n",
    "Our first task is to determine the **root** decision node in our tree. Which feature ($x$ or $y$) will it test on, and what will the test threshold be?\n",
    "\n",
    "Trying every split means trying\n",
    "\n",
    "- Every feature ($x$ or $y$)\n",
    "- All *unique* thresholds: We only need to try thresholds that produce different splits.\n",
    "\n",
    "For example, here are the thresholds we might select if we wanted to use the $x$ coordinate:\n",
    "\n",
    "<br />\n",
    "<center>\n",
    "<img src = ipynb.images/dataset2-thresholds-x.svg width = 300 />\n",
    "</center>\n",
    "\n",
    "But what we actually need to consider is *all features* and thus:\n",
    "\n",
    "<br />\n",
    "<center>\n",
    "<img src = ipynb.images/dataset2-thresholds.svg width = 300 />\n",
    "</center>\n",
    "\n",
    "After trying ***all*** thresholds for both $x$ and $y$, we find that the $x = 2$ split has the highest Gini Gain, so we’ll make our root decision node use the $x$ feature with a threshold of 2.\n",
    "\n",
    "<br />\n",
    "<center>\n",
    "<img src = ipynb.images/decision-tree2-build1.svg width = 300 />\n",
    "</center>\n",
    "\n",
    "Time to make our second decision node! Let’s (arbitrarily) go to the left branch. We’re now only using the datapoints that would take the left branch (i.e. the datapoints satisfying $x < 2$), specifically the 3 blues and 3 reds.      \n",
    "\n",
    "To build our second decision node, we just do the same thing! We try every possible split for the 6 datapoints we have and realize that $y = 2$ is the best split. We make that into a decision node and now have this:\n",
    "\n",
    "<br />\n",
    "<center>\n",
    "<img src = ipynb.images/decision-tree2-build2.svg width = 450 />\n",
    "</center>\n",
    "\n",
    "It doesn’t makes sense to add a decision node on the rightmost node because doing so wouldn’t improve our decision tree. Thus, we’ll make this node a leaf node and slap the Green label on it. This means that we’ll classify any datapoint that reaches this node as Green.\n",
    "\n",
    "If we continue to the 2 remaining bottommost nodes, the same thing will happen: we’ll make the bottom left node our Blue leaf node, and we’ll make the bottom right node our Red leaf node. \n",
    "\n",
    "That brings us to the final result:\n",
    "<br />\n",
    "<center>\n",
    "<img src = ipynb.images/decision-tree2.svg width = 450 />\n",
    "</center>"
   ]
  },
  {
   "cell_type": "markdown",
   "metadata": {},
   "source": [
    "Let's examine this technique with sklearn, using a classic dataset exemplar\n",
    "###  7.3 `iris` dataset"
   ]
  },
  {
   "cell_type": "code",
   "execution_count": null,
   "metadata": {
    "execution": {
     "iopub.status.busy": "2023-01-17T20:53:58.000041Z",
     "iopub.status.idle": "2023-01-17T20:53:58.000216Z",
     "shell.execute_reply": "2023-01-17T20:53:58.000124Z",
     "shell.execute_reply.started": "2023-01-17T20:53:58.000116Z"
    },
    "tags": []
   },
   "outputs": [],
   "source": [
    "!pip install pandas scikit-learn"
   ]
  },
  {
   "cell_type": "code",
   "execution_count": null,
   "metadata": {
    "execution": {
     "iopub.status.busy": "2023-01-17T20:53:58.000877Z",
     "iopub.status.idle": "2023-01-17T20:53:58.001039Z",
     "shell.execute_reply": "2023-01-17T20:53:58.000957Z",
     "shell.execute_reply.started": "2023-01-17T20:53:58.000950Z"
    },
    "tags": []
   },
   "outputs": [],
   "source": [
    "import pandas as pd\n",
    "import numpy as np\n",
    "from sklearn import datasets\n",
    "FEATURE_NAMES = ['Sepal Length', 'Sepal Width', 'Petal Length', 'Petal Width']"
   ]
  },
  {
   "cell_type": "code",
   "execution_count": null,
   "metadata": {
    "execution": {
     "iopub.status.busy": "2023-01-17T20:53:58.001670Z",
     "iopub.status.idle": "2023-01-17T20:53:58.001882Z",
     "shell.execute_reply": "2023-01-17T20:53:58.001799Z",
     "shell.execute_reply.started": "2023-01-17T20:53:58.001790Z"
    },
    "tags": []
   },
   "outputs": [],
   "source": [
    "iris = datasets.load_iris()\n",
    "X = pd.DataFrame(iris.data, columns = FEATURE_NAMES)\n",
    "y = iris.target"
   ]
  },
  {
   "cell_type": "code",
   "execution_count": null,
   "metadata": {
    "execution": {
     "iopub.status.busy": "2023-01-17T20:53:58.002470Z",
     "iopub.status.idle": "2023-01-17T20:53:58.002633Z",
     "shell.execute_reply": "2023-01-17T20:53:58.002553Z",
     "shell.execute_reply.started": "2023-01-17T20:53:58.002545Z"
    },
    "tags": []
   },
   "outputs": [],
   "source": [
    "X"
   ]
  },
  {
   "cell_type": "code",
   "execution_count": null,
   "metadata": {
    "execution": {
     "iopub.status.busy": "2023-01-17T20:53:58.003397Z",
     "iopub.status.idle": "2023-01-17T20:53:58.003556Z",
     "shell.execute_reply": "2023-01-17T20:53:58.003477Z",
     "shell.execute_reply.started": "2023-01-17T20:53:58.003469Z"
    },
    "tags": []
   },
   "outputs": [],
   "source": [
    "y"
   ]
  },
  {
   "cell_type": "code",
   "execution_count": null,
   "metadata": {
    "execution": {
     "iopub.status.busy": "2023-01-17T20:53:58.004381Z",
     "iopub.status.idle": "2023-01-17T20:53:58.004545Z",
     "shell.execute_reply": "2023-01-17T20:53:58.004469Z",
     "shell.execute_reply.started": "2023-01-17T20:53:58.004462Z"
    },
    "tags": []
   },
   "outputs": [],
   "source": [
    "from sklearn.preprocessing import LabelEncoder\n",
    "\n",
    "def transform_categorical(data):\n",
    "    categories = (data.dtypes ==\"object\")\n",
    "    cat_cols = list(categories[categories].index)\n",
    "    label_encoder = LabelEncoder()\n",
    "    for col in cat_cols:\n",
    "        data[col] = label_encoder.fit_transform(data[col])"
   ]
  },
  {
   "cell_type": "code",
   "execution_count": null,
   "metadata": {
    "execution": {
     "iopub.status.busy": "2023-01-17T20:53:58.005058Z",
     "iopub.status.idle": "2023-01-17T20:53:58.005270Z",
     "shell.execute_reply": "2023-01-17T20:53:58.005175Z",
     "shell.execute_reply.started": "2023-01-17T20:53:58.005167Z"
    },
    "tags": []
   },
   "outputs": [],
   "source": [
    "from sklearn.preprocessing import MinMaxScaler\n",
    "\n",
    "def scale_numerical(data):\n",
    "    scaler = MinMaxScaler()\n",
    "    data[data.columns] = scaler.fit_transform(data[data.columns])"
   ]
  },
  {
   "cell_type": "code",
   "execution_count": null,
   "metadata": {
    "execution": {
     "iopub.status.busy": "2023-01-17T20:53:58.005899Z",
     "iopub.status.idle": "2023-01-17T20:53:58.006104Z",
     "shell.execute_reply": "2023-01-17T20:53:58.006002Z",
     "shell.execute_reply.started": "2023-01-17T20:53:58.005992Z"
    },
    "tags": []
   },
   "outputs": [],
   "source": [
    "# Unneeded!\n",
    "#transform_categorical(X)\n",
    "#scale_numerical(X)"
   ]
  },
  {
   "cell_type": "code",
   "execution_count": null,
   "metadata": {
    "execution": {
     "iopub.status.busy": "2023-01-17T20:53:58.006766Z",
     "iopub.status.idle": "2023-01-17T20:53:58.006929Z",
     "shell.execute_reply": "2023-01-17T20:53:58.006846Z",
     "shell.execute_reply.started": "2023-01-17T20:53:58.006838Z"
    },
    "tags": []
   },
   "outputs": [],
   "source": [
    "from sklearn.model_selection import train_test_split\n",
    "\n",
    "X_train, X_test, y_train, y_test = train_test_split(X, y, test_size=0.20, random_state=42)"
   ]
  },
  {
   "cell_type": "code",
   "execution_count": null,
   "metadata": {
    "execution": {
     "iopub.status.busy": "2023-01-17T20:53:58.008078Z",
     "iopub.status.idle": "2023-01-17T20:53:58.008496Z",
     "shell.execute_reply": "2023-01-17T20:53:58.008379Z",
     "shell.execute_reply.started": "2023-01-17T20:53:58.008361Z"
    },
    "tags": []
   },
   "outputs": [],
   "source": [
    "from sklearn.tree import DecisionTreeClassifier\n",
    "model = DecisionTreeClassifier()\n",
    "model.fit(X_train, y_train)"
   ]
  },
  {
   "cell_type": "code",
   "execution_count": null,
   "metadata": {
    "execution": {
     "iopub.status.busy": "2023-01-17T20:53:58.009332Z",
     "iopub.status.idle": "2023-01-17T20:53:58.009651Z",
     "shell.execute_reply": "2023-01-17T20:53:58.009426Z",
     "shell.execute_reply.started": "2023-01-17T20:53:58.009417Z"
    },
    "tags": []
   },
   "outputs": [],
   "source": [
    "from sklearn.metrics import mean_absolute_error,r2_score,mean_squared_error\n",
    "\n",
    "y_pred = model.predict(X_test)\n",
    "print(\"R^2 : \", r2_score(y_test, y_pred))\n",
    "print(\"MAE :\", mean_absolute_error(y_test,y_pred))\n",
    "print(\"RMSE:\",np.sqrt(mean_squared_error(y_test, y_pred)))"
   ]
  },
  {
   "cell_type": "markdown",
   "metadata": {},
   "source": [
    "Please open an anaconda prompt (terminal on the MAC) and `conda install pydot` (or `conda install pydot-ng`). Read [here](https://pypi.org/project/pydot/) about pydot. \n",
    "\n",
    "If you have problems with installing in your terminal (e.g. default python engine defaults to non-anaconda python when you run `python --version`.. happens a lot on the MAC, Windows people have less problems here because they can open an Anaconda prompt), you may also do this inside your notebook by opening a new cell and running `!conda install pydot`. \n",
    "\n",
    "However, note that you can also run a python notebook with a different python engine than anaconda python by opening a terminal where the default engine is, say, stock python 2.7 or 3.7, installing `ipython`, and then typing `ipython notebook`. In *that* case, even though you have a notebook in front of you, it is *not* an anaconda notebook, and `conda` *anything* will be an unrecognized command.\n",
    "\n",
    "Go [here](http://www.graphviz.org/download/) and download the binaries for graphviz, an open source graph visualization software. Look [here](https://graphviz.gitlab.io/gallery/) for examples graph layouts."
   ]
  },
  {
   "cell_type": "code",
   "execution_count": null,
   "metadata": {
    "execution": {
     "iopub.status.busy": "2023-01-17T20:53:58.010558Z",
     "iopub.status.idle": "2023-01-17T20:53:58.010806Z",
     "shell.execute_reply": "2023-01-17T20:53:58.010701Z",
     "shell.execute_reply.started": "2023-01-17T20:53:58.010690Z"
    },
    "tags": []
   },
   "outputs": [],
   "source": [
    "from sklearn.tree import export_graphviz\n",
    "export_graphviz(model, 'tree.dot', feature_names = FEATURE_NAMES)"
   ]
  },
  {
   "cell_type": "code",
   "execution_count": null,
   "metadata": {
    "execution": {
     "iopub.status.busy": "2023-01-17T20:53:58.011343Z",
     "iopub.status.idle": "2023-01-17T20:53:58.011739Z",
     "shell.execute_reply": "2023-01-17T20:53:58.011649Z",
     "shell.execute_reply.started": "2023-01-17T20:53:58.011639Z"
    },
    "tags": []
   },
   "outputs": [],
   "source": [
    "!dot -Tpng tree.dot -o tree.png"
   ]
  },
  {
   "cell_type": "code",
   "execution_count": null,
   "metadata": {
    "execution": {
     "iopub.status.busy": "2023-01-17T20:53:58.012295Z",
     "iopub.status.idle": "2023-01-17T20:53:58.012563Z",
     "shell.execute_reply": "2023-01-17T20:53:58.012399Z",
     "shell.execute_reply.started": "2023-01-17T20:53:58.012389Z"
    },
    "tags": []
   },
   "outputs": [],
   "source": [
    "!pip install opencv-python pydot"
   ]
  },
  {
   "cell_type": "code",
   "execution_count": null,
   "metadata": {
    "execution": {
     "iopub.status.busy": "2023-01-17T20:53:58.013240Z",
     "iopub.status.idle": "2023-01-17T20:53:58.013421Z",
     "shell.execute_reply": "2023-01-17T20:53:58.013324Z",
     "shell.execute_reply.started": "2023-01-17T20:53:58.013316Z"
    },
    "tags": []
   },
   "outputs": [],
   "source": [
    "import matplotlib.pyplot as plt\n",
    "import cv2\n",
    "%matplotlib inline\n",
    "\n",
    "img = cv2.imread('tree.png')\n",
    "#img = cv2.rotate(img, cv2.cv2.ROTATE_90_CLOCKWISE)\n",
    "img = cv2.flip(img, 0)\n",
    "plt.figure(figsize = (20, 20))\n",
    "plt.imshow(img)"
   ]
  },
  {
   "cell_type": "markdown",
   "metadata": {},
   "source": [
    "A better version:"
   ]
  },
  {
   "cell_type": "code",
   "execution_count": null,
   "metadata": {
    "execution": {
     "iopub.status.busy": "2023-01-17T20:53:58.014419Z",
     "iopub.status.idle": "2023-01-17T20:53:58.014705Z",
     "shell.execute_reply": "2023-01-17T20:53:58.014600Z",
     "shell.execute_reply.started": "2023-01-17T20:53:58.014588Z"
    },
    "tags": []
   },
   "outputs": [],
   "source": [
    "!pip install graphviz"
   ]
  },
  {
   "cell_type": "code",
   "execution_count": null,
   "metadata": {
    "execution": {
     "iopub.status.busy": "2023-01-17T20:53:58.015886Z",
     "iopub.status.idle": "2023-01-17T20:53:58.016122Z",
     "shell.execute_reply": "2023-01-17T20:53:58.016013Z",
     "shell.execute_reply.started": "2023-01-17T20:53:58.016001Z"
    },
    "tags": []
   },
   "outputs": [],
   "source": [
    "from sklearn import tree\n",
    "import graphviz\n",
    "\n",
    "dot_data = tree.export_graphviz(model, out_file=None, \n",
    "                      feature_names=FEATURE_NAMES,  \n",
    "                      class_names=['setosa', 'versicolor', 'virginica'],  \n",
    "                      filled=True, rounded=True,  \n",
    "                      special_characters=True)  \n",
    "graph = graphviz.Source(dot_data)  \n",
    "graph "
   ]
  },
  {
   "cell_type": "markdown",
   "metadata": {},
   "source": [
    "### 7.4 Mushroom dataset\n",
    "Back our mushroom stew, with **Gini gains** (yes, you may actually use Information gain *or* Gini gain for either categorical or continuous datasets)!\n",
    "\n",
    "Can we still use the same algorithm even if our columns values are categorical?\n",
    "\n",
    "Sure, all we have to is to convert the categories to integers. We don't even have to use sklearn's dummy variables API that creates as many new columns as there are categories: We can directly map categories to integer indexes! The column remains *categorical*, but the categories are now numbers instead of letters.\n",
    "\n",
    ">**Note**: This is not always the case with ML algorithms. Very often, *more* binary columns is better than *one* column of integers."
   ]
  },
  {
   "cell_type": "code",
   "execution_count": null,
   "metadata": {
    "execution": {
     "iopub.status.busy": "2023-01-17T20:53:58.016643Z",
     "iopub.status.idle": "2023-01-17T20:53:58.016849Z",
     "shell.execute_reply": "2023-01-17T20:53:58.016735Z",
     "shell.execute_reply.started": "2023-01-17T20:53:58.016727Z"
    },
    "tags": []
   },
   "outputs": [],
   "source": [
    "X2 = pd.DataFrame([t[1:] for t in clean_instances], columns = attribute_names[1:])\n",
    "X2"
   ]
  },
  {
   "cell_type": "code",
   "execution_count": null,
   "metadata": {
    "execution": {
     "iopub.status.busy": "2023-01-17T20:53:58.017711Z",
     "iopub.status.idle": "2023-01-17T20:53:58.018010Z",
     "shell.execute_reply": "2023-01-17T20:53:58.017922Z",
     "shell.execute_reply.started": "2023-01-17T20:53:58.017912Z"
    },
    "scrolled": true,
    "tags": []
   },
   "outputs": [],
   "source": [
    "y2 = [t[0] for t in clean_instances]\n",
    "print(len(y2), y2[0:5])"
   ]
  },
  {
   "cell_type": "code",
   "execution_count": null,
   "metadata": {
    "execution": {
     "iopub.status.busy": "2023-01-17T20:53:58.018606Z",
     "iopub.status.idle": "2023-01-17T20:53:58.018768Z",
     "shell.execute_reply": "2023-01-17T20:53:58.018687Z",
     "shell.execute_reply.started": "2023-01-17T20:53:58.018679Z"
    },
    "tags": []
   },
   "outputs": [],
   "source": [
    "transform_categorical(X2)\n",
    "X2"
   ]
  },
  {
   "cell_type": "code",
   "execution_count": null,
   "metadata": {
    "execution": {
     "iopub.status.busy": "2023-01-17T20:53:58.019757Z",
     "iopub.status.idle": "2023-01-17T20:53:58.019931Z",
     "shell.execute_reply": "2023-01-17T20:53:58.019853Z",
     "shell.execute_reply.started": "2023-01-17T20:53:58.019844Z"
    },
    "tags": []
   },
   "outputs": [],
   "source": [
    "y2 = [1 if d=='e' else 0 for d in y2]\n",
    "print(len(y2), y2[0:5])"
   ]
  },
  {
   "cell_type": "code",
   "execution_count": null,
   "metadata": {
    "execution": {
     "iopub.status.busy": "2023-01-17T20:53:58.020921Z",
     "iopub.status.idle": "2023-01-17T20:53:58.021343Z",
     "shell.execute_reply": "2023-01-17T20:53:58.021243Z",
     "shell.execute_reply.started": "2023-01-17T20:53:58.021233Z"
    },
    "tags": []
   },
   "outputs": [],
   "source": [
    "X_train, X_test, y_train, y_test = train_test_split(X2, y2, test_size=0.20, random_state=42)"
   ]
  },
  {
   "cell_type": "code",
   "execution_count": null,
   "metadata": {
    "execution": {
     "iopub.status.busy": "2023-01-17T20:53:58.022014Z",
     "iopub.status.idle": "2023-01-17T20:53:58.022208Z",
     "shell.execute_reply": "2023-01-17T20:53:58.022112Z",
     "shell.execute_reply.started": "2023-01-17T20:53:58.022103Z"
    },
    "tags": []
   },
   "outputs": [],
   "source": [
    "model2 = DecisionTreeClassifier()\n",
    "model2.fit(X_train, y_train)"
   ]
  },
  {
   "cell_type": "code",
   "execution_count": null,
   "metadata": {
    "execution": {
     "iopub.status.busy": "2023-01-17T20:53:58.022852Z",
     "iopub.status.idle": "2023-01-17T20:53:58.023030Z",
     "shell.execute_reply": "2023-01-17T20:53:58.022947Z",
     "shell.execute_reply.started": "2023-01-17T20:53:58.022938Z"
    },
    "tags": []
   },
   "outputs": [],
   "source": [
    "y_pred = model2.predict(X_test)\n",
    "print(\"R^2 : \", r2_score(y_test, y_pred))\n",
    "print(\"MAE :\", mean_absolute_error(y_test,y_pred))\n",
    "print(\"RMSE:\",np.sqrt(mean_squared_error(y_test, y_pred)))"
   ]
  },
  {
   "cell_type": "code",
   "execution_count": null,
   "metadata": {
    "execution": {
     "iopub.status.busy": "2023-01-17T20:53:58.023399Z",
     "iopub.status.idle": "2023-01-17T20:53:58.023560Z",
     "shell.execute_reply": "2023-01-17T20:53:58.023480Z",
     "shell.execute_reply.started": "2023-01-17T20:53:58.023472Z"
    },
    "tags": []
   },
   "outputs": [],
   "source": [
    "export_graphviz(model2, 'tree.dot', feature_names = attribute_names[1:])"
   ]
  },
  {
   "cell_type": "code",
   "execution_count": null,
   "metadata": {
    "execution": {
     "iopub.status.busy": "2023-01-17T20:53:58.024146Z",
     "iopub.status.idle": "2023-01-17T20:53:58.024550Z",
     "shell.execute_reply": "2023-01-17T20:53:58.024462Z",
     "shell.execute_reply.started": "2023-01-17T20:53:58.024452Z"
    },
    "tags": []
   },
   "outputs": [],
   "source": [
    "!dot -Tpng tree.dot -o tree.png"
   ]
  },
  {
   "cell_type": "markdown",
   "metadata": {},
   "source": [
    "If you have the `cv2` library installed:"
   ]
  },
  {
   "cell_type": "code",
   "execution_count": null,
   "metadata": {
    "execution": {
     "iopub.status.busy": "2023-01-17T20:53:58.025148Z",
     "iopub.status.idle": "2023-01-17T20:53:58.025341Z",
     "shell.execute_reply": "2023-01-17T20:53:58.025255Z",
     "shell.execute_reply.started": "2023-01-17T20:53:58.025246Z"
    },
    "tags": []
   },
   "outputs": [],
   "source": [
    "img = cv2.imread('tree.png')\n",
    "#img = cv2.rotate(img, cv2.cv2.ROTATE_90_CLOCKWISE)\n",
    "img = cv2.flip(img, 0)\n",
    "plt.figure(figsize = (20, 20))\n",
    "plt.imshow(img)"
   ]
  },
  {
   "cell_type": "markdown",
   "metadata": {},
   "source": [
    "Here's a nicer version of the same graph with the target class names:"
   ]
  },
  {
   "cell_type": "code",
   "execution_count": null,
   "metadata": {
    "execution": {
     "iopub.status.busy": "2023-01-17T20:53:58.025909Z",
     "iopub.status.idle": "2023-01-17T20:53:58.026083Z",
     "shell.execute_reply": "2023-01-17T20:53:58.025999Z",
     "shell.execute_reply.started": "2023-01-17T20:53:58.025991Z"
    },
    "tags": []
   },
   "outputs": [],
   "source": [
    "dot_data = tree.export_graphviz(model2, out_file=None, \n",
    "                      feature_names=attribute_names[1:],  \n",
    "                      class_names=['poisonous', 'edible'],  \n",
    "                      filled=True, rounded=True,  \n",
    "                      special_characters=True)  \n",
    "graph = graphviz.Source(dot_data)  \n",
    "graph "
   ]
  },
  {
   "cell_type": "markdown",
   "metadata": {},
   "source": [
    "We can use AUC (Area Under Curve) as the evaluation metric. Our target value is binary so it’s a binary classification problem. AUC is a good way for evaluation for this type of problems (see INFO 6105 for a definition of the [Receiver Operating Characteristic](https://en.wikipedia.org/wiki/Receiver_operating_characteristic) and for AUC)."
   ]
  },
  {
   "cell_type": "code",
   "execution_count": null,
   "metadata": {
    "execution": {
     "iopub.status.busy": "2023-01-17T20:53:58.026765Z",
     "iopub.status.idle": "2023-01-17T20:53:58.026958Z",
     "shell.execute_reply": "2023-01-17T20:53:58.026865Z",
     "shell.execute_reply.started": "2023-01-17T20:53:58.026856Z"
    },
    "tags": []
   },
   "outputs": [],
   "source": [
    "from sklearn.metrics import roc_curve, auc\n",
    "\n",
    "false_positive_rate, true_positive_rate, thresholds = roc_curve(y_test, y_pred)\n",
    "roc_auc = auc(false_positive_rate, true_positive_rate)\n",
    "roc_auc"
   ]
  },
  {
   "cell_type": "markdown",
   "metadata": {},
   "source": [
    "## 8. Parameter turning\n",
    "#### max_depth\n",
    "The first parameter to tune in sklearn's decision tree algorithm is `max_depth`. This indicates how deep the tree can be. \n",
    "\n",
    "The deeper the tree, the more splits it has and it captures more information about the data. \n",
    "\n",
    "Let's fit a decision tree with depths ranging from 1 to 32 and plot the training and test auc scores."
   ]
  },
  {
   "cell_type": "code",
   "execution_count": null,
   "metadata": {},
   "outputs": [],
   "source": [
    "max_depths"
   ]
  },
  {
   "cell_type": "code",
   "execution_count": null,
   "metadata": {
    "execution": {
     "iopub.status.busy": "2023-01-17T20:53:58.027540Z",
     "iopub.status.idle": "2023-01-17T20:53:58.027730Z",
     "shell.execute_reply": "2023-01-17T20:53:58.027644Z",
     "shell.execute_reply.started": "2023-01-17T20:53:58.027635Z"
    },
    "tags": []
   },
   "outputs": [],
   "source": [
    "max_depths = np.linspace(1, 32, 32, endpoint=True)\n",
    "train_results = []\n",
    "test_results = []\n",
    "for max_depth in max_depths:\n",
    "    dt = DecisionTreeClassifier(max_depth=int(max_depth))\n",
    "    dt.fit(X_train, y_train)\n",
    "    train_pred = dt.predict(X_train)\n",
    "    \n",
    "    false_positive_rate, true_positive_rate, thresholds = roc_curve(y_train, train_pred)\n",
    "    roc_auc = auc(false_positive_rate, true_positive_rate)\n",
    "    \n",
    "    # Add auc score to previous train results\n",
    "    train_results.append(roc_auc)\n",
    "    y_pred = dt.predict(X_test)\n",
    "    false_positive_rate, true_positive_rate, thresholds = roc_curve(y_test, y_pred)\n",
    "    roc_auc = auc(false_positive_rate, true_positive_rate)\n",
    "    \n",
    "    # Add auc score to previous test results\n",
    "    test_results.append(roc_auc)"
   ]
  },
  {
   "cell_type": "code",
   "execution_count": null,
   "metadata": {
    "execution": {
     "iopub.status.busy": "2023-01-17T20:53:58.029884Z",
     "iopub.status.idle": "2023-01-17T20:53:58.030185Z",
     "shell.execute_reply": "2023-01-17T20:53:58.030021Z",
     "shell.execute_reply.started": "2023-01-17T20:53:58.030012Z"
    },
    "tags": []
   },
   "outputs": [],
   "source": [
    "from matplotlib.legend_handler import HandlerLine2D\n",
    "\n",
    "line1, = plt.plot(max_depths, train_results, 'b', label='Train AUC')\n",
    "line2, = plt.plot(max_depths, test_results, 'r', label='Test AUC')\n",
    "plt.legend(handler_map={line1: HandlerLine2D(numpoints=2)})\n",
    "plt.ylabel('AUC score')\n",
    "plt.xlabel('Tree depth')"
   ]
  },
  {
   "cell_type": "markdown",
   "metadata": {},
   "source": [
    "The right depth value for our model appears to be 5 because 5 levels are enough to achieve perfect classification.\n",
    "\n",
    "#### min_samples_split\n",
    "min_samples_split represents the minimum number of samples required to split an internal node. This can vary between considering at least one sample at each node to considering all of the samples at each node. When we increase this parameter, the tree becomes more constrained as it has to consider more samples at each node. \n",
    "\n",
    "#### min_samples_leaf\n",
    "min_samples_leaf is The minimum number of samples required to be at a leaf node. This parameter is similar to min_samples_splits, however, this describe the minimum number of samples of samples at the leafs, the base of the tree.\n",
    "\n",
    "#### max_features\n",
    "max_features represents the number of features to consider when looking for the best split.\n",
    "\n",
    "We will look at these hyperparameters more cloesly with another, more complicated, dateset further below."
   ]
  },
  {
   "cell_type": "markdown",
   "metadata": {},
   "source": [
    "## 9. Feature importance and decision tree pitfalls\n",
    "So far we've seen how to built seemingly successful decision trees.\n",
    "\n",
    "However, our UCI mushroom dataset is very predictable. It is actually very common to see decision tree models used *incorrectly*.\n",
    "\n",
    "<br />\n",
    "<center>\n",
    "<img src = ipynb.images/oopsie-donald.png width = 300 />\n",
    "</center>\n",
    "\n",
    "In fact, one can pull *completely wrong* insights from a decision tree!\n",
    "\n",
    "### 9.1 Simulate some data with Poisson and Binomial\n",
    "Let's see how this can happen. Let's simulate a dataset as a mixture model of a [Poisson](https://en.wikipedia.org/wiki/Poisson_distribution) and [Binomial](https://en.wikipedia.org/wiki/Binomial_distribution). So we have two independent variables that are **cateogorial** : `important_feature_poisson` and `important_feature_dummy`, and one dependent variable `Y` that is **continuous** rather than **categorical**.\n",
    "\n",
    "Let's also create an *irrelevant* **continuous** feature (one that is not factored into the computation of the dependent variable) based on a **normal** distribution (`random_feature_normal`), and an *irrelevant* **categorical** feature based on the same binomial (`random_feature_dummy`). \n",
    "\n",
    "Irrelevant columns that *do not* contribute to `Y` and should thus be completely uncorrelated with `Y`."
   ]
  },
  {
   "cell_type": "code",
   "execution_count": null,
   "metadata": {},
   "outputs": [],
   "source": [
    "help(np.random.poisson)"
   ]
  },
  {
   "cell_type": "code",
   "execution_count": null,
   "metadata": {},
   "outputs": [],
   "source": []
  },
  {
   "cell_type": "code",
   "execution_count": null,
   "metadata": {
    "execution": {
     "iopub.status.busy": "2023-01-17T20:53:58.031219Z",
     "iopub.status.idle": "2023-01-17T20:53:58.031700Z",
     "shell.execute_reply": "2023-01-17T20:53:58.031580Z",
     "shell.execute_reply.started": "2023-01-17T20:53:58.031566Z"
    },
    "tags": []
   },
   "outputs": [],
   "source": [
    "data = pd.DataFrame(\n",
    "    {\n",
    "        'important_feature_poisson': np.random.poisson(5, 1000),\n",
    "        'important_feature_dummy': np.random.binomial(1, 0.5, 1000),\n",
    "        'random_feature_normal': np.random.normal(0, 100, 1000),\n",
    "        'random_feature_dummy': np.random.binomial(1 , 0.5, 1000)\n",
    "    }\n",
    ")\n",
    "\n",
    "data['Y'] = (\n",
    "    np.random.normal(5, 3, 1000) * data['important_feature_poisson'] + \n",
    "    np.random.normal(10, 3, 1000) * data['important_feature_dummy']\n",
    ")"
   ]
  },
  {
   "cell_type": "markdown",
   "metadata": {},
   "source": [
    "### 9.2 Visualize the features\n",
    "We can clearly see with **pair plots** that `important_feature_poisson` and `important_feature_dummy` are *correlated* with `Y`, and that `random_feature_normal` and `random_feature_dummy` are *uncorrelated* with `Y`:"
   ]
  },
  {
   "cell_type": "code",
   "execution_count": null,
   "metadata": {
    "execution": {
     "iopub.status.busy": "2023-01-17T20:53:58.032469Z",
     "iopub.status.idle": "2023-01-17T20:53:58.032671Z",
     "shell.execute_reply": "2023-01-17T20:53:58.032560Z",
     "shell.execute_reply.started": "2023-01-17T20:53:58.032552Z"
    },
    "tags": []
   },
   "outputs": [],
   "source": [
    "!pip install seaborn"
   ]
  },
  {
   "cell_type": "code",
   "execution_count": null,
   "metadata": {},
   "outputs": [],
   "source": [
    "from matplotlib import pyplot as plt\n",
    "plt.plot(data[\"important_feature_poisson\"])\n",
    "\n",
    "# 'important_feature_poisson'\n",
    "# 'important_feature_dummy'\n",
    "# 'random_feature_normal'\n",
    "# 'random_feature_dummy'"
   ]
  },
  {
   "cell_type": "code",
   "execution_count": null,
   "metadata": {
    "execution": {
     "iopub.status.busy": "2023-01-17T20:53:58.033126Z",
     "iopub.status.idle": "2023-01-17T20:53:58.033300Z",
     "shell.execute_reply": "2023-01-17T20:53:58.033215Z",
     "shell.execute_reply.started": "2023-01-17T20:53:58.033207Z"
    },
    "tags": []
   },
   "outputs": [],
   "source": [
    "import seaborn as sns\n",
    "\n",
    "plt.rcParams['figure.figsize'] = [10, 5]\n",
    "\n",
    "f, ((g_poisson, g_important_dummy), (g_normal, g_random_dummy)) = plt.subplots(2,2)\n",
    "plt.subplots_adjust(bottom=1, top=2.8)\n",
    "                             \n",
    "g_poisson.scatter(x = data['important_feature_poisson'], y = data['Y'], )\n",
    "g_poisson.set_xlabel('important_feature_poisson', fontweight = 'bold', fontsize = 12)\n",
    "g_poisson.set_ylabel('Y', fontweight = 'bold', fontsize = 12)\n",
    "g_poisson.set_title('important_feature_poisson on Y', fontweight = 'bold', fontsize = 14)\n",
    "\n",
    "sns.boxplot(x = data['important_feature_dummy'], y = data['Y'], ax=g_important_dummy)\n",
    "g_important_dummy.set_xlabel('important_feature_dummy', fontweight = 'bold', fontsize = 12)\n",
    "g_important_dummy.set_ylabel('Y', fontweight = 'bold', fontsize = 12)\n",
    "g_important_dummy.set_title('important_feature_dummy on Y', fontweight = 'bold', fontsize = 14)\n",
    "\n",
    "g_normal.scatter(x = data['random_feature_normal'], y = data['Y'], )\n",
    "g_normal.set_xlabel('random_feature_normal', fontweight = 'bold', fontsize = 12)\n",
    "g_normal.set_ylabel('Y', fontweight = 'bold', fontsize = 12)\n",
    "g_normal.set_title('random_feature_normal on Y', fontweight = 'bold', fontsize = 14)\n",
    "\n",
    "sns.boxplot(x = data['random_feature_dummy'], y = data['Y'], ax=g_random_dummy)\n",
    "g_random_dummy.set_xlabel('random_feature_dummy', fontweight = 'bold', fontsize = 12)\n",
    "g_random_dummy.set_ylabel('Y', fontweight = 'bold', fontsize = 12)\n",
    "g_random_dummy.set_title('random_feature_dummy on Y', fontweight = 'bold', fontsize = 14)"
   ]
  },
  {
   "cell_type": "markdown",
   "metadata": {},
   "source": [
    "### 9.3 Train a Decision Tree regressor"
   ]
  },
  {
   "cell_type": "markdown",
   "metadata": {},
   "source": [
    "Let's create our `X`, `Y` datasets:"
   ]
  },
  {
   "cell_type": "code",
   "execution_count": null,
   "metadata": {
    "execution": {
     "iopub.status.busy": "2023-01-17T20:53:58.033735Z",
     "iopub.status.idle": "2023-01-17T20:53:58.033892Z",
     "shell.execute_reply": "2023-01-17T20:53:58.033811Z",
     "shell.execute_reply.started": "2023-01-17T20:53:58.033804Z"
    },
    "tags": []
   },
   "outputs": [],
   "source": [
    "X = data.drop(['Y'], axis=1)\n",
    "Y = data['Y']"
   ]
  },
  {
   "cell_type": "markdown",
   "metadata": {},
   "source": [
    "Since we have a **continuous** target variable instead of a categorical target variable, we train a decision tree *regressor* rather than a *classiffier*:"
   ]
  },
  {
   "cell_type": "code",
   "execution_count": null,
   "metadata": {
    "execution": {
     "iopub.status.busy": "2023-01-17T20:53:58.034406Z",
     "iopub.status.idle": "2023-01-17T20:53:58.034671Z",
     "shell.execute_reply": "2023-01-17T20:53:58.034573Z",
     "shell.execute_reply.started": "2023-01-17T20:53:58.034564Z"
    },
    "tags": []
   },
   "outputs": [],
   "source": [
    "from sklearn.tree import DecisionTreeRegressor\n",
    "\n",
    "reg = DecisionTreeRegressor()\n",
    "reg.fit(X, Y)"
   ]
  },
  {
   "cell_type": "markdown",
   "metadata": {},
   "source": [
    "### 9.4 Pull the importance\n",
    "Let's see which features contributed the most to the decision tree model:"
   ]
  },
  {
   "cell_type": "code",
   "execution_count": null,
   "metadata": {
    "execution": {
     "iopub.status.busy": "2023-01-17T20:53:58.035609Z",
     "iopub.status.idle": "2023-01-17T20:53:58.035788Z",
     "shell.execute_reply": "2023-01-17T20:53:58.035701Z",
     "shell.execute_reply.started": "2023-01-17T20:53:58.035693Z"
    },
    "tags": []
   },
   "outputs": [],
   "source": [
    "features = X.columns.values\n",
    "importances = reg.feature_importances_\n",
    "indices = np.argsort(importances)\n",
    "plt.title('Feature Importances')\n",
    "plt.barh(range(len(indices)), importances[indices], color='#8f63f4', align='center')\n",
    "plt.yticks(range(len(indices)), features[indices])\n",
    "plt.xlabel('Relative Importance')"
   ]
  },
  {
   "cell_type": "markdown",
   "metadata": {},
   "source": [
    "<br />\n",
    "<center>\n",
    "<img src = ipynb.images/garfield-oh-no.png width = 200 />\n",
    "</center>\n",
    "\n",
    "*Whaaaaaaaaaat*??! The random normal feature is ranked as the ***most important feature***, even though we know for a fact that this feature has no impact on `Y` whatsoever!\n",
    "\n",
    "The Poisson important feature is ranked 2nd, the important dummy variable is ranked 3rd and the random dummy variable 4th."
   ]
  },
  {
   "cell_type": "markdown",
   "metadata": {},
   "source": [
    "### 9.5 Learning *by heart*\n",
    "\n",
    "Why this unexpected result? The model is actually ***learning by heart***!\n",
    "\n",
    "<br />\n",
    "<center>\n",
    "<img src = ipynb.images/mult-table.jpg width = 400 />\n",
    "</center>\n",
    "\n",
    ">**Lesson learned**: The more *power* you give to an ML algorithm, the more likely the algorithm will learn the data *by heart* rather than learning the salient features that distinguish one label from another.\n",
    "\n",
    "If you take a look at the default parameters of our `DecisionTreeRegressor`, you’ll see:\n",
    "```\n",
    "max_depth=None\n",
    "max_leaf_nodes=None\n",
    "min_samples_leaf=1\n",
    "min_samples_split=2\n",
    "```"
   ]
  },
  {
   "cell_type": "code",
   "execution_count": null,
   "metadata": {
    "execution": {
     "iopub.status.busy": "2023-01-17T20:53:58.036743Z",
     "iopub.status.idle": "2023-01-17T20:53:58.036925Z",
     "shell.execute_reply": "2023-01-17T20:53:58.036842Z",
     "shell.execute_reply.started": "2023-01-17T20:53:58.036834Z"
    },
    "tags": []
   },
   "outputs": [],
   "source": [
    "reg.get_params()"
   ]
  },
  {
   "cell_type": "markdown",
   "metadata": {},
   "source": [
    "The default parameters do not prevent **overfitting**: This allows the model to go all the way to an **mse** (mean squared error) of 0. \n",
    "\n",
    "Basically, the model is *memorizing* the data because it’s not limited in depth and can go all the way to *one observation per leaf*.\n",
    "\n",
    "How is it doing that?\n",
    "\n",
    "Since `random_feature_normal` is a random normal distribution, it has a different value for each observation. In that way, it can be used to *tailor* (i.e. *cheat*) the value of the prediction *for each observation*!\n",
    "\n",
    "The Poisson random variable has a limited set of possible values and the two dummy variables have only two possibilities, so they are less helpful in tailoring the prediction. \n",
    "\n",
    "- Number of unique values for random_feature_normal = 1000\n",
    "- Number of unique values for important_feature_poisson = 15\n",
    "- Number of unique values for random_feature_dummy = 2\n",
    "- Number of unique values for importaa nt_feature_dummy = 2\n",
    "\n",
    "In order to reach an mse of 0, our model used `random_feature_normal` pretty intensely!"
   ]
  },
  {
   "cell_type": "markdown",
   "metadata": {},
   "source": [
    "### 9.6 k-fold cross-validation to the rescue\n",
    "If you ask a data scientist what **feature importance** is, the answer would be: \"*It’s the decrease in accuracy when you remove the feature from the model*\".\n",
    "\n",
    "In practice, you don’t remove it from the model but what you can do is to **cross-validate** features and measure the decrease in accuracy on an out-of-bag sample (a test instance).\n",
    "\n",
    "[k-fold cross validation]() is a resampling procedure used to estimate the skill of the model on new data.\n",
    "\n",
    "The procedure has a single parameter called `k` that refers to the number of groups that a given data sample is to be split into. \n",
    "\n",
    "We will pick a value of k = 100, to become 100-fold cross-validation.\n",
    "\n",
    "k-fold cross-validation generally results in a less biased or less optimistic estimate of the model skill than a simple train/test split.\n",
    "\n",
    "The general procedure is as follows:\n",
    "\n",
    "- Shuffle the dataset randomly.\n",
    "- Split the dataset into k groups\n",
    "- For each unique group:\n",
    "- - Take the group as a hold out or test data set\n",
    "- - Take the remaining groups as a training data set\n",
    "- - Fit a model on the training set and evaluate it on the test set\n",
    "- - Retain the evaluation score and discard the model\n",
    "- Summarize the skill of the model using the model sample evaluation scores\n",
    "\n",
    "Importantly, each observation in the data sample is assigned to an individual group and stays in that group for the duration of the procedure. This means that each sample is given the opportunity to be used in the hold out set once, and used to train the model k-1 times.\n",
    "\n",
    "Let’s do this manually.\n",
    "\n",
    "We use sklearn's random permutation cross-validator, which yields indices to split data into training and test sets. Note that in contrast to other cross-validation strategies, random splits do not guarantee that all folds will be different, although this is still very likely for sizeable datasets."
   ]
  },
  {
   "cell_type": "code",
   "execution_count": null,
   "metadata": {},
   "outputs": [],
   "source": [
    "help(ShuffleSplit)"
   ]
  },
  {
   "cell_type": "code",
   "execution_count": null,
   "metadata": {},
   "outputs": [],
   "source": [
    "new_X = np.array(X)"
   ]
  },
  {
   "cell_type": "code",
   "execution_count": null,
   "metadata": {},
   "outputs": [],
   "source": [
    "# X[40]"
   ]
  },
  {
   "cell_type": "code",
   "execution_count": null,
   "metadata": {
    "execution": {
     "iopub.status.busy": "2023-01-17T20:53:58.037712Z",
     "iopub.status.idle": "2023-01-17T20:53:58.038112Z",
     "shell.execute_reply": "2023-01-17T20:53:58.037865Z",
     "shell.execute_reply.started": "2023-01-17T20:53:58.037852Z"
    },
    "tags": []
   },
   "outputs": [],
   "source": [
    "from sklearn.model_selection import ShuffleSplit\n",
    "# rs = ShuffleSplit(len(X))\n",
    "# rs = ShuffleSplit(len\n",
    "# (X), test_size=100, train_size=.3)\n",
    "list(rs.split(X))"
   ]
  },
  {
   "cell_type": "code",
   "execution_count": null,
   "metadata": {
    "execution": {
     "iopub.status.busy": "2023-01-17T20:53:58.038839Z",
     "iopub.status.idle": "2023-01-17T20:53:58.039046Z",
     "shell.execute_reply": "2023-01-17T20:53:58.038953Z",
     "shell.execute_reply.started": "2023-01-17T20:53:58.038944Z"
    },
    "tags": []
   },
   "outputs": [],
   "source": [
    "scores = dict()\n",
    "scores['important_feature_poisson'] = []\n",
    "scores['important_feature_dummy'] = []\n",
    "scores['random_feature_normal'] = []\n",
    "scores['random_feature_dummy'] = []"
   ]
  },
  {
   "cell_type": "code",
   "execution_count": null,
   "metadata": {
    "execution": {
     "iopub.status.busy": "2023-01-17T20:53:58.039724Z",
     "iopub.status.idle": "2023-01-17T20:53:58.039893Z",
     "shell.execute_reply": "2023-01-17T20:53:58.039810Z",
     "shell.execute_reply.started": "2023-01-17T20:53:58.039802Z"
    }
   },
   "outputs": [],
   "source": [
    "# from http://blog.datadive.net/selecting-good-features-part-iii-random-forests/\n",
    "for j, (train_idx, test_idx) in enumerate(rs.split(X)):\n",
    "    X_train, X_test = new_X[train_idx], new_X[test_idx]\n",
    "    Y_train, Y_test = Y[train_idx], Y[test_idx]\n",
    "    r = reg.fit(X_train, Y_train)\n",
    "    acc = r2_score(Y_test, reg.predict(X_test))\n",
    "    \n",
    "    for i in range(X.shape[1]):\n",
    "        X_t = X_test.copy()\n",
    "        np.random.shuffle(X_t[:, i])\n",
    "        shuff_acc = r2_score(Y_test, reg.predict(X_t))\n",
    "        scores[features[i]].append((acc-shuff_acc)/acc)\n",
    "\n",
    "mda_features = [f for f in scores.keys()]\n",
    "mda_importance = [(np.mean(score)) for score in scores.values()]\n",
    "mda_indices = np.argsort(mda_importance)\n",
    "\n",
    "plt.title('Feature Importances')\n",
    "plt.barh(range(len(mda_indices)), [mda_importance[i] for i in mda_indices], color='#8f63f4', align='center')\n",
    "plt.yticks(range(len(mda_indices)), [mda_features[i] for i in mda_indices])\n",
    "plt.xlabel('Mean decrease accuracy')"
   ]
  },
  {
   "cell_type": "markdown",
   "metadata": {},
   "source": [
    "The results are now completely different from the first feature importance graph and in line with the data we have created.\n",
    "\n",
    "There is a second way of computing feature importance called **Gini importance**. In the case of a tree regressor, the importance is assessed by how much a feature decreases the weighted variance in a tree (in the case of classification it’s\n",
    "not variance but Gini impurity). \n",
    "\n",
    "The weight is computed through the fraction of the sample reaching a given node (where the feature is used). This is the method used by sklearn. \n",
    "\n",
    ">This is the explanation given in scikit-learn’s documentation: \"*The relative rank (i.e. depth) of a feature used as a decision node in a tree can be used to assess the relative importance of that feature with respect to the predictability of the\n",
    "target variable. Features used at the top of the tree contribute to the final prediction decision of a larger fraction of the input samples. The expected fraction of the samples they contribute to can thus be used as an estimate of the relative importance of the features*.\"\n",
    "\n",
    "The important features will indeed be used at the top of each tree because they are the one reducing the variance the most in the beginning, but `random_feature_normal` will be extensively used at the bottom of the tree. Each node will contribute to a small fraction of the sample and of the variance reduction, but there will be so many nodes using the feature that, overall, the feature will impact almost all samples with a significant reduction in variance."
   ]
  },
  {
   "cell_type": "markdown",
   "metadata": {},
   "source": [
    "### 9.7 Pruning a decision tree\n",
    "A `DecisionTreeClassifier` provides parameters such as `min_samples_leaf` and `max_depth` to prevent a tree from overfiting.\n",
    "\n",
    "Setting these is by far the simplest method to avoid overfit.\n",
    "\n",
    "**Cost complexity pruning** provides another option to control the size of a tree. In `DecisionTreeClassifier`, this pruning technique is parameterized by the cost complexity parameter, `ccp_alpha`. Greater values of `ccp_alpha` increase the number of nodes pruned.\n",
    "\n",
    "To get an idea of what values of `ccp_alpha` could be appropriate, sklearn provides `DecisionTreeClassifier.cost_complexity_pruning_path` that returns the effective alphas and the corresponding total leaf impurities at each step of the pruning process. As alpha increases, more of the tree is pruned, which increases the total impurity of its leaves.\n",
    "\n",
    "Let's look at an example."
   ]
  },
  {
   "cell_type": "code",
   "execution_count": null,
   "metadata": {
    "execution": {
     "iopub.status.busy": "2023-01-17T20:53:58.040997Z",
     "iopub.status.idle": "2023-01-17T20:53:58.041476Z",
     "shell.execute_reply": "2023-01-17T20:53:58.041284Z",
     "shell.execute_reply.started": "2023-01-17T20:53:58.041272Z"
    }
   },
   "outputs": [],
   "source": [
    "from sklearn.datasets import load_breast_cancer\n",
    "\n",
    "X, y = load_breast_cancer(return_X_y=True)\n",
    "X_train, X_test, y_train, y_test = train_test_split(X, y, random_state=0)\n",
    "\n",
    "clf = DecisionTreeClassifier(random_state=0)\n",
    "path = clf.cost_complexity_pruning_path(X_train, y_train)\n",
    "ccp_alphas, impurities = path.ccp_alphas, path.impurities"
   ]
  },
  {
   "cell_type": "markdown",
   "metadata": {},
   "source": [
    "In the following plot, the maximum effective alpha value is removed, because it is the trivial tree with only one node."
   ]
  },
  {
   "cell_type": "code",
   "execution_count": null,
   "metadata": {
    "execution": {
     "iopub.status.busy": "2023-01-17T20:53:58.044338Z",
     "iopub.status.idle": "2023-01-17T20:53:58.044895Z",
     "shell.execute_reply": "2023-01-17T20:53:58.044618Z",
     "shell.execute_reply.started": "2023-01-17T20:53:58.044604Z"
    }
   },
   "outputs": [],
   "source": [
    "fig, ax = plt.subplots()\n",
    "ax.plot(ccp_alphas[:-1], impurities[:-1], marker=\"o\", drawstyle=\"steps-post\")\n",
    "ax.set_xlabel(\"effective alpha\")\n",
    "ax.set_ylabel(\"total impurity of leaves\")\n",
    "ax.set_title(\"Total Impurity vs effective alpha for training set\")"
   ]
  },
  {
   "cell_type": "markdown",
   "metadata": {},
   "source": [
    "Let's train a decision tree using the effective alphas."
   ]
  },
  {
   "cell_type": "code",
   "execution_count": null,
   "metadata": {
    "execution": {
     "iopub.status.busy": "2023-01-17T20:53:58.045789Z",
     "iopub.status.idle": "2023-01-17T20:53:58.046002Z",
     "shell.execute_reply": "2023-01-17T20:53:58.045896Z",
     "shell.execute_reply.started": "2023-01-17T20:53:58.045887Z"
    }
   },
   "outputs": [],
   "source": [
    "len(ccp_alphas)"
   ]
  },
  {
   "cell_type": "code",
   "execution_count": null,
   "metadata": {
    "execution": {
     "iopub.status.busy": "2023-01-17T20:53:58.047079Z",
     "iopub.status.idle": "2023-01-17T20:53:58.047279Z",
     "shell.execute_reply": "2023-01-17T20:53:58.047181Z",
     "shell.execute_reply.started": "2023-01-17T20:53:58.047170Z"
    }
   },
   "outputs": [],
   "source": [
    "clfs = []\n",
    "for i,ccp_alpha in enumerate(ccp_alphas):\n",
    "    clf = DecisionTreeClassifier(random_state=0, ccp_alpha=ccp_alpha)\n",
    "    clf.fit(X_train, y_train)\n",
    "    clfs.append(clf)\n",
    "    print(i,\n",
    "    \"Number of nodes in the tree is: {} with ccp_alpha: {}\".format(\n",
    "        clfs[i].tree_.node_count, ccp_alphas[i]\n",
    "        )\n",
    "    )"
   ]
  },
  {
   "cell_type": "markdown",
   "metadata": {},
   "source": [
    "The last value in `ccp_alphas` is the alpha value that prunes the whole tree, leaving the tree, clfs[-1], with one node."
   ]
  },
  {
   "cell_type": "code",
   "execution_count": null,
   "metadata": {
    "execution": {
     "iopub.status.busy": "2023-01-17T20:53:58.047979Z",
     "iopub.status.idle": "2023-01-17T20:53:58.048208Z",
     "shell.execute_reply": "2023-01-17T20:53:58.048117Z",
     "shell.execute_reply.started": "2023-01-17T20:53:58.048108Z"
    }
   },
   "outputs": [],
   "source": [
    "clfs = clfs[:-1]\n",
    "ccp_alphas = ccp_alphas[:-1]\n",
    "\n",
    "node_counts = [clf.tree_.node_count for clf in clfs]\n",
    "depth = [clf.tree_.max_depth for clf in clfs]\n",
    "fig, ax = plt.subplots(2, 1)\n",
    "ax[0].plot(ccp_alphas, node_counts, marker=\"o\", drawstyle=\"steps-post\")\n",
    "ax[0].set_xlabel(\"alpha\")\n",
    "ax[0].set_ylabel(\"number of nodes\")\n",
    "ax[0].set_title(\"Number of nodes vs alpha\")\n",
    "ax[1].plot(ccp_alphas, depth, marker=\"o\", drawstyle=\"steps-post\")\n",
    "ax[1].set_xlabel(\"alpha\")\n",
    "ax[1].set_ylabel(\"depth of tree\")\n",
    "ax[1].set_title(\"Depth vs alpha\")\n",
    "fig.tight_layout()"
   ]
  },
  {
   "cell_type": "markdown",
   "metadata": {},
   "source": [
    "When ccp_alpha is set to zero and keeping the other default parameters of DecisionTreeClassifier, the tree overfits, leading to a 100% training accuracy and 88% testing accuracy. As alpha increases, more of the tree is pruned, thus creating a decision tree that generalizes better. In this example, setting ccp_alpha=0.015 maximizes the testing accuracyb"
   ]
  },
  {
   "cell_type": "code",
   "execution_count": null,
   "metadata": {
    "execution": {
     "iopub.status.busy": "2023-01-17T20:53:58.048900Z",
     "iopub.status.idle": "2023-01-17T20:53:58.049116Z",
     "shell.execute_reply": "2023-01-17T20:53:58.049004Z",
     "shell.execute_reply.started": "2023-01-17T20:53:58.048995Z"
    }
   },
   "outputs": [],
   "source": [
    "train_scores = [clf.score(X_train, y_train) for clf in clfs]\n",
    "test_scores = [clf.score(X_test, y_test) for clf in clfs]\n",
    "\n",
    "fig, ax = plt.subplots()\n",
    "ax.set_xlabel(\"alpha\")\n",
    "ax.set_ylabel(\"accuracy\")\n",
    "ax.set_title(\"Accuracy vs alpha for training and testing sets\")\n",
    "ax.plot(ccp_alphas, train_scores, marker=\"o\", label=\"train\", drawstyle=\"steps-post\")\n",
    "ax.plot(ccp_alphas, test_scores, marker=\"o\", label=\"test\", drawstyle=\"steps-post\")\n",
    "ax.legend()"
   ]
  },
  {
   "cell_type": "markdown",
   "metadata": {},
   "source": [
    "### 9.8 Hypeparameter tuning\n",
    "Now that we have a more complex, tougher-to-model dataset than our ushroom dataset, let's look at our other hyperparameters and try to tune them.\n",
    "\n",
    "#### max_depth\n",
    "The first parameter to tune is `max_depth`. This indicates how deep the tree can be. The deeper the tree, the more splits it has and it captures more information about the data. We fit a decision tree with depths ranging from 1 to 32 and plot the training and test auc scores."
   ]
  },
  {
   "cell_type": "code",
   "execution_count": null,
   "metadata": {
    "execution": {
     "iopub.status.busy": "2023-01-17T20:53:58.049680Z",
     "iopub.status.idle": "2023-01-17T20:53:58.049853Z",
     "shell.execute_reply": "2023-01-17T20:53:58.049767Z",
     "shell.execute_reply.started": "2023-01-17T20:53:58.049758Z"
    }
   },
   "outputs": [],
   "source": [
    "max_depths = np.linspace(1, 32, 32, endpoint=True)\n",
    "train_results = []\n",
    "test_results = []\n",
    "\n",
    "for max_depth in max_depths:\n",
    "    dt = DecisionTreeClassifier(max_depth=int(max_depth))\n",
    "    dt.fit(X_train, y_train)\n",
    "    train_pred = dt.predict(X_train)\n",
    "    false_positive_rate, true_positive_rate, thresholds = roc_curve(y_train, train_pred)\n",
    "    roc_auc = auc(false_positive_rate, true_positive_rate)\n",
    "    \n",
    "    # Add auc score to previous train results\n",
    "    train_results.append(roc_auc)\n",
    "    y_pred = dt.predict(X_test)\n",
    "    false_positive_rate, true_positive_rate, thresholds = roc_curve(y_test, y_pred)\n",
    "    roc_auc = auc(false_positive_rate, true_positive_rate)\n",
    "    \n",
    "    # Add auc score to previous test results\n",
    "    test_results.append(roc_auc)"
   ]
  },
  {
   "cell_type": "code",
   "execution_count": null,
   "metadata": {
    "execution": {
     "iopub.status.busy": "2023-01-17T20:53:58.050375Z",
     "iopub.status.idle": "2023-01-17T20:53:58.050561Z",
     "shell.execute_reply": "2023-01-17T20:53:58.050467Z",
     "shell.execute_reply.started": "2023-01-17T20:53:58.050459Z"
    }
   },
   "outputs": [],
   "source": [
    "from matplotlib.legend_handler import HandlerLine2D\n",
    "\n",
    "line1, = plt.plot(max_depths, train_results, 'b', label='Train AUC')\n",
    "line2, = plt.plot(max_depths, test_results, 'r', label='Test AUC')\n",
    "plt.legend(handler_map={line1: HandlerLine2D(numpoints=2)})\n",
    "plt.ylabel('AUC score')\n",
    "plt.xlabel('Tree depth')\n",
    "plt.show()"
   ]
  },
  {
   "cell_type": "markdown",
   "metadata": {},
   "source": [
    "We see that our model *overfits* for large depth values. The tree perfectly predicts all of the train data, however, it fails to generalize the findings for new data. \n",
    "\n",
    "A tree depth of 4 looks optimal to me!"
   ]
  },
  {
   "cell_type": "markdown",
   "metadata": {},
   "source": [
    "#### min_samples_split\n",
    "`min_samples_split` represents the minimum number of samples required to split an internal node. \n",
    "\n",
    "This can vary between considering at least one sample at each node to considering all of the samples at each node. \n",
    "\n",
    "When we increase this parameter, the tree becomes more constrained as it has to consider more samples at each node. Here we will vary the parameter from 10% to 100% of the samples."
   ]
  },
  {
   "cell_type": "code",
   "execution_count": null,
   "metadata": {
    "execution": {
     "iopub.status.busy": "2023-01-17T20:53:58.051528Z",
     "iopub.status.idle": "2023-01-17T20:53:58.051885Z",
     "shell.execute_reply": "2023-01-17T20:53:58.051776Z",
     "shell.execute_reply.started": "2023-01-17T20:53:58.051762Z"
    }
   },
   "outputs": [],
   "source": [
    "min_samples_splits = np.linspace(0.1, 1.0, 10, endpoint=True)\n",
    "train_results = []\n",
    "test_results = []\n",
    "\n",
    "for min_samples_split in min_samples_splits:\n",
    "    dt = DecisionTreeClassifier(min_samples_split=min_samples_split)\n",
    "    dt.fit(X_train, y_train)\n",
    "    train_pred = dt.predict(X_train)\n",
    "    false_positive_rate, true_positive_rate, thresholds = roc_curve(y_train, train_pred)\n",
    "    roc_auc = auc(false_positive_rate, true_positive_rate)\n",
    "    train_results.append(roc_auc)\n",
    "    y_pred = dt.predict(X_test)\n",
    "    false_positive_rate, true_positive_rate, thresholds = roc_curve(y_test, y_pred)\n",
    "    roc_auc = auc(false_positive_rate, true_positive_rate)\n",
    "    test_results.append(roc_auc)"
   ]
  },
  {
   "cell_type": "code",
   "execution_count": null,
   "metadata": {
    "execution": {
     "iopub.status.busy": "2023-01-17T20:53:58.052378Z",
     "iopub.status.idle": "2023-01-17T20:53:58.052567Z",
     "shell.execute_reply": "2023-01-17T20:53:58.052477Z",
     "shell.execute_reply.started": "2023-01-17T20:53:58.052468Z"
    }
   },
   "outputs": [],
   "source": [
    "from matplotlib.legend_handler import HandlerLine2D\n",
    "line1, = plt.plot(min_samples_splits, train_results, 'b', label='Train AUC')\n",
    "line2, = plt.plot(min_samples_splits, test_results, 'r', label='Test AUC')\n",
    "plt.legend(handler_map={line1: HandlerLine2D(numpoints=2)})\n",
    "plt.ylabel('AUC score')\n",
    "plt.xlabel('min samples split')"
   ]
  },
  {
   "cell_type": "markdown",
   "metadata": {},
   "source": [
    "We can clearly see that when we consider 100% of the samples at each node, the model cannot learn enough about the data. This is an **underfitting** case."
   ]
  },
  {
   "cell_type": "markdown",
   "metadata": {},
   "source": [
    "#### min_samples_leaf\n",
    "`min_samples_leaf` is The minimum number of samples required to be at a leaf node. \n",
    "\n",
    "This parameter is similar to `min_samples_splits`, however, this describe the minimum number of samples of samples at the leafs, the base of the tree.\n",
    "\n",
    "`min_samples_leaf` must be at least 1 or in (0, 0.5]."
   ]
  },
  {
   "cell_type": "code",
   "execution_count": null,
   "metadata": {
    "execution": {
     "iopub.status.busy": "2023-01-17T20:53:58.053279Z",
     "iopub.status.idle": "2023-01-17T20:53:58.053461Z",
     "shell.execute_reply": "2023-01-17T20:53:58.053377Z",
     "shell.execute_reply.started": "2023-01-17T20:53:58.053369Z"
    }
   },
   "outputs": [],
   "source": [
    "min_samples_leafs = np.linspace(0.1, 0.5, 5, endpoint=True)\n",
    "train_results = []\n",
    "test_results = []\n",
    "for min_samples_leaf in min_samples_leafs:\n",
    "    dt = DecisionTreeClassifier(min_samples_leaf=min_samples_leaf)\n",
    "    dt.fit(X_train, y_train)\n",
    "    train_pred = dt.predict(X_train)\n",
    "    false_positive_rate, true_positive_rate, thresholds = roc_curve(y_train, train_pred)\n",
    "    roc_auc = auc(false_positive_rate, true_positive_rate)\n",
    "    train_results.append(roc_auc)\n",
    "    y_pred = dt.predict(X_test)\n",
    "    false_positive_rate, true_positive_rate, thresholds = roc_curve(y_test, y_pred)\n",
    "    roc_auc = auc(false_positive_rate, true_positive_rate)\n",
    "    test_results.append(roc_auc)"
   ]
  },
  {
   "cell_type": "code",
   "execution_count": null,
   "metadata": {
    "execution": {
     "iopub.status.busy": "2023-01-17T20:53:58.054783Z",
     "iopub.status.idle": "2023-01-17T20:53:58.055570Z",
     "shell.execute_reply": "2023-01-17T20:53:58.055309Z",
     "shell.execute_reply.started": "2023-01-17T20:53:58.055203Z"
    }
   },
   "outputs": [],
   "source": [
    "from matplotlib.legend_handler import HandlerLine2D\n",
    "line1, = plt.plot(min_samples_leafs, train_results, 'b', label='Train AUC')\n",
    "line2, = plt.plot(min_samples_leafs, test_results, 'r', label='Test AUC')\n",
    "plt.legend(handler_map={line1: HandlerLine2D(numpoints=2)})\n",
    "plt.ylabel('AUC score')\n",
    "plt.xlabel('min samples leaf')\n",
    "plt.show()"
   ]
  },
  {
   "cell_type": "markdown",
   "metadata": {},
   "source": [
    "Same conclusion as to previous parameter. Increasing this value may cause underfitting."
   ]
  },
  {
   "cell_type": "markdown",
   "metadata": {},
   "source": [
    "#### max_features\n",
    "`max_features` represents the number of features to consider when looking for the best split."
   ]
  },
  {
   "cell_type": "code",
   "execution_count": null,
   "metadata": {
    "execution": {
     "iopub.status.busy": "2023-01-17T20:53:58.057895Z",
     "iopub.status.idle": "2023-01-17T20:53:58.058551Z",
     "shell.execute_reply": "2023-01-17T20:53:58.058331Z",
     "shell.execute_reply.started": "2023-01-17T20:53:58.058317Z"
    }
   },
   "outputs": [],
   "source": [
    "max_features = list(range(1, X_train.shape[1]))\n",
    "train_results = []\n",
    "test_results = []\n",
    "for max_feature in max_features:\n",
    "    dt = DecisionTreeClassifier(max_features=max_feature)\n",
    "    dt.fit(X_train, y_train)\n",
    "    train_pred = dt.predict(X_train)\n",
    "    false_positive_rate, true_positive_rate, thresholds = roc_curve(y_train, train_pred)\n",
    "    roc_auc = auc(false_positive_rate, true_positive_rate)\n",
    "    train_results.append(roc_auc)\n",
    "    y_pred = dt.predict(X_test)\n",
    "    false_positive_rate, true_positive_rate, thresholds = roc_curve(y_test, y_pred)\n",
    "    roc_auc = auc(false_positive_rate, true_positive_rate)\n",
    "    test_results.append(roc_auc)"
   ]
  },
  {
   "cell_type": "code",
   "execution_count": null,
   "metadata": {
    "execution": {
     "iopub.status.busy": "2023-01-17T20:53:58.060051Z",
     "iopub.status.idle": "2023-01-17T20:53:58.060367Z",
     "shell.execute_reply": "2023-01-17T20:53:58.060175Z",
     "shell.execute_reply.started": "2023-01-17T20:53:58.060165Z"
    }
   },
   "outputs": [],
   "source": [
    "from matplotlib.legend_handler import HandlerLine2D\n",
    "line1, = plt.plot(max_features, train_results, 'b', label='Train AUC')\n",
    "line2, = plt.plot(max_features, test_results, 'r', label='Test AUC')\n",
    "plt.legend(handler_map={line1: HandlerLine2D(numpoints=2)})\n",
    "plt.ylabel('AUC score')\n",
    "plt.xlabel('max features')\n",
    "plt.show()"
   ]
  },
  {
   "cell_type": "markdown",
   "metadata": {},
   "source": [
    "## 10. Conclusion"
   ]
  },
  {
   "cell_type": "markdown",
   "metadata": {},
   "source": [
    "[Scikit-Learn](http://scikit-learn.org/) has more full-featured decision tree building functions, and other types of machine learning algorithms. We'll use scikit-learn's decision forest building algoirthm in our lab.\n",
    "\n",
    "### The ID3 and C4.5 Algorithms\n",
    "[Ross Quinlan](https://en.wikipedia.org/wiki/Ross_Quinlan) invented the ID3 algorithm that uses entropy and information gain to recursively create decision trees. This algorithm had some weaknesses, such as the inability to handle numerical attributes or attributes with missing values. His extension to ID3, C4.5, addressed those weaknesses.\n",
    "\n",
    "### Regressor versus Classifier\n",
    "It is commonly though that decision trees (and random forests) are *discrete* algorithms. In other words, *classifiers* rather than *regressors*. But that's not true, decision trees can work with analytic data just as easily.\n",
    "\n",
    "Here's three regressors with three different tree depths learning models for a sine curve!"
   ]
  },
  {
   "cell_type": "markdown",
   "metadata": {},
   "source": [
    "This is also an **overfitting** case. \n",
    "\n",
    "It’s unexpected to get overfitting for all values of `max_features`. However, according to sklearn documentation for decision tree, the search for a split does not stop until at least one valid partition of the node samples is found, even if it requires to effectively inspect more than `max_features` features"
   ]
  },
  {
   "cell_type": "code",
   "execution_count": null,
   "metadata": {},
   "outputs": [],
   "source": [
    "# NOTES - W2L2\n",
    "\n",
    "# 3.00 pm - 15 mins\n",
    "# Refer here from the ml - svm notebook\n",
    "# Professor discussing dataset\n",
    "# Target - combination of weather + precip \n",
    "# Not done yet, we'll try if possible to predict something not easy\n",
    "\n",
    "# Talks about dataset, i'll list down core points / anything interesting\n",
    "# Teaches the shift up transformation \n",
    "# Snow fall means more than 1 row .. 1 hour isn't snow\n",
    "# EDA - maybe add another column defined snow\n",
    "# Handle imbalance - if as is, dec tree will make mistake\n",
    "\n",
    "# 15 mins\n",
    "# Next, Prof revises the nb\n",
    "# Gini index - interesting \n",
    "# Mushroom review - hello world\n",
    "# Explaining IRIS target cols - sometimes binary better - sometimes num / letters\n",
    "# train test split - basics\n",
    "# ROC / AUC - tells you how deep a tree can be where train accuracy increases but test accuracy decreases \n",
    "# - helps tell you where to cut\n",
    "# These max_depth like params - hyper parameters\n",
    "# Next, a number of splits, number of samples, next number of features\n",
    "# However, sometimes trees turn out be junk\n",
    "\n",
    "# 15 mins \n",
    "# Now, we gen some data using distributions, I think to test\n",
    "# gausian - mean 0 sd 10 \n",
    "# Next we have y, which is sum of 2 features\n",
    "# So our y is indep of 2 random features\n",
    "# normal is more disorder than pois / binomial - i.e. has more entropy \n",
    "# since algo like entropy - it will learn, even though no need\n",
    "# and a tree will come which is .. well useless\n",
    "# we start by plotting features\n",
    "# look at first graph .. see patterns, co related .. second one .. nothing \n",
    "# now we train a dec tree reg and plot feature importance\n",
    "# the most imp feature .. is the random .. and it was not used ! So conclusion - EASY TO BUILD WRONG DEC TREE\n",
    "# so most peps for Rf .. but we lose explainability\n",
    "# but exp ML Engg go for dec tree . Buuut play with hyper parameters \n",
    "# Now, how to fix ?\n",
    "# we see, no limit on depth, no limit on n of leaf thus can overfit\n",
    "# so we use tech to resolve - k fold cross validation\n",
    "# so we train model using k fold cross validation\n",
    "# we use shuffle split, for every split, we do a diff fit, check why doesn't work\n",
    "# Here you'll see that it tells correct mvp featuers\n",
    "\n",
    "# 15 mins\n",
    "# That was tech 1 - cross val - essentially not allowing decision tree to go full on by heart\n",
    "# Second is pruning - a bit complicated - alpha - measure of pruning, calc for train and test and check where meet\n",
    "# So here you cut off the tree there\n",
    "# thats tech 2 - \n",
    "# now we have max depth -wwe see that deeper the tree more erratic it gets\n",
    "# lesson - don't allow tree to go too deep\n",
    "# that's tech 3\n",
    "# next min sample split - more samples - more chance by heart\n",
    "# need I do all that ? no api does that, ritzer CV i think\n",
    "# note : Grid Search CV takes time - So start early\n",
    "# don't do just 1 train 1 test .. instead go for multiple run, multiple combos\n",
    "# possible to find hyper param before train - extra\n",
    "# max feature, min_sample_leafs - These 2 as well, overall these 6 \n",
    "# Play along with these, as well as go for multiple samples \n",
    "# Post that, also try to find the parameters for a tree that has better results\n",
    "# Damn just saw ki C4.5 bhi tha .. to handle numerical values\n",
    "\n",
    "# 15 mins \n",
    "# In search CVs if answer is in extremes, then not sure, start again \n",
    "# Don't give it a huge range \n",
    "# Algo - always compare with dec tree to benchmark \n",
    "# Regression - just compare less than and more than \n",
    "# wind pattern, might prove to be important col \n",
    "# consider data over lake, why ? coz lake default dark \n",
    "# move back to svm nb "
   ]
  },
  {
   "cell_type": "code",
   "execution_count": null,
   "metadata": {
    "execution": {
     "iopub.status.busy": "2023-01-17T20:53:58.061398Z",
     "iopub.status.idle": "2023-01-17T20:53:58.061954Z",
     "shell.execute_reply": "2023-01-17T20:53:58.061638Z",
     "shell.execute_reply.started": "2023-01-17T20:53:58.061599Z"
    }
   },
   "outputs": [],
   "source": [
    "# Create a random dataset\n",
    "rng = np.random.RandomState(1)\n",
    "X = np.sort(5 * rng.rand(80, 1), axis=0)\n",
    "y = np.sin(X).ravel()\n",
    "y[::5] += 3 * (0.5 - rng.rand(16))\n",
    "\n",
    "# Fit regression model\n",
    "regr_1 = DecisionTreeRegressor(max_depth=2)\n",
    "regr_2 = DecisionTreeRegressor(max_depth=5)\n",
    "regr_3 = DecisionTreeRegressor(max_depth=10)\n",
    "regr_1.fit(X, y)\n",
    "regr_2.fit(X, y)\n",
    "regr_3.fit(X, y)\n",
    "\n",
    "# Predict\n",
    "X_test = np.arange(0.0, 5.0, 0.01)[:, np.newaxis]\n",
    "y_1 = regr_1.predict(X_test)\n",
    "y_2 = regr_2.predict(X_test)\n",
    "y_3 = regr_3.predict(X_test)"
   ]
  },
  {
   "cell_type": "code",
   "execution_count": null,
   "metadata": {
    "execution": {
     "iopub.status.busy": "2023-01-17T20:53:58.063671Z",
     "iopub.status.idle": "2023-01-17T20:53:58.063873Z",
     "shell.execute_reply": "2023-01-17T20:53:58.063779Z",
     "shell.execute_reply.started": "2023-01-17T20:53:58.063770Z"
    }
   },
   "outputs": [],
   "source": [
    "plt.scatter(X, y, s=20, edgecolor=\"black\", c=\"darkorange\", label=\"data\")\n",
    "plt.plot(X_test, y_1, color=\"cornflowerblue\", label=\"max_depth=2\", linewidth=2)\n",
    "plt.plot(X_test, y_2, color=\"yellowgreen\", label=\"max_depth=5\", linewidth=2)\n",
    "plt.plot(X_test, y_3, color=\"orange\", label=\"max_depth=10\", linewidth=2)\n",
    "plt.xlabel(\"data\")\n",
    "plt.ylabel(\"target\")\n",
    "plt.title(\"Decision Tree Regression\")\n",
    "plt.legend()"
   ]
  },
  {
   "cell_type": "code",
   "execution_count": null,
   "metadata": {
    "execution": {
     "iopub.status.busy": "2023-01-17T20:53:58.065700Z",
     "iopub.status.idle": "2023-01-17T20:53:58.066370Z",
     "shell.execute_reply": "2023-01-17T20:53:58.066238Z",
     "shell.execute_reply.started": "2023-01-17T20:53:58.066221Z"
    }
   },
   "outputs": [],
   "source": [
    "plt.scatter(X, y, s=20, edgecolor=\"black\", c=\"darkorange\", label=\"data\")\n",
    "plt.plot(X_test, y_1, color=\"cornflowerblue\", label=\"max_depth=2\", linewidth=2)\n",
    "plt.xlabel(\"data\")\n",
    "plt.ylabel(\"target\")\n",
    "plt.title(\"Decision Tree Regression\")\n",
    "plt.legend()"
   ]
  },
  {
   "cell_type": "code",
   "execution_count": null,
   "metadata": {
    "execution": {
     "iopub.status.busy": "2023-01-17T20:53:58.067579Z",
     "iopub.status.idle": "2023-01-17T20:53:58.067893Z",
     "shell.execute_reply": "2023-01-17T20:53:58.067724Z",
     "shell.execute_reply.started": "2023-01-17T20:53:58.067710Z"
    }
   },
   "outputs": [],
   "source": [
    "plt.scatter(X, y, s=20, edgecolor=\"black\", c=\"darkorange\", label=\"data\")\n",
    "plt.plot(X_test, y_2, color=\"yellowgreen\", label=\"max_depth=5\", linewidth=2)\n",
    "plt.xlabel(\"data\")\n",
    "plt.ylabel(\"target\")\n",
    "plt.title(\"Decision Tree Regression\")\n",
    "plt.legend()"
   ]
  },
  {
   "cell_type": "code",
   "execution_count": null,
   "metadata": {
    "execution": {
     "iopub.status.busy": "2023-01-17T20:53:58.068866Z",
     "iopub.status.idle": "2023-01-17T20:53:58.069383Z",
     "shell.execute_reply": "2023-01-17T20:53:58.069281Z",
     "shell.execute_reply.started": "2023-01-17T20:53:58.069268Z"
    }
   },
   "outputs": [],
   "source": [
    "plt.scatter(X, y, s=20, edgecolor=\"black\", c=\"darkorange\", label=\"data\")\n",
    "plt.plot(X_test, y_3, color=\"orange\", label=\"max_depth=10\", linewidth=2)\n",
    "plt.xlabel(\"data\")\n",
    "plt.ylabel(\"target\")\n",
    "plt.title(\"Decision Tree Regression\")\n",
    "plt.legend()"
   ]
  },
  {
   "cell_type": "markdown",
   "metadata": {},
   "source": [
    "### Overfit\n",
    "The idea of overfitting means that your prediction model is too *biased* towards your training data. \n",
    "\n",
    "Think about the hypothetical case where a node in our mushroom decision tree has 1,000 examples that are poisonous and only 1 that is edible. \n",
    "\n",
    "Should we really split the tree again here, or would it be a better idea to just assume that all mushrooms at this node are poisonous? \n",
    "\n",
    "Perhaps that single edible mushroom was simply mislabeled by our scientists. Or perhaps there is some attribute about mushrooms that the scientists did not take into account that might better split the examples earlier on.\n",
    "\n",
    "It’s a good idea to assume that there is *noise* in our observations. If we don’t, we may build a tree too affected by this noise, and thus have it overfit to our training examples. New examples, then, could have lower classification accuracy.\n",
    "\n",
    "To alleviate overfit, it is custom to [prune](https://en.wikipedia.org/wiki/Pruning_(decision_trees)) decision trees, or remove sections of the tree that provide little power to classify instances.\n",
    "\n",
    "<br />\n",
    "<center>\n",
    "<img src = ipynb.images/pruned.jpeg width = 600 />\n",
    "</center>\n",
    "\n",
    "You should also be on the lookout for columns that can take on a large number of distinct values. For example, suppose that one is building a decision tree for some data describing the customers of a business. Information gain is often used to decide which of the attributes are the most relevant, so they can be tested near the root of the tree. One of the columns might be the customer's membership number. This attribute has a high mutual information, because it uniquely identifies each customer, but we do not want to include it in any decision tree. Deciding how to treat a customer based on their membership number is unlikely to generalize to customers we haven't seen before, and so leads to overfitting. This issue can also occur if the observations being tested have multiple columns with many distinct values. In this case, it can cause the information gain of each of these attributes to be much higher than those without as many distinct values.\n",
    "\n",
    "This concept is very reminiscent of **scaling**. We already know from INFO 6105 that we need to ensure, when learning a dataset with any kind of learning algorithm, that value columns *have the same range*, otherwise the column with the bigger range will always dwarf calculations from columns with smaller ranges. Similarly, categorical columns with many categories will dwarf categorical columns with a small number of categories.\n",
    "\n",
    "### Feature selection\n",
    "Feature selection based on impurity reduction is biased towards preferring variables with more categories. When the dataset has two (or more) correlated features, then from the point of view of the model, any of these correlated features can be used as the predictor, with no concrete preference of one over the others. \n",
    "\n",
    "But once one of them is used, the importance of others is significantly reduced since effectively the impurity they can remove is already removed by the first feature. \n",
    "\n",
    "As a consequence, they will have a lower reported importance. This is not an issue when we want to use feature selection to reduce overfitting, since it makes sense to remove features that are mostly duplicated by other features. But when interpreting the data, it can lead to the *incorrect conclusion that one of the variables is a strong predictor while the others in the same group are unimportant*, while actually they are very close in terms of their relationship with the response variable.\n",
    "\n",
    "### Lesson learned\n",
    "You can now see that the common mistake made when using a decision tree (or random forest) comes from a combination of two factors:\n",
    "1. Using default parameters\n",
    "2. Using the `feature_importances_` method from sklearn\n",
    "\n",
    "In general:\n",
    "- Default parameters are not necessarily safe\n",
    "- Don’t assume that the pre-coded functions such as `feature_importance_` work the way you are used to. Always look at documentation.\n",
    "- Always assess the performance of the model on a test set even if your objective is not prediction\n",
    "- Use k-fold corss validation rather than train_test_split\n",
    "- Modify default parameters or prune your tree to reduce overfit and create a more generalizable tree that works better for new data\n",
    "\n",
    "How could you apply decision trees to data science problems in general? For one, you could just extensively compile *hundreds* of ML statistics, put them all in a spreadsheet, and let *your laptop tell you which statistics are the most important* by having it build *good* decision trees (most important factors are closer to the root of the tree). Then you can model these parameters directly."
   ]
  },
  {
   "cell_type": "markdown",
   "metadata": {},
   "source": [
    "# Homework\n",
    "Apply our decision tree algorithm to a research dataset. Compute the entropy of the dataset. Create a decision tree model and score the model, and then a random forest model from `sklearn`. Make sure not to learn a model by heart (overfit)! *Explain* (interpret) the model: If you were to give another human instructions for how to predict, what `if-then-else` *instructions* would you give them?\n",
    "\n",
    ">**Rubrik**: Your homework will not be graded based on how well you predict, we already know that when the dataset is predictable with *if-then-else* considerations (i.e. information entropy considerations), decision tress and random forests can do a pretty good job. Instead, your homework will be graded based on how *small* your model is relative to the number of options. Think about it as how *explainable* your model is (what model do you think it better: (*turn right*, or \"*turn left, then left again, and finally another left*?. Overfit and you get a not-so-good grade. Underfitting is better than overfitting. But getting it *just right* is best."
   ]
  },
  {
   "cell_type": "markdown",
   "metadata": {},
   "source": [
    "# Research dataset\n",
    "Instead of working on a toy dataset like UCI Mushrooms, we are going to work throughout the semester applying ML algorithms to see if we can predict [Lake Effect Snow](https://en.wikipedia.org/wiki/Lake-effect_snow) in Chicago. I've been working on this dataset with a Master's thesis student, and you can find the data and the processing notebooks [here](https://derpyhusky.dog/).\n",
    "\n",
    "This what, you can also learn how to **scientific research** based on data science and Machine Learning.\n",
    "\n",
    "We have satellite and weather station data one these regions of the midwest:\n",
    "\n",
    "<br />\n",
    "<center>\n",
    "<img src = ipynb.images/midwest.png width = 400 />\n",
    "</center>\n",
    "\n",
    "If we combine **satellite data** over Lake Michigan with **weather station data** close to the lakeshore of Lake Michigan, can we reliably predict Lake Effect Snow 3 days (or less?) in advance? Snow is when the temperature is below freezing and the rainfall is not zero.\n",
    "\n",
    "The data and its processing is [here](https://derpyhusky.dog/)\n",
    "```\n",
    "Username: info6106student\n",
    "Password: !nfo_$hsare\n",
    "```"
   ]
  },
  {
   "cell_type": "markdown",
   "metadata": {},
   "source": [
    "# References\n",
    "- [Decision Tree Learning](http://gieseanw.wordpress.com/2012/03/03/decision-tree-learning/).\n",
    "- [Decision Trees with sklearn](https://scikit-learn.org/stable/modules/tree.html).\n",
    "- [Gradient tree boosting](https://en.wikipedia.org/wiki/Gradient_boosting#Gradient_tree_boosting): [XGBoost](https://xgboost.readthedocs.io/en/stable/) implementation\n",
    "- [ExtraTrees](https://en.wikipedia.org/wiki/Random_forest#ExtraTrees): [sklearn.ensemble.ExtraTreesClassifier](https://scikit-learn.org/stable/modules/generated/sklearn.ensemble.ExtraTreesClassifier.html) implementation\n",
    "\n",
    "- [What is a Lake Effect Snow? - National Weather Service](https://www.weather.gov/safety/winter-lake-effect-snow)\n",
    "- [SciJinks Lake Effect Snow](https://scijinks.gov/lake-snow/)"
   ]
  },
  {
   "cell_type": "code",
   "execution_count": null,
   "metadata": {},
   "outputs": [],
   "source": []
  }
 ],
 "metadata": {
  "kernelspec": {
   "display_name": "Python 3 (ipykernel)",
   "language": "python",
   "name": "python3"
  },
  "language_info": {
   "codemirror_mode": {
    "name": "ipython",
    "version": 3
   },
   "file_extension": ".py",
   "mimetype": "text/x-python",
   "name": "python",
   "nbconvert_exporter": "python",
   "pygments_lexer": "ipython3",
   "version": "3.9.13"
  }
 },
 "nbformat": 4,
 "nbformat_minor": 4
}
